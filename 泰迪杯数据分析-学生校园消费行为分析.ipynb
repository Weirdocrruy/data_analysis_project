{
 "cells": [
  {
   "cell_type": "code",
   "execution_count": 238,
   "metadata": {},
   "outputs": [],
   "source": [
    "import numpy as np\n",
    "import pandas as pd"
   ]
  },
  {
   "cell_type": "code",
   "execution_count": 239,
   "metadata": {},
   "outputs": [],
   "source": [
    "data1 = pd.read_csv(r'E:/数据分析数据集/泰迪杯数据分析题/data1.csv',encoding='gbk')\n",
    "data2 = pd.read_csv(r'E:/数据分析数据集/泰迪杯数据分析题/data2.csv',encoding='gbk')\n",
    "data3 = pd.read_csv(r'E:/数据分析数据集/泰迪杯数据分析题/data3.csv',encoding='gbk')"
   ]
  },
  {
   "cell_type": "code",
   "execution_count": 240,
   "metadata": {},
   "outputs": [
    {
     "data": {
      "text/html": [
       "<div>\n",
       "<style scoped>\n",
       "    .dataframe tbody tr th:only-of-type {\n",
       "        vertical-align: middle;\n",
       "    }\n",
       "\n",
       "    .dataframe tbody tr th {\n",
       "        vertical-align: top;\n",
       "    }\n",
       "\n",
       "    .dataframe thead th {\n",
       "        text-align: right;\n",
       "    }\n",
       "</style>\n",
       "<table border=\"1\" class=\"dataframe\">\n",
       "  <thead>\n",
       "    <tr style=\"text-align: right;\">\n",
       "      <th></th>\n",
       "      <th>Index</th>\n",
       "      <th>CardNo</th>\n",
       "      <th>Sex</th>\n",
       "      <th>Major</th>\n",
       "      <th>AccessCardNo</th>\n",
       "    </tr>\n",
       "  </thead>\n",
       "  <tbody>\n",
       "    <tr>\n",
       "      <th>0</th>\n",
       "      <td>1</td>\n",
       "      <td>180001</td>\n",
       "      <td>男</td>\n",
       "      <td>18国际金融</td>\n",
       "      <td>19762330</td>\n",
       "    </tr>\n",
       "    <tr>\n",
       "      <th>1</th>\n",
       "      <td>2</td>\n",
       "      <td>180002</td>\n",
       "      <td>男</td>\n",
       "      <td>18国际金融</td>\n",
       "      <td>20521594</td>\n",
       "    </tr>\n",
       "    <tr>\n",
       "      <th>2</th>\n",
       "      <td>3</td>\n",
       "      <td>180003</td>\n",
       "      <td>男</td>\n",
       "      <td>18国际金融</td>\n",
       "      <td>20513946</td>\n",
       "    </tr>\n",
       "    <tr>\n",
       "      <th>3</th>\n",
       "      <td>4</td>\n",
       "      <td>180004</td>\n",
       "      <td>男</td>\n",
       "      <td>18国际金融</td>\n",
       "      <td>20018058</td>\n",
       "    </tr>\n",
       "    <tr>\n",
       "      <th>4</th>\n",
       "      <td>5</td>\n",
       "      <td>180005</td>\n",
       "      <td>男</td>\n",
       "      <td>18国际金融</td>\n",
       "      <td>20945770</td>\n",
       "    </tr>\n",
       "  </tbody>\n",
       "</table>\n",
       "</div>"
      ],
      "text/plain": [
       "   Index  CardNo Sex   Major  AccessCardNo\n",
       "0      1  180001   男  18国际金融      19762330\n",
       "1      2  180002   男  18国际金融      20521594\n",
       "2      3  180003   男  18国际金融      20513946\n",
       "3      4  180004   男  18国际金融      20018058\n",
       "4      5  180005   男  18国际金融      20945770"
      ]
     },
     "execution_count": 240,
     "metadata": {},
     "output_type": "execute_result"
    }
   ],
   "source": [
    "data1.head()"
   ]
  },
  {
   "cell_type": "code",
   "execution_count": 241,
   "metadata": {},
   "outputs": [],
   "source": [
    "data1.columns = ['序号','校园卡号','性别','专业名称','门禁卡号']"
   ]
  },
  {
   "cell_type": "code",
   "execution_count": 242,
   "metadata": {},
   "outputs": [
    {
     "data": {
      "text/plain": [
       "序号       int64\n",
       "校园卡号     int64\n",
       "性别      object\n",
       "专业名称    object\n",
       "门禁卡号     int64\n",
       "dtype: object"
      ]
     },
     "execution_count": 242,
     "metadata": {},
     "output_type": "execute_result"
    }
   ],
   "source": [
    "data1.dtypes"
   ]
  },
  {
   "cell_type": "code",
   "execution_count": 243,
   "metadata": {},
   "outputs": [
    {
     "name": "stdout",
     "output_type": "stream",
     "text": [
      "<class 'pandas.core.frame.DataFrame'>\n",
      "RangeIndex: 4341 entries, 0 to 4340\n",
      "Data columns (total 5 columns):\n",
      " #   Column  Non-Null Count  Dtype \n",
      "---  ------  --------------  ----- \n",
      " 0   序号      4341 non-null   int64 \n",
      " 1   校园卡号    4341 non-null   int64 \n",
      " 2   性别      4341 non-null   object\n",
      " 3   专业名称    4341 non-null   object\n",
      " 4   门禁卡号    4341 non-null   int64 \n",
      "dtypes: int64(3), object(2)\n",
      "memory usage: 169.7+ KB\n"
     ]
    }
   ],
   "source": [
    "data1.info()"
   ]
  },
  {
   "cell_type": "code",
   "execution_count": 244,
   "metadata": {},
   "outputs": [
    {
     "data": {
      "text/html": [
       "<div>\n",
       "<style scoped>\n",
       "    .dataframe tbody tr th:only-of-type {\n",
       "        vertical-align: middle;\n",
       "    }\n",
       "\n",
       "    .dataframe tbody tr th {\n",
       "        vertical-align: top;\n",
       "    }\n",
       "\n",
       "    .dataframe thead th {\n",
       "        text-align: right;\n",
       "    }\n",
       "</style>\n",
       "<table border=\"1\" class=\"dataframe\">\n",
       "  <thead>\n",
       "    <tr style=\"text-align: right;\">\n",
       "      <th></th>\n",
       "      <th>Index</th>\n",
       "      <th>CardNo</th>\n",
       "      <th>PeoNo</th>\n",
       "      <th>Date</th>\n",
       "      <th>Money</th>\n",
       "      <th>FundMoney</th>\n",
       "      <th>Surplus</th>\n",
       "      <th>CardCount</th>\n",
       "      <th>Type</th>\n",
       "      <th>TermNo</th>\n",
       "      <th>TermSerNo</th>\n",
       "      <th>conOperNo</th>\n",
       "      <th>OperNo</th>\n",
       "      <th>Dept</th>\n",
       "    </tr>\n",
       "  </thead>\n",
       "  <tbody>\n",
       "    <tr>\n",
       "      <th>0</th>\n",
       "      <td>117342773</td>\n",
       "      <td>181316</td>\n",
       "      <td>20181316</td>\n",
       "      <td>2019/4/20 20:17</td>\n",
       "      <td>3.0</td>\n",
       "      <td>0.0</td>\n",
       "      <td>186.1</td>\n",
       "      <td>818</td>\n",
       "      <td>消费</td>\n",
       "      <td>49</td>\n",
       "      <td>NaN</td>\n",
       "      <td>NaN</td>\n",
       "      <td>235</td>\n",
       "      <td>第一食堂</td>\n",
       "    </tr>\n",
       "    <tr>\n",
       "      <th>1</th>\n",
       "      <td>117344766</td>\n",
       "      <td>181316</td>\n",
       "      <td>20181316</td>\n",
       "      <td>2019/4/20 8:47</td>\n",
       "      <td>0.5</td>\n",
       "      <td>0.0</td>\n",
       "      <td>199.5</td>\n",
       "      <td>814</td>\n",
       "      <td>消费</td>\n",
       "      <td>63</td>\n",
       "      <td>NaN</td>\n",
       "      <td>NaN</td>\n",
       "      <td>27</td>\n",
       "      <td>第二食堂</td>\n",
       "    </tr>\n",
       "    <tr>\n",
       "      <th>2</th>\n",
       "      <td>117346258</td>\n",
       "      <td>181316</td>\n",
       "      <td>20181316</td>\n",
       "      <td>2019/4/22 7:27</td>\n",
       "      <td>0.5</td>\n",
       "      <td>0.0</td>\n",
       "      <td>183.1</td>\n",
       "      <td>820</td>\n",
       "      <td>消费</td>\n",
       "      <td>63</td>\n",
       "      <td>NaN</td>\n",
       "      <td>NaN</td>\n",
       "      <td>27</td>\n",
       "      <td>第二食堂</td>\n",
       "    </tr>\n",
       "    <tr>\n",
       "      <th>3</th>\n",
       "      <td>117308066</td>\n",
       "      <td>181317</td>\n",
       "      <td>20181317</td>\n",
       "      <td>2019/4/21 7:46</td>\n",
       "      <td>3.5</td>\n",
       "      <td>0.0</td>\n",
       "      <td>50.2</td>\n",
       "      <td>211</td>\n",
       "      <td>消费</td>\n",
       "      <td>196</td>\n",
       "      <td>NaN</td>\n",
       "      <td>NaN</td>\n",
       "      <td>133</td>\n",
       "      <td>好利来食品店</td>\n",
       "    </tr>\n",
       "    <tr>\n",
       "      <th>4</th>\n",
       "      <td>117309001</td>\n",
       "      <td>181317</td>\n",
       "      <td>20181317</td>\n",
       "      <td>2019/4/19 22:31</td>\n",
       "      <td>2.5</td>\n",
       "      <td>0.0</td>\n",
       "      <td>61.7</td>\n",
       "      <td>209</td>\n",
       "      <td>消费</td>\n",
       "      <td>146</td>\n",
       "      <td>NaN</td>\n",
       "      <td>NaN</td>\n",
       "      <td>48</td>\n",
       "      <td>好利来食品店</td>\n",
       "    </tr>\n",
       "  </tbody>\n",
       "</table>\n",
       "</div>"
      ],
      "text/plain": [
       "       Index  CardNo     PeoNo             Date  Money  FundMoney  Surplus  \\\n",
       "0  117342773  181316  20181316  2019/4/20 20:17    3.0        0.0    186.1   \n",
       "1  117344766  181316  20181316   2019/4/20 8:47    0.5        0.0    199.5   \n",
       "2  117346258  181316  20181316   2019/4/22 7:27    0.5        0.0    183.1   \n",
       "3  117308066  181317  20181317   2019/4/21 7:46    3.5        0.0     50.2   \n",
       "4  117309001  181317  20181317  2019/4/19 22:31    2.5        0.0     61.7   \n",
       "\n",
       "   CardCount Type  TermNo TermSerNo  conOperNo  OperNo    Dept  \n",
       "0        818   消费      49       NaN        NaN     235    第一食堂  \n",
       "1        814   消费      63       NaN        NaN      27    第二食堂  \n",
       "2        820   消费      63       NaN        NaN      27    第二食堂  \n",
       "3        211   消费     196       NaN        NaN     133  好利来食品店  \n",
       "4        209   消费     146       NaN        NaN      48  好利来食品店  "
      ]
     },
     "execution_count": 244,
     "metadata": {},
     "output_type": "execute_result"
    }
   ],
   "source": [
    "data2.head()"
   ]
  },
  {
   "cell_type": "code",
   "execution_count": 245,
   "metadata": {},
   "outputs": [],
   "source": [
    "data2.columns = ['流水号', '校园卡号', '校园卡编号', '消费时间', '消费金额', '存储金额', '余额', '消费次数', '消费类型', '消费项目编码', '消费项目序列号', '消费操作编码', '操作编码', '消费地点']"
   ]
  },
  {
   "cell_type": "code",
   "execution_count": 246,
   "metadata": {},
   "outputs": [
    {
     "data": {
      "text/plain": [
       "流水号          int64\n",
       "校园卡号         int64\n",
       "校园卡编号        int64\n",
       "消费时间        object\n",
       "消费金额       float64\n",
       "存储金额       float64\n",
       "余额         float64\n",
       "消费次数         int64\n",
       "消费类型        object\n",
       "消费项目编码       int64\n",
       "消费项目序列号     object\n",
       "消费操作编码     float64\n",
       "操作编码         int64\n",
       "消费地点        object\n",
       "dtype: object"
      ]
     },
     "execution_count": 246,
     "metadata": {},
     "output_type": "execute_result"
    }
   ],
   "source": [
    "data2.dtypes"
   ]
  },
  {
   "cell_type": "code",
   "execution_count": 247,
   "metadata": {
    "scrolled": true
   },
   "outputs": [
    {
     "name": "stdout",
     "output_type": "stream",
     "text": [
      "<class 'pandas.core.frame.DataFrame'>\n",
      "RangeIndex: 519367 entries, 0 to 519366\n",
      "Data columns (total 14 columns):\n",
      " #   Column   Non-Null Count   Dtype  \n",
      "---  ------   --------------   -----  \n",
      " 0   流水号      519367 non-null  int64  \n",
      " 1   校园卡号     519367 non-null  int64  \n",
      " 2   校园卡编号    519367 non-null  int64  \n",
      " 3   消费时间     519367 non-null  object \n",
      " 4   消费金额     519367 non-null  float64\n",
      " 5   存储金额     519367 non-null  float64\n",
      " 6   余额       519367 non-null  float64\n",
      " 7   消费次数     519367 non-null  int64  \n",
      " 8   消费类型     519367 non-null  object \n",
      " 9   消费项目编码   519367 non-null  int64  \n",
      " 10  消费项目序列号  7261 non-null    object \n",
      " 11  消费操作编码   251 non-null     float64\n",
      " 12  操作编码     519367 non-null  int64  \n",
      " 13  消费地点     519367 non-null  object \n",
      "dtypes: float64(4), int64(6), object(4)\n",
      "memory usage: 55.5+ MB\n"
     ]
    }
   ],
   "source": [
    "data2.info()"
   ]
  },
  {
   "cell_type": "code",
   "execution_count": 248,
   "metadata": {},
   "outputs": [],
   "source": [
    "data2.drop(['消费项目序列号','消费操作编码'],axis=1,inplace=True)"
   ]
  },
  {
   "cell_type": "code",
   "execution_count": 249,
   "metadata": {},
   "outputs": [],
   "source": [
    "data2['消费时间'] = pd.to_datetime(data2['消费时间'],format='%Y/%m/%d %H:%M')"
   ]
  },
  {
   "cell_type": "code",
   "execution_count": 250,
   "metadata": {},
   "outputs": [
    {
     "data": {
      "text/plain": [
       "0        2019-04-20 20:17:00\n",
       "1        2019-04-20 08:47:00\n",
       "2        2019-04-22 07:27:00\n",
       "3        2019-04-21 07:46:00\n",
       "4        2019-04-19 22:31:00\n",
       "                 ...        \n",
       "519362   2019-04-11 17:48:00\n",
       "519363   2019-04-11 17:49:00\n",
       "519364   2019-04-11 07:34:00\n",
       "519365   2019-04-12 07:28:00\n",
       "519366   2019-04-11 11:56:00\n",
       "Name: 消费时间, Length: 519367, dtype: datetime64[ns]"
      ]
     },
     "execution_count": 250,
     "metadata": {},
     "output_type": "execute_result"
    }
   ],
   "source": [
    "data2['消费时间']"
   ]
  },
  {
   "cell_type": "code",
   "execution_count": 251,
   "metadata": {},
   "outputs": [
    {
     "data": {
      "text/plain": [
       "第二食堂      154873\n",
       "第五食堂      117615\n",
       "第一食堂       62090\n",
       "第四食堂       60841\n",
       "第三食堂       52103\n",
       "好利来食品店     31781\n",
       "财务处        18295\n",
       "红太阳超市      12942\n",
       "水电缴费处       3388\n",
       "教师食堂        2145\n",
       "医务室          794\n",
       "第二图书馆        376\n",
       "第一图书馆        291\n",
       "工商系部         197\n",
       "自然科学书库       195\n",
       "财务部          170\n",
       "第七教学楼        165\n",
       "基础课部         133\n",
       "艺术设计学院       131\n",
       "第六教学楼        130\n",
       "人文社科         109\n",
       "第二教学楼         99\n",
       "第五教学楼         99\n",
       "飞凤轩宿管办        86\n",
       "机电系           78\n",
       "第四教学楼         56\n",
       "第三教学楼         52\n",
       "宿管办           47\n",
       "青鸾苑宿管办        25\n",
       "第一教学楼         23\n",
       "财经系           23\n",
       "外语系           12\n",
       "旅游系            3\n",
       "Name: 消费地点, dtype: int64"
      ]
     },
     "execution_count": 251,
     "metadata": {},
     "output_type": "execute_result"
    }
   ],
   "source": [
    "data2['消费地点'].value_counts()"
   ]
  },
  {
   "cell_type": "code",
   "execution_count": 252,
   "metadata": {},
   "outputs": [
    {
     "data": {
      "text/html": [
       "<div>\n",
       "<style scoped>\n",
       "    .dataframe tbody tr th:only-of-type {\n",
       "        vertical-align: middle;\n",
       "    }\n",
       "\n",
       "    .dataframe tbody tr th {\n",
       "        vertical-align: top;\n",
       "    }\n",
       "\n",
       "    .dataframe thead th {\n",
       "        text-align: right;\n",
       "    }\n",
       "</style>\n",
       "<table border=\"1\" class=\"dataframe\">\n",
       "  <thead>\n",
       "    <tr style=\"text-align: right;\">\n",
       "      <th></th>\n",
       "      <th>mean</th>\n",
       "      <th>50%</th>\n",
       "      <th>min</th>\n",
       "      <th>max</th>\n",
       "    </tr>\n",
       "  </thead>\n",
       "  <tbody>\n",
       "    <tr>\n",
       "      <th>消费金额</th>\n",
       "      <td>4.087279</td>\n",
       "      <td>3.0</td>\n",
       "      <td>0.0</td>\n",
       "      <td>900.00</td>\n",
       "    </tr>\n",
       "    <tr>\n",
       "      <th>存储金额</th>\n",
       "      <td>3.949758</td>\n",
       "      <td>0.0</td>\n",
       "      <td>0.0</td>\n",
       "      <td>9800.00</td>\n",
       "    </tr>\n",
       "    <tr>\n",
       "      <th>余额</th>\n",
       "      <td>78.495517</td>\n",
       "      <td>64.5</td>\n",
       "      <td>0.0</td>\n",
       "      <td>9903.61</td>\n",
       "    </tr>\n",
       "    <tr>\n",
       "      <th>消费次数</th>\n",
       "      <td>1016.565421</td>\n",
       "      <td>749.0</td>\n",
       "      <td>1.0</td>\n",
       "      <td>14575.00</td>\n",
       "    </tr>\n",
       "  </tbody>\n",
       "</table>\n",
       "</div>"
      ],
      "text/plain": [
       "             mean    50%  min       max\n",
       "消费金额     4.087279    3.0  0.0    900.00\n",
       "存储金额     3.949758    0.0  0.0   9800.00\n",
       "余额      78.495517   64.5  0.0   9903.61\n",
       "消费次数  1016.565421  749.0  1.0  14575.00"
      ]
     },
     "execution_count": 252,
     "metadata": {},
     "output_type": "execute_result"
    }
   ],
   "source": [
    "data2[['消费金额','存储金额','余额','消费次数']].describe().T[['mean', '50%', 'min', 'max']]"
   ]
  },
  {
   "cell_type": "code",
   "execution_count": 253,
   "metadata": {},
   "outputs": [
    {
     "data": {
      "text/html": [
       "<div>\n",
       "<style scoped>\n",
       "    .dataframe tbody tr th:only-of-type {\n",
       "        vertical-align: middle;\n",
       "    }\n",
       "\n",
       "    .dataframe tbody tr th {\n",
       "        vertical-align: top;\n",
       "    }\n",
       "\n",
       "    .dataframe thead th {\n",
       "        text-align: right;\n",
       "    }\n",
       "</style>\n",
       "<table border=\"1\" class=\"dataframe\">\n",
       "  <thead>\n",
       "    <tr style=\"text-align: right;\">\n",
       "      <th></th>\n",
       "      <th>Index</th>\n",
       "      <th>AccessCardNo</th>\n",
       "      <th>Date</th>\n",
       "      <th>Address</th>\n",
       "      <th>Access</th>\n",
       "      <th>Describe</th>\n",
       "    </tr>\n",
       "  </thead>\n",
       "  <tbody>\n",
       "    <tr>\n",
       "      <th>0</th>\n",
       "      <td>1330906</td>\n",
       "      <td>25558880</td>\n",
       "      <td>2019/4/1 0:00</td>\n",
       "      <td>第六教学楼[进门]</td>\n",
       "      <td>1</td>\n",
       "      <td>允许通过</td>\n",
       "    </tr>\n",
       "    <tr>\n",
       "      <th>1</th>\n",
       "      <td>1330907</td>\n",
       "      <td>18413143</td>\n",
       "      <td>2019/4/1 0:02</td>\n",
       "      <td>第六教学楼[出门]</td>\n",
       "      <td>1</td>\n",
       "      <td>允许通过</td>\n",
       "    </tr>\n",
       "    <tr>\n",
       "      <th>2</th>\n",
       "      <td>1331384</td>\n",
       "      <td>11642752</td>\n",
       "      <td>2019/4/1 0:00</td>\n",
       "      <td>飞凤轩[进门]</td>\n",
       "      <td>1</td>\n",
       "      <td>允许通过</td>\n",
       "    </tr>\n",
       "    <tr>\n",
       "      <th>3</th>\n",
       "      <td>1330908</td>\n",
       "      <td>24124155</td>\n",
       "      <td>2019/4/1 0:00</td>\n",
       "      <td>第六教学楼[出门]</td>\n",
       "      <td>1</td>\n",
       "      <td>允许通过</td>\n",
       "    </tr>\n",
       "    <tr>\n",
       "      <th>4</th>\n",
       "      <td>1331385</td>\n",
       "      <td>18629328</td>\n",
       "      <td>2019/4/1 0:11</td>\n",
       "      <td>飞凤轩[进门]</td>\n",
       "      <td>1</td>\n",
       "      <td>允许通过</td>\n",
       "    </tr>\n",
       "  </tbody>\n",
       "</table>\n",
       "</div>"
      ],
      "text/plain": [
       "     Index  AccessCardNo           Date    Address  Access Describe\n",
       "0  1330906      25558880  2019/4/1 0:00  第六教学楼[进门]       1     允许通过\n",
       "1  1330907      18413143  2019/4/1 0:02  第六教学楼[出门]       1     允许通过\n",
       "2  1331384      11642752  2019/4/1 0:00    飞凤轩[进门]       1     允许通过\n",
       "3  1330908      24124155  2019/4/1 0:00  第六教学楼[出门]       1     允许通过\n",
       "4  1331385      18629328  2019/4/1 0:11    飞凤轩[进门]       1     允许通过"
      ]
     },
     "execution_count": 253,
     "metadata": {},
     "output_type": "execute_result"
    }
   ],
   "source": [
    "data3.head()"
   ]
  },
  {
   "cell_type": "code",
   "execution_count": 254,
   "metadata": {},
   "outputs": [],
   "source": [
    "data3.columns = ['序号', '门禁卡号', '进出时间', '进出地点', '是否通过', '描述']"
   ]
  },
  {
   "cell_type": "code",
   "execution_count": 255,
   "metadata": {},
   "outputs": [
    {
     "data": {
      "text/plain": [
       "序号       int64\n",
       "门禁卡号     int64\n",
       "进出时间    object\n",
       "进出地点    object\n",
       "是否通过     int64\n",
       "描述      object\n",
       "dtype: object"
      ]
     },
     "execution_count": 255,
     "metadata": {},
     "output_type": "execute_result"
    }
   ],
   "source": [
    "data3.dtypes"
   ]
  },
  {
   "cell_type": "code",
   "execution_count": 256,
   "metadata": {},
   "outputs": [
    {
     "data": {
      "text/plain": [
       "0   2019-04-01 00:00:00\n",
       "1   2019-04-01 00:02:00\n",
       "2   2019-04-01 00:00:00\n",
       "Name: 进出时间, dtype: datetime64[ns]"
      ]
     },
     "execution_count": 256,
     "metadata": {},
     "output_type": "execute_result"
    }
   ],
   "source": [
    "data3['进出时间'] =  pd.to_datetime(data3['进出时间'],format='%Y/%m/%d %H:%M')\n",
    "data3.head(3)['进出时间']"
   ]
  },
  {
   "cell_type": "code",
   "execution_count": 257,
   "metadata": {},
   "outputs": [
    {
     "name": "stdout",
     "output_type": "stream",
     "text": [
      "<class 'pandas.core.frame.DataFrame'>\n",
      "RangeIndex: 43156 entries, 0 to 43155\n",
      "Data columns (total 6 columns):\n",
      " #   Column  Non-Null Count  Dtype         \n",
      "---  ------  --------------  -----         \n",
      " 0   序号      43156 non-null  int64         \n",
      " 1   门禁卡号    43156 non-null  int64         \n",
      " 2   进出时间    43156 non-null  datetime64[ns]\n",
      " 3   进出地点    43156 non-null  object        \n",
      " 4   是否通过    43156 non-null  int64         \n",
      " 5   描述      43156 non-null  object        \n",
      "dtypes: datetime64[ns](1), int64(3), object(2)\n",
      "memory usage: 2.0+ MB\n"
     ]
    }
   ],
   "source": [
    "data3.info()"
   ]
  },
  {
   "cell_type": "code",
   "execution_count": 258,
   "metadata": {},
   "outputs": [
    {
     "data": {
      "text/plain": [
       "飞凤轩[进门]      10689\n",
       "飞凤轩[出门]      10397\n",
       "第六教学楼[进门]     7713\n",
       "第六教学楼[出门]     7217\n",
       "青鸾苑[出门]       3318\n",
       "青鸾苑[进门]       2787\n",
       "第七教学楼[进门]      449\n",
       "第五教学楼[进门]      250\n",
       "第五教学楼[出门]      222\n",
       "第七教学楼[出门]      114\n",
       "Name: 进出地点, dtype: int64"
      ]
     },
     "execution_count": 258,
     "metadata": {},
     "output_type": "execute_result"
    }
   ],
   "source": [
    "data3['进出地点'].value_counts()"
   ]
  },
  {
   "cell_type": "code",
   "execution_count": 259,
   "metadata": {},
   "outputs": [
    {
     "data": {
      "text/plain": [
       "1    41749\n",
       "0     1407\n",
       "Name: 是否通过, dtype: int64"
      ]
     },
     "execution_count": 259,
     "metadata": {},
     "output_type": "execute_result"
    }
   ],
   "source": [
    "data3['是否通过'].value_counts()"
   ]
  },
  {
   "cell_type": "code",
   "execution_count": 260,
   "metadata": {},
   "outputs": [
    {
     "name": "stdout",
     "output_type": "stream",
     "text": [
      "删除异常值之前： (43156, 6)\n",
      "删除异常值之后： (41749, 6)\n"
     ]
    }
   ],
   "source": [
    "print('删除异常值之前：',data3.shape)\n",
    "data3 = data3[data3.loc[:,'是否通过'] != 0]\n",
    "print('删除异常值之后：',data3.shape)"
   ]
  },
  {
   "cell_type": "code",
   "execution_count": 261,
   "metadata": {},
   "outputs": [
    {
     "data": {
      "text/plain": [
       "Index(['序号', '校园卡号', '性别', '专业名称', '门禁卡号'], dtype='object')"
      ]
     },
     "execution_count": 261,
     "metadata": {},
     "output_type": "execute_result"
    }
   ],
   "source": [
    "data1.columns"
   ]
  },
  {
   "cell_type": "code",
   "execution_count": 262,
   "metadata": {},
   "outputs": [
    {
     "data": {
      "text/plain": [
       "Index(['序号', '门禁卡号', '进出时间', '进出地点', '是否通过', '描述'], dtype='object')"
      ]
     },
     "execution_count": 262,
     "metadata": {},
     "output_type": "execute_result"
    }
   ],
   "source": [
    "data3.columns"
   ]
  },
  {
   "cell_type": "code",
   "execution_count": 263,
   "metadata": {},
   "outputs": [
    {
     "data": {
      "text/plain": [
       "Index(['流水号', '校园卡号', '校园卡编号', '消费时间', '消费金额', '存储金额', '余额', '消费次数', '消费类型',\n",
       "       '消费项目编码', '操作编码', '消费地点'],\n",
       "      dtype='object')"
      ]
     },
     "execution_count": 263,
     "metadata": {},
     "output_type": "execute_result"
    }
   ],
   "source": [
    "data2.columns"
   ]
  },
  {
   "cell_type": "code",
   "execution_count": 264,
   "metadata": {},
   "outputs": [],
   "source": [
    "data_1 = pd.merge(data1,data2,on='校园卡号')"
   ]
  },
  {
   "cell_type": "code",
   "execution_count": 265,
   "metadata": {},
   "outputs": [
    {
     "data": {
      "text/html": [
       "<div>\n",
       "<style scoped>\n",
       "    .dataframe tbody tr th:only-of-type {\n",
       "        vertical-align: middle;\n",
       "    }\n",
       "\n",
       "    .dataframe tbody tr th {\n",
       "        vertical-align: top;\n",
       "    }\n",
       "\n",
       "    .dataframe thead th {\n",
       "        text-align: right;\n",
       "    }\n",
       "</style>\n",
       "<table border=\"1\" class=\"dataframe\">\n",
       "  <thead>\n",
       "    <tr style=\"text-align: right;\">\n",
       "      <th></th>\n",
       "      <th>序号</th>\n",
       "      <th>校园卡号</th>\n",
       "      <th>性别</th>\n",
       "      <th>专业名称</th>\n",
       "      <th>门禁卡号</th>\n",
       "      <th>流水号</th>\n",
       "      <th>校园卡编号</th>\n",
       "      <th>消费时间</th>\n",
       "      <th>消费金额</th>\n",
       "      <th>存储金额</th>\n",
       "      <th>余额</th>\n",
       "      <th>消费次数</th>\n",
       "      <th>消费类型</th>\n",
       "      <th>消费项目编码</th>\n",
       "      <th>操作编码</th>\n",
       "      <th>消费地点</th>\n",
       "    </tr>\n",
       "  </thead>\n",
       "  <tbody>\n",
       "    <tr>\n",
       "      <th>0</th>\n",
       "      <td>1</td>\n",
       "      <td>180001</td>\n",
       "      <td>男</td>\n",
       "      <td>18国际金融</td>\n",
       "      <td>19762330</td>\n",
       "      <td>117331517</td>\n",
       "      <td>20181</td>\n",
       "      <td>2019-04-21 18:30:00</td>\n",
       "      <td>7.0</td>\n",
       "      <td>0.0</td>\n",
       "      <td>28.4</td>\n",
       "      <td>206</td>\n",
       "      <td>消费</td>\n",
       "      <td>41</td>\n",
       "      <td>249</td>\n",
       "      <td>第四食堂</td>\n",
       "    </tr>\n",
       "    <tr>\n",
       "      <th>1</th>\n",
       "      <td>1</td>\n",
       "      <td>180001</td>\n",
       "      <td>男</td>\n",
       "      <td>18国际金融</td>\n",
       "      <td>19762330</td>\n",
       "      <td>117341866</td>\n",
       "      <td>20181</td>\n",
       "      <td>2019-04-22 09:40:00</td>\n",
       "      <td>3.5</td>\n",
       "      <td>0.0</td>\n",
       "      <td>24.9</td>\n",
       "      <td>207</td>\n",
       "      <td>消费</td>\n",
       "      <td>19</td>\n",
       "      <td>236</td>\n",
       "      <td>第一食堂</td>\n",
       "    </tr>\n",
       "    <tr>\n",
       "      <th>2</th>\n",
       "      <td>1</td>\n",
       "      <td>180001</td>\n",
       "      <td>男</td>\n",
       "      <td>18国际金融</td>\n",
       "      <td>19762330</td>\n",
       "      <td>117154618</td>\n",
       "      <td>20181</td>\n",
       "      <td>2019-04-10 16:42:00</td>\n",
       "      <td>11.0</td>\n",
       "      <td>0.0</td>\n",
       "      <td>2.7</td>\n",
       "      <td>189</td>\n",
       "      <td>消费</td>\n",
       "      <td>82</td>\n",
       "      <td>18</td>\n",
       "      <td>第四食堂</td>\n",
       "    </tr>\n",
       "    <tr>\n",
       "      <th>3</th>\n",
       "      <td>1</td>\n",
       "      <td>180001</td>\n",
       "      <td>男</td>\n",
       "      <td>18国际金融</td>\n",
       "      <td>19762330</td>\n",
       "      <td>117200032</td>\n",
       "      <td>20181</td>\n",
       "      <td>2019-04-15 11:43:00</td>\n",
       "      <td>7.0</td>\n",
       "      <td>0.0</td>\n",
       "      <td>43.2</td>\n",
       "      <td>192</td>\n",
       "      <td>消费</td>\n",
       "      <td>62</td>\n",
       "      <td>2</td>\n",
       "      <td>第四食堂</td>\n",
       "    </tr>\n",
       "    <tr>\n",
       "      <th>4</th>\n",
       "      <td>1</td>\n",
       "      <td>180001</td>\n",
       "      <td>男</td>\n",
       "      <td>18国际金融</td>\n",
       "      <td>19762330</td>\n",
       "      <td>117206146</td>\n",
       "      <td>20181</td>\n",
       "      <td>2019-04-15 07:50:00</td>\n",
       "      <td>2.5</td>\n",
       "      <td>0.0</td>\n",
       "      <td>50.2</td>\n",
       "      <td>191</td>\n",
       "      <td>消费</td>\n",
       "      <td>2</td>\n",
       "      <td>236</td>\n",
       "      <td>第一食堂</td>\n",
       "    </tr>\n",
       "  </tbody>\n",
       "</table>\n",
       "</div>"
      ],
      "text/plain": [
       "   序号    校园卡号 性别    专业名称      门禁卡号        流水号  校园卡编号                消费时间  \\\n",
       "0   1  180001  男  18国际金融  19762330  117331517  20181 2019-04-21 18:30:00   \n",
       "1   1  180001  男  18国际金融  19762330  117341866  20181 2019-04-22 09:40:00   \n",
       "2   1  180001  男  18国际金融  19762330  117154618  20181 2019-04-10 16:42:00   \n",
       "3   1  180001  男  18国际金融  19762330  117200032  20181 2019-04-15 11:43:00   \n",
       "4   1  180001  男  18国际金融  19762330  117206146  20181 2019-04-15 07:50:00   \n",
       "\n",
       "   消费金额  存储金额    余额  消费次数 消费类型  消费项目编码  操作编码  消费地点  \n",
       "0   7.0   0.0  28.4   206   消费      41   249  第四食堂  \n",
       "1   3.5   0.0  24.9   207   消费      19   236  第一食堂  \n",
       "2  11.0   0.0   2.7   189   消费      82    18  第四食堂  \n",
       "3   7.0   0.0  43.2   192   消费      62     2  第四食堂  \n",
       "4   2.5   0.0  50.2   191   消费       2   236  第一食堂  "
      ]
     },
     "execution_count": 265,
     "metadata": {},
     "output_type": "execute_result"
    }
   ],
   "source": [
    "data_1.head()"
   ]
  },
  {
   "cell_type": "code",
   "execution_count": 266,
   "metadata": {},
   "outputs": [
    {
     "data": {
      "text/plain": [
       "(241079, 16)"
      ]
     },
     "execution_count": 266,
     "metadata": {},
     "output_type": "execute_result"
    }
   ],
   "source": [
    "data_1.shape"
   ]
  },
  {
   "cell_type": "code",
   "execution_count": 267,
   "metadata": {},
   "outputs": [],
   "source": [
    "data_2 = pd.merge(data1,data3,on='门禁卡号')"
   ]
  },
  {
   "cell_type": "code",
   "execution_count": 268,
   "metadata": {},
   "outputs": [
    {
     "data": {
      "text/plain": [
       "(18285, 10)"
      ]
     },
     "execution_count": 268,
     "metadata": {},
     "output_type": "execute_result"
    }
   ],
   "source": [
    "data_2.shape"
   ]
  },
  {
   "cell_type": "code",
   "execution_count": 269,
   "metadata": {},
   "outputs": [],
   "source": [
    "import matplotlib.pyplot as plt\n",
    "%matplotlib inline\n",
    "# 提高分辨率\n",
    "%config InllineBackend.figure_format='retina'\n",
    "plt.rcParams['font.sans-serif'] = ['Microsoft YaHei']\n",
    "plt.rcParams['axes.unicode_minus'] = False\n",
    "import seaborn as sns"
   ]
  },
  {
   "cell_type": "code",
   "execution_count": 270,
   "metadata": {},
   "outputs": [
    {
     "data": {
      "text/html": [
       "<div>\n",
       "<style scoped>\n",
       "    .dataframe tbody tr th:only-of-type {\n",
       "        vertical-align: middle;\n",
       "    }\n",
       "\n",
       "    .dataframe tbody tr th {\n",
       "        vertical-align: top;\n",
       "    }\n",
       "\n",
       "    .dataframe thead th {\n",
       "        text-align: right;\n",
       "    }\n",
       "</style>\n",
       "<table border=\"1\" class=\"dataframe\">\n",
       "  <thead>\n",
       "    <tr style=\"text-align: right;\">\n",
       "      <th></th>\n",
       "      <th>序号</th>\n",
       "      <th>校园卡号</th>\n",
       "      <th>性别</th>\n",
       "      <th>专业名称</th>\n",
       "      <th>门禁卡号</th>\n",
       "      <th>流水号</th>\n",
       "      <th>校园卡编号</th>\n",
       "      <th>消费时间</th>\n",
       "      <th>消费金额</th>\n",
       "      <th>存储金额</th>\n",
       "      <th>余额</th>\n",
       "      <th>消费次数</th>\n",
       "      <th>消费类型</th>\n",
       "      <th>消费项目编码</th>\n",
       "      <th>操作编码</th>\n",
       "      <th>消费地点</th>\n",
       "    </tr>\n",
       "  </thead>\n",
       "  <tbody>\n",
       "    <tr>\n",
       "      <th>0</th>\n",
       "      <td>1</td>\n",
       "      <td>180001</td>\n",
       "      <td>男</td>\n",
       "      <td>18国际金融</td>\n",
       "      <td>19762330</td>\n",
       "      <td>117331517</td>\n",
       "      <td>20181</td>\n",
       "      <td>2019-04-21 18:30:00</td>\n",
       "      <td>7.0</td>\n",
       "      <td>0.0</td>\n",
       "      <td>28.4</td>\n",
       "      <td>206</td>\n",
       "      <td>消费</td>\n",
       "      <td>41</td>\n",
       "      <td>249</td>\n",
       "      <td>第四食堂</td>\n",
       "    </tr>\n",
       "    <tr>\n",
       "      <th>1</th>\n",
       "      <td>1</td>\n",
       "      <td>180001</td>\n",
       "      <td>男</td>\n",
       "      <td>18国际金融</td>\n",
       "      <td>19762330</td>\n",
       "      <td>117341866</td>\n",
       "      <td>20181</td>\n",
       "      <td>2019-04-22 09:40:00</td>\n",
       "      <td>3.5</td>\n",
       "      <td>0.0</td>\n",
       "      <td>24.9</td>\n",
       "      <td>207</td>\n",
       "      <td>消费</td>\n",
       "      <td>19</td>\n",
       "      <td>236</td>\n",
       "      <td>第一食堂</td>\n",
       "    </tr>\n",
       "    <tr>\n",
       "      <th>2</th>\n",
       "      <td>1</td>\n",
       "      <td>180001</td>\n",
       "      <td>男</td>\n",
       "      <td>18国际金融</td>\n",
       "      <td>19762330</td>\n",
       "      <td>117154618</td>\n",
       "      <td>20181</td>\n",
       "      <td>2019-04-10 16:42:00</td>\n",
       "      <td>11.0</td>\n",
       "      <td>0.0</td>\n",
       "      <td>2.7</td>\n",
       "      <td>189</td>\n",
       "      <td>消费</td>\n",
       "      <td>82</td>\n",
       "      <td>18</td>\n",
       "      <td>第四食堂</td>\n",
       "    </tr>\n",
       "    <tr>\n",
       "      <th>3</th>\n",
       "      <td>1</td>\n",
       "      <td>180001</td>\n",
       "      <td>男</td>\n",
       "      <td>18国际金融</td>\n",
       "      <td>19762330</td>\n",
       "      <td>117200032</td>\n",
       "      <td>20181</td>\n",
       "      <td>2019-04-15 11:43:00</td>\n",
       "      <td>7.0</td>\n",
       "      <td>0.0</td>\n",
       "      <td>43.2</td>\n",
       "      <td>192</td>\n",
       "      <td>消费</td>\n",
       "      <td>62</td>\n",
       "      <td>2</td>\n",
       "      <td>第四食堂</td>\n",
       "    </tr>\n",
       "    <tr>\n",
       "      <th>4</th>\n",
       "      <td>1</td>\n",
       "      <td>180001</td>\n",
       "      <td>男</td>\n",
       "      <td>18国际金融</td>\n",
       "      <td>19762330</td>\n",
       "      <td>117206146</td>\n",
       "      <td>20181</td>\n",
       "      <td>2019-04-15 07:50:00</td>\n",
       "      <td>2.5</td>\n",
       "      <td>0.0</td>\n",
       "      <td>50.2</td>\n",
       "      <td>191</td>\n",
       "      <td>消费</td>\n",
       "      <td>2</td>\n",
       "      <td>236</td>\n",
       "      <td>第一食堂</td>\n",
       "    </tr>\n",
       "  </tbody>\n",
       "</table>\n",
       "</div>"
      ],
      "text/plain": [
       "   序号    校园卡号 性别    专业名称      门禁卡号        流水号  校园卡编号                消费时间  \\\n",
       "0   1  180001  男  18国际金融  19762330  117331517  20181 2019-04-21 18:30:00   \n",
       "1   1  180001  男  18国际金融  19762330  117341866  20181 2019-04-22 09:40:00   \n",
       "2   1  180001  男  18国际金融  19762330  117154618  20181 2019-04-10 16:42:00   \n",
       "3   1  180001  男  18国际金融  19762330  117200032  20181 2019-04-15 11:43:00   \n",
       "4   1  180001  男  18国际金融  19762330  117206146  20181 2019-04-15 07:50:00   \n",
       "\n",
       "   消费金额  存储金额    余额  消费次数 消费类型  消费项目编码  操作编码  消费地点  \n",
       "0   7.0   0.0  28.4   206   消费      41   249  第四食堂  \n",
       "1   3.5   0.0  24.9   207   消费      19   236  第一食堂  \n",
       "2  11.0   0.0   2.7   189   消费      82    18  第四食堂  \n",
       "3   7.0   0.0  43.2   192   消费      62     2  第四食堂  \n",
       "4   2.5   0.0  50.2   191   消费       2   236  第一食堂  "
      ]
     },
     "execution_count": 270,
     "metadata": {},
     "output_type": "execute_result"
    }
   ],
   "source": [
    "data_1.head()"
   ]
  },
  {
   "cell_type": "code",
   "execution_count": 271,
   "metadata": {},
   "outputs": [
    {
     "data": {
      "text/plain": [
       "array(['第四食堂', '第一食堂', '第二食堂', '财务处', '红太阳超市', '人文社科', '第五食堂', '第三食堂',\n",
       "       '好利来食品店', '医务室', '第二图书馆', '第一图书馆', '水电缴费处', '自然科学书库', '第四教学楼',\n",
       "       '基础课部', '第七教学楼', '机电系', '财务部', '第五教学楼', '飞凤轩宿管办', '教师食堂', '青鸾苑宿管办',\n",
       "       '宿管办', '第六教学楼', '第二教学楼', '第一教学楼', '工商系部', '第三教学楼', '外语系'],\n",
       "      dtype=object)"
      ]
     },
     "execution_count": 271,
     "metadata": {},
     "output_type": "execute_result"
    }
   ],
   "source": [
    "# 绘制各食堂就餐人次的占比饼图，分析学生早中晚餐的就餐地点是否有显著差别，并在报告中进行描述。\n",
    "data_1['消费地点'].unique()"
   ]
  },
  {
   "cell_type": "code",
   "execution_count": 272,
   "metadata": {},
   "outputs": [],
   "source": [
    "canteen = []\n",
    "canteen.append(data_1.loc[data_1['消费地点']== '第一食堂','消费地点'].count())\n",
    "canteen.append(data_1.loc[data_1['消费地点']== '第二食堂','消费地点'].count())\n",
    "canteen.append(data_1.loc[data_1['消费地点']== '第三食堂','消费地点'].count())\n",
    "canteen.append(data_1.loc[data_1['消费地点']== '第四食堂','消费地点'].count())\n",
    "canteen.append(data_1.loc[data_1['消费地点']== '第五食堂','消费地点'].count())"
   ]
  },
  {
   "cell_type": "code",
   "execution_count": 273,
   "metadata": {},
   "outputs": [
    {
     "data": {
      "image/png": "[encoded data removed]",
      "text/plain": [
       "<Figure size 432x288 with 1 Axes>"
      ]
     },
     "metadata": {},
     "output_type": "display_data"
    }
   ],
   "source": [
    "label = ['第一食堂','第二食堂','第三食堂','第四食堂','第五食堂']\n",
    "fig,ax = plt.subplots()\n",
    "ax.pie(canteen,labels = label,autopct='%.2f%%')\n",
    "ax.set_title('食堂消费分布')\n",
    "# ax.legend(loc=10)\n",
    "plt.show()"
   ]
  },
  {
   "cell_type": "code",
   "execution_count": 274,
   "metadata": {},
   "outputs": [
    {
     "name": "stdout",
     "output_type": "stream",
     "text": [
      "<class 'pandas.core.frame.DataFrame'>\n",
      "Int64Index: 241079 entries, 0 to 241078\n",
      "Data columns (total 16 columns):\n",
      " #   Column  Non-Null Count   Dtype         \n",
      "---  ------  --------------   -----         \n",
      " 0   序号      241079 non-null  int64         \n",
      " 1   校园卡号    241079 non-null  int64         \n",
      " 2   性别      241079 non-null  object        \n",
      " 3   专业名称    241079 non-null  object        \n",
      " 4   门禁卡号    241079 non-null  int64         \n",
      " 5   流水号     241079 non-null  int64         \n",
      " 6   校园卡编号   241079 non-null  int64         \n",
      " 7   消费时间    241079 non-null  datetime64[ns]\n",
      " 8   消费金额    241079 non-null  float64       \n",
      " 9   存储金额    241079 non-null  float64       \n",
      " 10  余额      241079 non-null  float64       \n",
      " 11  消费次数    241079 non-null  int64         \n",
      " 12  消费类型    241079 non-null  object        \n",
      " 13  消费项目编码  241079 non-null  int64         \n",
      " 14  操作编码    241079 non-null  int64         \n",
      " 15  消费地点    241079 non-null  object        \n",
      "dtypes: datetime64[ns](1), float64(3), int64(8), object(4)\n",
      "memory usage: 31.3+ MB\n"
     ]
    }
   ],
   "source": [
    "# 通过食堂刷卡记录，分别绘制工作日和非工作日食堂就餐时间曲线图，分析食堂早中晚餐的就餐峰值，并在报告中进行描述。\n",
    "data_1.info()"
   ]
  },
  {
   "cell_type": "code",
   "execution_count": 275,
   "metadata": {},
   "outputs": [],
   "source": [
    "data_1['消费星期'] = data_1['消费时间'].dt.dayofweek + 1"
   ]
  },
  {
   "cell_type": "code",
   "execution_count": 276,
   "metadata": {},
   "outputs": [],
   "source": [
    "work = data_1['消费星期'].value_counts()"
   ]
  },
  {
   "cell_type": "code",
   "execution_count": 277,
   "metadata": {},
   "outputs": [
    {
     "data": {
      "image/png": "[encoded data removed]",
      "text/plain": [
       "<Figure size 432x288 with 1 Axes>"
      ]
     },
     "metadata": {
      "needs_background": "light"
     },
     "output_type": "display_data"
    }
   ],
   "source": [
    "labels = ['星期一','星期二','星期三','星期四','星期五','星期六','星期日']\n",
    "plt.plot(work.index,work.values)\n",
    "plt.xticks(np.arange(1,8),labels)\n",
    "plt.title('工作日和非工作日食堂就餐时间曲线图')\n",
    "plt.show()"
   ]
  },
  {
   "cell_type": "code",
   "execution_count": 278,
   "metadata": {},
   "outputs": [],
   "source": [
    "work_day = data_1['消费星期'] <= 5\n",
    "unwork_day = data_1['消费星期'] >5"
   ]
  },
  {
   "cell_type": "code",
   "execution_count": 279,
   "metadata": {},
   "outputs": [],
   "source": [
    "work_day_data = data_1.loc[work_day,:]\n",
    "unwork_day_data = data_1.loc[unwork_day,:]"
   ]
  },
  {
   "cell_type": "code",
   "execution_count": 280,
   "metadata": {},
   "outputs": [],
   "source": [
    "worktime = []\n",
    "for i in range(24):\n",
    "    worktime.append(work_day_data['消费时间'].apply(str).str.contains(' {:02d}:'.format(i)).sum())"
   ]
  },
  {
   "cell_type": "code",
   "execution_count": 281,
   "metadata": {},
   "outputs": [],
   "source": [
    "d = []\n",
    "for i in range(1,25):\n",
    "    x = lambda i :'{:02d}:00'.format(i)\n",
    "    d.append(x(i))"
   ]
  },
  {
   "cell_type": "code",
   "execution_count": 282,
   "metadata": {},
   "outputs": [
    {
     "data": {
      "image/png": "[encoded data removed]",
      "text/plain": [
       "<Figure size 2160x720 with 1 Axes>"
      ]
     },
     "metadata": {
      "needs_background": "light"
     },
     "output_type": "display_data"
    }
   ],
   "source": [
    "fig,ax = plt.subplots(figsize=(30,10))\n",
    "ax.plot(np.arange(24)+1,worktime,label = '工作日')\n",
    "plt.xticks(np.arange(1,25),d)\n",
    "plt.xlabel('时间')\n",
    "plt.ylabel('人次')\n",
    "plt.legend()\n",
    "plt.grid()\n",
    "plt.show()"
   ]
  },
  {
   "cell_type": "code",
   "execution_count": 283,
   "metadata": {},
   "outputs": [],
   "source": [
    "unworktime = []\n",
    "for i in range(24):\n",
    "    unworktime.append(unwork_day_data['消费时间'].apply(str).str.contains(' {:02d}:'.format(i)).sum())"
   ]
  },
  {
   "cell_type": "code",
   "execution_count": 284,
   "metadata": {},
   "outputs": [
    {
     "data": {
      "image/png": "[encoded data removed]",
      "text/plain": [
       "<Figure size 432x288 with 1 Axes>"
      ]
     },
     "metadata": {
      "needs_background": "light"
     },
     "output_type": "display_data"
    }
   ],
   "source": [
    "fig,ax = plt.subplots()\n",
    "ax.plot(np.arange(24),unworktime)\n",
    "ax.set(xlabel='时间',ylabel='人次',title='非工作日每时消费人数')\n",
    "ax.set_xticks(np.arange(24))\n",
    "ax.set_xticklabels(d,rotation=45)\n",
    "ax.grid()\n",
    "plt.show()"
   ]
  },
  {
   "cell_type": "code",
   "execution_count": 285,
   "metadata": {},
   "outputs": [
    {
     "data": {
      "text/html": [
       "<div>\n",
       "<style scoped>\n",
       "    .dataframe tbody tr th:only-of-type {\n",
       "        vertical-align: middle;\n",
       "    }\n",
       "\n",
       "    .dataframe tbody tr th {\n",
       "        vertical-align: top;\n",
       "    }\n",
       "\n",
       "    .dataframe thead th {\n",
       "        text-align: right;\n",
       "    }\n",
       "</style>\n",
       "<table border=\"1\" class=\"dataframe\">\n",
       "  <thead>\n",
       "    <tr style=\"text-align: right;\">\n",
       "      <th></th>\n",
       "      <th>序号</th>\n",
       "      <th>校园卡号</th>\n",
       "      <th>性别</th>\n",
       "      <th>专业名称</th>\n",
       "      <th>门禁卡号</th>\n",
       "      <th>流水号</th>\n",
       "      <th>校园卡编号</th>\n",
       "      <th>消费时间</th>\n",
       "      <th>消费金额</th>\n",
       "      <th>存储金额</th>\n",
       "      <th>余额</th>\n",
       "      <th>消费次数</th>\n",
       "      <th>消费类型</th>\n",
       "      <th>消费项目编码</th>\n",
       "      <th>操作编码</th>\n",
       "      <th>消费地点</th>\n",
       "      <th>消费星期</th>\n",
       "    </tr>\n",
       "  </thead>\n",
       "  <tbody>\n",
       "    <tr>\n",
       "      <th>152982</th>\n",
       "      <td>2543</td>\n",
       "      <td>182543</td>\n",
       "      <td>男</td>\n",
       "      <td>18商务日语</td>\n",
       "      <td>21115690</td>\n",
       "      <td>117435581</td>\n",
       "      <td>20182543</td>\n",
       "      <td>2019-04-26 12:04:00</td>\n",
       "      <td>1.5</td>\n",
       "      <td>0.0</td>\n",
       "      <td>64.68</td>\n",
       "      <td>1229</td>\n",
       "      <td>消费</td>\n",
       "      <td>19</td>\n",
       "      <td>236</td>\n",
       "      <td>第一食堂</td>\n",
       "      <td>5</td>\n",
       "    </tr>\n",
       "    <tr>\n",
       "      <th>100834</th>\n",
       "      <td>1629</td>\n",
       "      <td>181629</td>\n",
       "      <td>男</td>\n",
       "      <td>18汽车检测</td>\n",
       "      <td>19843034</td>\n",
       "      <td>116966159</td>\n",
       "      <td>20181629</td>\n",
       "      <td>2019-04-01 13:31:00</td>\n",
       "      <td>7.0</td>\n",
       "      <td>0.0</td>\n",
       "      <td>91.20</td>\n",
       "      <td>1059</td>\n",
       "      <td>消费</td>\n",
       "      <td>70</td>\n",
       "      <td>254</td>\n",
       "      <td>第四食堂</td>\n",
       "      <td>1</td>\n",
       "    </tr>\n",
       "    <tr>\n",
       "      <th>162170</th>\n",
       "      <td>2701</td>\n",
       "      <td>182701</td>\n",
       "      <td>女</td>\n",
       "      <td>18商务英语</td>\n",
       "      <td>20357450</td>\n",
       "      <td>117404632</td>\n",
       "      <td>20182701</td>\n",
       "      <td>2019-04-26 09:33:00</td>\n",
       "      <td>3.0</td>\n",
       "      <td>0.0</td>\n",
       "      <td>51.70</td>\n",
       "      <td>677</td>\n",
       "      <td>消费</td>\n",
       "      <td>196</td>\n",
       "      <td>133</td>\n",
       "      <td>好利来食品店</td>\n",
       "      <td>5</td>\n",
       "    </tr>\n",
       "  </tbody>\n",
       "</table>\n",
       "</div>"
      ],
      "text/plain": [
       "          序号    校园卡号 性别    专业名称      门禁卡号        流水号     校园卡编号  \\\n",
       "152982  2543  182543  男  18商务日语  21115690  117435581  20182543   \n",
       "100834  1629  181629  男  18汽车检测  19843034  116966159  20181629   \n",
       "162170  2701  182701  女  18商务英语  20357450  117404632  20182701   \n",
       "\n",
       "                      消费时间  消费金额  存储金额     余额  消费次数 消费类型  消费项目编码  操作编码  \\\n",
       "152982 2019-04-26 12:04:00   1.5   0.0  64.68  1229   消费      19   236   \n",
       "100834 2019-04-01 13:31:00   7.0   0.0  91.20  1059   消费      70   254   \n",
       "162170 2019-04-26 09:33:00   3.0   0.0  51.70   677   消费     196   133   \n",
       "\n",
       "          消费地点  消费星期  \n",
       "152982    第一食堂     5  \n",
       "100834    第四食堂     1  \n",
       "162170  好利来食品店     5  "
      ]
     },
     "execution_count": 285,
     "metadata": {},
     "output_type": "execute_result"
    }
   ],
   "source": [
    "# 根据学生的整体校园消费数据，计算本月人均刷卡频次和人均消费额，并选择 3个专业，分析不同专业间不同性别学生群体的消费特点。\n",
    "data_1.sample(3)"
   ]
  },
  {
   "cell_type": "code",
   "execution_count": 286,
   "metadata": {},
   "outputs": [],
   "source": [
    "mean_times = (data_1.groupby('校园卡号')['消费次数'].count().values.sum())/(len(data_1.groupby('校园卡号')['消费次数'].count().index))"
   ]
  },
  {
   "cell_type": "code",
   "execution_count": 287,
   "metadata": {},
   "outputs": [
    {
     "data": {
      "text/plain": [
       "73.76958384332926"
      ]
     },
     "execution_count": 287,
     "metadata": {},
     "output_type": "execute_result"
    }
   ],
   "source": [
    "mean_times"
   ]
  },
  {
   "cell_type": "code",
   "execution_count": 288,
   "metadata": {},
   "outputs": [],
   "source": [
    "mean_money = (data_1['消费金额'].sum())/(len(data_1.groupby('校园卡号')['消费次数'].count().index))"
   ]
  },
  {
   "cell_type": "code",
   "execution_count": 289,
   "metadata": {},
   "outputs": [
    {
     "data": {
      "text/plain": [
       "284.72733170134643"
      ]
     },
     "execution_count": 289,
     "metadata": {},
     "output_type": "execute_result"
    }
   ],
   "source": [
    "mean_money"
   ]
  },
  {
   "cell_type": "code",
   "execution_count": 290,
   "metadata": {},
   "outputs": [],
   "source": [
    "# 选择消费次数最多的3个专业进行分析\n",
    "major = pd.DataFrame(data_1.groupby('专业名称')['消费次数'].count())"
   ]
  },
  {
   "cell_type": "code",
   "execution_count": 291,
   "metadata": {},
   "outputs": [],
   "source": [
    "major_times = major.sort_values(by='消费次数',ascending=False)['消费次数'][:3]"
   ]
  },
  {
   "cell_type": "code",
   "execution_count": 292,
   "metadata": {},
   "outputs": [
    {
     "data": {
      "text/plain": [
       "专业名称\n",
       "18连锁经营    12100\n",
       "18机械制造    11181\n",
       "18会计      10055\n",
       "Name: 消费次数, dtype: int64"
      ]
     },
     "execution_count": 292,
     "metadata": {},
     "output_type": "execute_result"
    }
   ],
   "source": [
    "major_times"
   ]
  },
  {
   "cell_type": "code",
   "execution_count": 293,
   "metadata": {},
   "outputs": [],
   "source": [
    "# 分析 每个专业，不同性别 的学生消费特点\n",
    "a = data_1.loc[data_1['专业名称'] == '18连锁经营',:]\n",
    "b = data_1.loc[data_1['专业名称'] == '18机械制造',:]\n",
    "c = data_1.loc[data_1['专业名称'] == '18会计',:]"
   ]
  },
  {
   "cell_type": "code",
   "execution_count": 294,
   "metadata": {},
   "outputs": [],
   "source": [
    "pa = pd.DataFrame(a.groupby('性别')['消费金额'].count())\n",
    "pb = pd.DataFrame(b.groupby('性别')['消费金额'].count())\n",
    "pc = pd.DataFrame(c.groupby('性别')['消费金额'].count())"
   ]
  },
  {
   "cell_type": "code",
   "execution_count": 295,
   "metadata": {},
   "outputs": [],
   "source": [
    "pz = pd.concat([pa,pb,pc],axis=0)"
   ]
  },
  {
   "cell_type": "code",
   "execution_count": 296,
   "metadata": {},
   "outputs": [],
   "source": [
    "female = pz['消费金额'][[0,2,4]].values.tolist()"
   ]
  },
  {
   "cell_type": "code",
   "execution_count": 297,
   "metadata": {},
   "outputs": [],
   "source": [
    "male = pz['消费金额'][[1,3,5]].values.tolist()"
   ]
  },
  {
   "cell_type": "code",
   "execution_count": 298,
   "metadata": {},
   "outputs": [],
   "source": [
    "labels = ['18连锁经营','18机械制造','18会计']"
   ]
  },
  {
   "cell_type": "code",
   "execution_count": 299,
   "metadata": {},
   "outputs": [
    {
     "data": {
      "image/png": "[encoded data removed]",
      "text/plain": [
       "<Figure size 432x288 with 1 Axes>"
      ]
     },
     "metadata": {
      "needs_background": "light"
     },
     "output_type": "display_data"
    }
   ],
   "source": [
    "x = np.arange(len(labels))\n",
    "width = 0.35\n",
    "fig,ax = plt.subplots()\n",
    "ax.bar(x-width/2,female,width,label = '女')\n",
    "ax.bar(x+width/2,male,width,label = '男')\n",
    "ax.set_ylabel('金额（元）')\n",
    "ax.set_title('不同专业男女消费对比')\n",
    "ax.set_xticks(x)\n",
    "ax.set_xticklabels(labels)\n",
    "ax.legend()\n",
    "plt.show()"
   ]
  },
  {
   "cell_type": "code",
   "execution_count": 300,
   "metadata": {},
   "outputs": [
    {
     "data": {
      "text/html": [
       "<div>\n",
       "<style scoped>\n",
       "    .dataframe tbody tr th:only-of-type {\n",
       "        vertical-align: middle;\n",
       "    }\n",
       "\n",
       "    .dataframe tbody tr th {\n",
       "        vertical-align: top;\n",
       "    }\n",
       "\n",
       "    .dataframe thead th {\n",
       "        text-align: right;\n",
       "    }\n",
       "</style>\n",
       "<table border=\"1\" class=\"dataframe\">\n",
       "  <thead>\n",
       "    <tr style=\"text-align: right;\">\n",
       "      <th></th>\n",
       "      <th>序号</th>\n",
       "      <th>校园卡号</th>\n",
       "      <th>性别</th>\n",
       "      <th>专业名称</th>\n",
       "      <th>门禁卡号</th>\n",
       "      <th>流水号</th>\n",
       "      <th>校园卡编号</th>\n",
       "      <th>消费时间</th>\n",
       "      <th>消费金额</th>\n",
       "      <th>存储金额</th>\n",
       "      <th>余额</th>\n",
       "      <th>消费次数</th>\n",
       "      <th>消费类型</th>\n",
       "      <th>消费项目编码</th>\n",
       "      <th>操作编码</th>\n",
       "      <th>消费地点</th>\n",
       "      <th>消费星期</th>\n",
       "    </tr>\n",
       "  </thead>\n",
       "  <tbody>\n",
       "    <tr>\n",
       "      <th>0</th>\n",
       "      <td>1</td>\n",
       "      <td>180001</td>\n",
       "      <td>男</td>\n",
       "      <td>18国际金融</td>\n",
       "      <td>19762330</td>\n",
       "      <td>117331517</td>\n",
       "      <td>20181</td>\n",
       "      <td>2019-04-21 18:30:00</td>\n",
       "      <td>7.0</td>\n",
       "      <td>0.0</td>\n",
       "      <td>28.4</td>\n",
       "      <td>206</td>\n",
       "      <td>消费</td>\n",
       "      <td>41</td>\n",
       "      <td>249</td>\n",
       "      <td>第四食堂</td>\n",
       "      <td>7</td>\n",
       "    </tr>\n",
       "    <tr>\n",
       "      <th>1</th>\n",
       "      <td>1</td>\n",
       "      <td>180001</td>\n",
       "      <td>男</td>\n",
       "      <td>18国际金融</td>\n",
       "      <td>19762330</td>\n",
       "      <td>117341866</td>\n",
       "      <td>20181</td>\n",
       "      <td>2019-04-22 09:40:00</td>\n",
       "      <td>3.5</td>\n",
       "      <td>0.0</td>\n",
       "      <td>24.9</td>\n",
       "      <td>207</td>\n",
       "      <td>消费</td>\n",
       "      <td>19</td>\n",
       "      <td>236</td>\n",
       "      <td>第一食堂</td>\n",
       "      <td>1</td>\n",
       "    </tr>\n",
       "    <tr>\n",
       "      <th>2</th>\n",
       "      <td>1</td>\n",
       "      <td>180001</td>\n",
       "      <td>男</td>\n",
       "      <td>18国际金融</td>\n",
       "      <td>19762330</td>\n",
       "      <td>117154618</td>\n",
       "      <td>20181</td>\n",
       "      <td>2019-04-10 16:42:00</td>\n",
       "      <td>11.0</td>\n",
       "      <td>0.0</td>\n",
       "      <td>2.7</td>\n",
       "      <td>189</td>\n",
       "      <td>消费</td>\n",
       "      <td>82</td>\n",
       "      <td>18</td>\n",
       "      <td>第四食堂</td>\n",
       "      <td>3</td>\n",
       "    </tr>\n",
       "    <tr>\n",
       "      <th>3</th>\n",
       "      <td>1</td>\n",
       "      <td>180001</td>\n",
       "      <td>男</td>\n",
       "      <td>18国际金融</td>\n",
       "      <td>19762330</td>\n",
       "      <td>117200032</td>\n",
       "      <td>20181</td>\n",
       "      <td>2019-04-15 11:43:00</td>\n",
       "      <td>7.0</td>\n",
       "      <td>0.0</td>\n",
       "      <td>43.2</td>\n",
       "      <td>192</td>\n",
       "      <td>消费</td>\n",
       "      <td>62</td>\n",
       "      <td>2</td>\n",
       "      <td>第四食堂</td>\n",
       "      <td>1</td>\n",
       "    </tr>\n",
       "    <tr>\n",
       "      <th>4</th>\n",
       "      <td>1</td>\n",
       "      <td>180001</td>\n",
       "      <td>男</td>\n",
       "      <td>18国际金融</td>\n",
       "      <td>19762330</td>\n",
       "      <td>117206146</td>\n",
       "      <td>20181</td>\n",
       "      <td>2019-04-15 07:50:00</td>\n",
       "      <td>2.5</td>\n",
       "      <td>0.0</td>\n",
       "      <td>50.2</td>\n",
       "      <td>191</td>\n",
       "      <td>消费</td>\n",
       "      <td>2</td>\n",
       "      <td>236</td>\n",
       "      <td>第一食堂</td>\n",
       "      <td>1</td>\n",
       "    </tr>\n",
       "  </tbody>\n",
       "</table>\n",
       "</div>"
      ],
      "text/plain": [
       "   序号    校园卡号 性别    专业名称      门禁卡号        流水号  校园卡编号                消费时间  \\\n",
       "0   1  180001  男  18国际金融  19762330  117331517  20181 2019-04-21 18:30:00   \n",
       "1   1  180001  男  18国际金融  19762330  117341866  20181 2019-04-22 09:40:00   \n",
       "2   1  180001  男  18国际金融  19762330  117154618  20181 2019-04-10 16:42:00   \n",
       "3   1  180001  男  18国际金融  19762330  117200032  20181 2019-04-15 11:43:00   \n",
       "4   1  180001  男  18国际金融  19762330  117206146  20181 2019-04-15 07:50:00   \n",
       "\n",
       "   消费金额  存储金额    余额  消费次数 消费类型  消费项目编码  操作编码  消费地点  消费星期  \n",
       "0   7.0   0.0  28.4   206   消费      41   249  第四食堂     7  \n",
       "1   3.5   0.0  24.9   207   消费      19   236  第一食堂     1  \n",
       "2  11.0   0.0   2.7   189   消费      82    18  第四食堂     3  \n",
       "3   7.0   0.0  43.2   192   消费      62     2  第四食堂     1  \n",
       "4   2.5   0.0  50.2   191   消费       2   236  第一食堂     1  "
      ]
     },
     "execution_count": 300,
     "metadata": {},
     "output_type": "execute_result"
    }
   ],
   "source": [
    "data_1.head()"
   ]
  },
  {
   "cell_type": "code",
   "execution_count": 301,
   "metadata": {},
   "outputs": [],
   "source": [
    "data_k = data_1[['校园卡号','性别','消费金额','消费次数']]"
   ]
  },
  {
   "cell_type": "code",
   "execution_count": 302,
   "metadata": {},
   "outputs": [
    {
     "data": {
      "text/html": [
       "<div>\n",
       "<style scoped>\n",
       "    .dataframe tbody tr th:only-of-type {\n",
       "        vertical-align: middle;\n",
       "    }\n",
       "\n",
       "    .dataframe tbody tr th {\n",
       "        vertical-align: top;\n",
       "    }\n",
       "\n",
       "    .dataframe thead th {\n",
       "        text-align: right;\n",
       "    }\n",
       "</style>\n",
       "<table border=\"1\" class=\"dataframe\">\n",
       "  <thead>\n",
       "    <tr style=\"text-align: right;\">\n",
       "      <th></th>\n",
       "      <th>校园卡号</th>\n",
       "      <th>性别</th>\n",
       "      <th>消费金额</th>\n",
       "      <th>消费次数</th>\n",
       "    </tr>\n",
       "  </thead>\n",
       "  <tbody>\n",
       "    <tr>\n",
       "      <th>0</th>\n",
       "      <td>180001</td>\n",
       "      <td>男</td>\n",
       "      <td>7.0</td>\n",
       "      <td>206</td>\n",
       "    </tr>\n",
       "    <tr>\n",
       "      <th>1</th>\n",
       "      <td>180001</td>\n",
       "      <td>男</td>\n",
       "      <td>3.5</td>\n",
       "      <td>207</td>\n",
       "    </tr>\n",
       "    <tr>\n",
       "      <th>2</th>\n",
       "      <td>180001</td>\n",
       "      <td>男</td>\n",
       "      <td>11.0</td>\n",
       "      <td>189</td>\n",
       "    </tr>\n",
       "    <tr>\n",
       "      <th>3</th>\n",
       "      <td>180001</td>\n",
       "      <td>男</td>\n",
       "      <td>7.0</td>\n",
       "      <td>192</td>\n",
       "    </tr>\n",
       "    <tr>\n",
       "      <th>4</th>\n",
       "      <td>180001</td>\n",
       "      <td>男</td>\n",
       "      <td>2.5</td>\n",
       "      <td>191</td>\n",
       "    </tr>\n",
       "    <tr>\n",
       "      <th>...</th>\n",
       "      <td>...</td>\n",
       "      <td>...</td>\n",
       "      <td>...</td>\n",
       "      <td>...</td>\n",
       "    </tr>\n",
       "    <tr>\n",
       "      <th>241074</th>\n",
       "      <td>184339</td>\n",
       "      <td>女</td>\n",
       "      <td>2.5</td>\n",
       "      <td>551</td>\n",
       "    </tr>\n",
       "    <tr>\n",
       "      <th>241075</th>\n",
       "      <td>184339</td>\n",
       "      <td>女</td>\n",
       "      <td>4.1</td>\n",
       "      <td>526</td>\n",
       "    </tr>\n",
       "    <tr>\n",
       "      <th>241076</th>\n",
       "      <td>184339</td>\n",
       "      <td>女</td>\n",
       "      <td>0.6</td>\n",
       "      <td>527</td>\n",
       "    </tr>\n",
       "    <tr>\n",
       "      <th>241077</th>\n",
       "      <td>184339</td>\n",
       "      <td>女</td>\n",
       "      <td>6.0</td>\n",
       "      <td>528</td>\n",
       "    </tr>\n",
       "    <tr>\n",
       "      <th>241078</th>\n",
       "      <td>184339</td>\n",
       "      <td>女</td>\n",
       "      <td>0.5</td>\n",
       "      <td>521</td>\n",
       "    </tr>\n",
       "  </tbody>\n",
       "</table>\n",
       "<p>241079 rows × 4 columns</p>\n",
       "</div>"
      ],
      "text/plain": [
       "          校园卡号 性别  消费金额  消费次数\n",
       "0       180001  男   7.0   206\n",
       "1       180001  男   3.5   207\n",
       "2       180001  男  11.0   189\n",
       "3       180001  男   7.0   192\n",
       "4       180001  男   2.5   191\n",
       "...        ... ..   ...   ...\n",
       "241074  184339  女   2.5   551\n",
       "241075  184339  女   4.1   526\n",
       "241076  184339  女   0.6   527\n",
       "241077  184339  女   6.0   528\n",
       "241078  184339  女   0.5   521\n",
       "\n",
       "[241079 rows x 4 columns]"
      ]
     },
     "execution_count": 302,
     "metadata": {},
     "output_type": "execute_result"
    }
   ],
   "source": [
    "data_k"
   ]
  },
  {
   "cell_type": "code",
   "execution_count": 303,
   "metadata": {},
   "outputs": [
    {
     "name": "stderr",
     "output_type": "stream",
     "text": [
      "<ipython-input-303-495248dcb162>:1: FutureWarning: Indexing with multiple keys (implicitly converted to a tuple of keys) will be deprecated, use a list instead.\n",
      "  data_k1 = data_k.groupby('校园卡号')['消费金额','消费次数'].sum()\n"
     ]
    }
   ],
   "source": [
    "data_k1 = data_k.groupby('校园卡号')['消费金额','消费次数'].sum()"
   ]
  },
  {
   "cell_type": "code",
   "execution_count": 304,
   "metadata": {},
   "outputs": [],
   "source": [
    "data_k2 = data_k[['校园卡号','性别']].drop_duplicates().reset_index().drop('index',axis=1)"
   ]
  },
  {
   "cell_type": "code",
   "execution_count": 305,
   "metadata": {},
   "outputs": [],
   "source": [
    "data_k3 = pd.merge(data_k1,data_k2,on='校园卡号')"
   ]
  },
  {
   "cell_type": "code",
   "execution_count": 306,
   "metadata": {},
   "outputs": [],
   "source": [
    "def sex(x):\n",
    "    if x == '男':\n",
    "        return 1\n",
    "    else:\n",
    "        return 0\n",
    "data_k3['性别'] = data_k3['性别'].apply(sex)"
   ]
  },
  {
   "cell_type": "code",
   "execution_count": 307,
   "metadata": {},
   "outputs": [],
   "source": [
    "data_k3.set_index('校园卡号',inplace=True)"
   ]
  },
  {
   "cell_type": "code",
   "execution_count": 308,
   "metadata": {},
   "outputs": [
    {
     "data": {
      "text/html": [
       "<div>\n",
       "<style scoped>\n",
       "    .dataframe tbody tr th:only-of-type {\n",
       "        vertical-align: middle;\n",
       "    }\n",
       "\n",
       "    .dataframe tbody tr th {\n",
       "        vertical-align: top;\n",
       "    }\n",
       "\n",
       "    .dataframe thead th {\n",
       "        text-align: right;\n",
       "    }\n",
       "</style>\n",
       "<table border=\"1\" class=\"dataframe\">\n",
       "  <thead>\n",
       "    <tr style=\"text-align: right;\">\n",
       "      <th></th>\n",
       "      <th>消费金额</th>\n",
       "      <th>消费次数</th>\n",
       "      <th>性别</th>\n",
       "    </tr>\n",
       "    <tr>\n",
       "      <th>校园卡号</th>\n",
       "      <th></th>\n",
       "      <th></th>\n",
       "      <th></th>\n",
       "    </tr>\n",
       "  </thead>\n",
       "  <tbody>\n",
       "    <tr>\n",
       "      <th>180001</th>\n",
       "      <td>161.6</td>\n",
       "      <td>6930</td>\n",
       "      <td>1</td>\n",
       "    </tr>\n",
       "    <tr>\n",
       "      <th>180002</th>\n",
       "      <td>126.8</td>\n",
       "      <td>11517</td>\n",
       "      <td>1</td>\n",
       "    </tr>\n",
       "    <tr>\n",
       "      <th>180004</th>\n",
       "      <td>572.0</td>\n",
       "      <td>79350</td>\n",
       "      <td>1</td>\n",
       "    </tr>\n",
       "    <tr>\n",
       "      <th>180005</th>\n",
       "      <td>185.1</td>\n",
       "      <td>24318</td>\n",
       "      <td>1</td>\n",
       "    </tr>\n",
       "    <tr>\n",
       "      <th>180006</th>\n",
       "      <td>85.7</td>\n",
       "      <td>9292</td>\n",
       "      <td>1</td>\n",
       "    </tr>\n",
       "  </tbody>\n",
       "</table>\n",
       "</div>"
      ],
      "text/plain": [
       "         消费金额   消费次数  性别\n",
       "校园卡号                    \n",
       "180001  161.6   6930   1\n",
       "180002  126.8  11517   1\n",
       "180004  572.0  79350   1\n",
       "180005  185.1  24318   1\n",
       "180006   85.7   9292   1"
      ]
     },
     "execution_count": 308,
     "metadata": {},
     "output_type": "execute_result"
    }
   ],
   "source": [
    "data_k3.head()"
   ]
  },
  {
   "cell_type": "code",
   "execution_count": 309,
   "metadata": {},
   "outputs": [],
   "source": [
    "from sklearn.cluster import KMeans\n",
    "from sklearn.metrics import silhouette_samples,silhouette_score\n",
    "import matplotlib.pyplot as plt\n",
    "import matplotlib.cm as cm  # colormap\n",
    "import numpy as np"
   ]
  },
  {
   "cell_type": "code",
   "execution_count": 310,
   "metadata": {},
   "outputs": [],
   "source": [
    "# plt.scatter(data_k3['消费金额'].values,data_k3['消费次数'].values)\n",
    "# plt.show()"
   ]
  },
  {
   "cell_type": "code",
   "execution_count": 311,
   "metadata": {},
   "outputs": [],
   "source": [
    "X = data_k3[['消费金额','消费次数','性别']]"
   ]
  },
  {
   "cell_type": "code",
   "execution_count": 312,
   "metadata": {},
   "outputs": [
    {
     "name": "stdout",
     "output_type": "stream",
     "text": [
      "最好的轮廓系数： 0.546458085844796 4\n"
     ]
    },
    {
     "data": {
      "image/png": "[encoded data removed]",
      "text/plain": [
       "<Figure size 432x288 with 1 Axes>"
      ]
     },
     "metadata": {
      "needs_background": "light"
     },
     "output_type": "display_data"
    }
   ],
   "source": [
    "score = []\n",
    "for i in range(2,10):\n",
    "    cluster = KMeans()\n",
    "    cluster = cluster.fit(X)\n",
    "    y_pred = cluster.labels_\n",
    "    once = silhouette_score(X,y_pred)\n",
    "    score.append(once)\n",
    "fig,ax = plt.subplots(1)\n",
    "ax.plot(np.arange(2,10),score)\n",
    "print('最好的轮廓系数：',max(score),score.index(max(score))+2)"
   ]
  },
  {
   "cell_type": "code",
   "execution_count": 313,
   "metadata": {},
   "outputs": [
    {
     "data": {
      "text/plain": [
       "{0, 1, 2}"
      ]
     },
     "execution_count": 313,
     "metadata": {},
     "output_type": "execute_result"
    }
   ],
   "source": [
    "cluster = KMeans(n_clusters=3)\n",
    "cluster = cluster.fit(X)\n",
    "y_pred = cluster.labels_\n",
    "set(y_pred)"
   ]
  },
  {
   "cell_type": "code",
   "execution_count": 314,
   "metadata": {},
   "outputs": [],
   "source": [
    "data_k3.insert(3,'聚类',y_pred.tolist())"
   ]
  },
  {
   "cell_type": "code",
   "execution_count": 315,
   "metadata": {},
   "outputs": [
    {
     "data": {
      "text/html": [
       "<div>\n",
       "<style scoped>\n",
       "    .dataframe tbody tr th:only-of-type {\n",
       "        vertical-align: middle;\n",
       "    }\n",
       "\n",
       "    .dataframe tbody tr th {\n",
       "        vertical-align: top;\n",
       "    }\n",
       "\n",
       "    .dataframe thead th {\n",
       "        text-align: right;\n",
       "    }\n",
       "</style>\n",
       "<table border=\"1\" class=\"dataframe\">\n",
       "  <thead>\n",
       "    <tr style=\"text-align: right;\">\n",
       "      <th></th>\n",
       "      <th>消费金额</th>\n",
       "      <th>消费次数</th>\n",
       "      <th>性别</th>\n",
       "      <th>聚类</th>\n",
       "    </tr>\n",
       "    <tr>\n",
       "      <th>校园卡号</th>\n",
       "      <th></th>\n",
       "      <th></th>\n",
       "      <th></th>\n",
       "      <th></th>\n",
       "    </tr>\n",
       "  </thead>\n",
       "  <tbody>\n",
       "    <tr>\n",
       "      <th>180001</th>\n",
       "      <td>161.6</td>\n",
       "      <td>6930</td>\n",
       "      <td>1</td>\n",
       "      <td>1</td>\n",
       "    </tr>\n",
       "    <tr>\n",
       "      <th>180002</th>\n",
       "      <td>126.8</td>\n",
       "      <td>11517</td>\n",
       "      <td>1</td>\n",
       "      <td>1</td>\n",
       "    </tr>\n",
       "    <tr>\n",
       "      <th>180004</th>\n",
       "      <td>572.0</td>\n",
       "      <td>79350</td>\n",
       "      <td>1</td>\n",
       "      <td>0</td>\n",
       "    </tr>\n",
       "    <tr>\n",
       "      <th>180005</th>\n",
       "      <td>185.1</td>\n",
       "      <td>24318</td>\n",
       "      <td>1</td>\n",
       "      <td>1</td>\n",
       "    </tr>\n",
       "    <tr>\n",
       "      <th>180006</th>\n",
       "      <td>85.7</td>\n",
       "      <td>9292</td>\n",
       "      <td>1</td>\n",
       "      <td>1</td>\n",
       "    </tr>\n",
       "  </tbody>\n",
       "</table>\n",
       "</div>"
      ],
      "text/plain": [
       "         消费金额   消费次数  性别  聚类\n",
       "校园卡号                        \n",
       "180001  161.6   6930   1   1\n",
       "180002  126.8  11517   1   1\n",
       "180004  572.0  79350   1   0\n",
       "180005  185.1  24318   1   1\n",
       "180006   85.7   9292   1   1"
      ]
     },
     "execution_count": 315,
     "metadata": {},
     "output_type": "execute_result"
    }
   ],
   "source": [
    "data_k3.head()"
   ]
  },
  {
   "cell_type": "code",
   "execution_count": 316,
   "metadata": {},
   "outputs": [
    {
     "data": {
      "text/html": [
       "<div>\n",
       "<style scoped>\n",
       "    .dataframe tbody tr th:only-of-type {\n",
       "        vertical-align: middle;\n",
       "    }\n",
       "\n",
       "    .dataframe tbody tr th {\n",
       "        vertical-align: top;\n",
       "    }\n",
       "\n",
       "    .dataframe thead th {\n",
       "        text-align: right;\n",
       "    }\n",
       "</style>\n",
       "<table border=\"1\" class=\"dataframe\">\n",
       "  <thead>\n",
       "    <tr style=\"text-align: right;\">\n",
       "      <th></th>\n",
       "      <th>序号</th>\n",
       "      <th>校园卡号</th>\n",
       "      <th>性别</th>\n",
       "      <th>专业名称</th>\n",
       "      <th>门禁卡号</th>\n",
       "      <th>流水号</th>\n",
       "      <th>校园卡编号</th>\n",
       "      <th>消费时间</th>\n",
       "      <th>消费金额</th>\n",
       "      <th>存储金额</th>\n",
       "      <th>余额</th>\n",
       "      <th>消费次数</th>\n",
       "      <th>消费类型</th>\n",
       "      <th>消费项目编码</th>\n",
       "      <th>操作编码</th>\n",
       "      <th>消费地点</th>\n",
       "      <th>消费星期</th>\n",
       "    </tr>\n",
       "  </thead>\n",
       "  <tbody>\n",
       "    <tr>\n",
       "      <th>0</th>\n",
       "      <td>1</td>\n",
       "      <td>180001</td>\n",
       "      <td>男</td>\n",
       "      <td>18国际金融</td>\n",
       "      <td>19762330</td>\n",
       "      <td>117331517</td>\n",
       "      <td>20181</td>\n",
       "      <td>2019-04-21 18:30:00</td>\n",
       "      <td>7.0</td>\n",
       "      <td>0.0</td>\n",
       "      <td>28.4</td>\n",
       "      <td>206</td>\n",
       "      <td>消费</td>\n",
       "      <td>41</td>\n",
       "      <td>249</td>\n",
       "      <td>第四食堂</td>\n",
       "      <td>7</td>\n",
       "    </tr>\n",
       "    <tr>\n",
       "      <th>1</th>\n",
       "      <td>1</td>\n",
       "      <td>180001</td>\n",
       "      <td>男</td>\n",
       "      <td>18国际金融</td>\n",
       "      <td>19762330</td>\n",
       "      <td>117341866</td>\n",
       "      <td>20181</td>\n",
       "      <td>2019-04-22 09:40:00</td>\n",
       "      <td>3.5</td>\n",
       "      <td>0.0</td>\n",
       "      <td>24.9</td>\n",
       "      <td>207</td>\n",
       "      <td>消费</td>\n",
       "      <td>19</td>\n",
       "      <td>236</td>\n",
       "      <td>第一食堂</td>\n",
       "      <td>1</td>\n",
       "    </tr>\n",
       "    <tr>\n",
       "      <th>2</th>\n",
       "      <td>1</td>\n",
       "      <td>180001</td>\n",
       "      <td>男</td>\n",
       "      <td>18国际金融</td>\n",
       "      <td>19762330</td>\n",
       "      <td>117154618</td>\n",
       "      <td>20181</td>\n",
       "      <td>2019-04-10 16:42:00</td>\n",
       "      <td>11.0</td>\n",
       "      <td>0.0</td>\n",
       "      <td>2.7</td>\n",
       "      <td>189</td>\n",
       "      <td>消费</td>\n",
       "      <td>82</td>\n",
       "      <td>18</td>\n",
       "      <td>第四食堂</td>\n",
       "      <td>3</td>\n",
       "    </tr>\n",
       "    <tr>\n",
       "      <th>3</th>\n",
       "      <td>1</td>\n",
       "      <td>180001</td>\n",
       "      <td>男</td>\n",
       "      <td>18国际金融</td>\n",
       "      <td>19762330</td>\n",
       "      <td>117200032</td>\n",
       "      <td>20181</td>\n",
       "      <td>2019-04-15 11:43:00</td>\n",
       "      <td>7.0</td>\n",
       "      <td>0.0</td>\n",
       "      <td>43.2</td>\n",
       "      <td>192</td>\n",
       "      <td>消费</td>\n",
       "      <td>62</td>\n",
       "      <td>2</td>\n",
       "      <td>第四食堂</td>\n",
       "      <td>1</td>\n",
       "    </tr>\n",
       "    <tr>\n",
       "      <th>4</th>\n",
       "      <td>1</td>\n",
       "      <td>180001</td>\n",
       "      <td>男</td>\n",
       "      <td>18国际金融</td>\n",
       "      <td>19762330</td>\n",
       "      <td>117206146</td>\n",
       "      <td>20181</td>\n",
       "      <td>2019-04-15 07:50:00</td>\n",
       "      <td>2.5</td>\n",
       "      <td>0.0</td>\n",
       "      <td>50.2</td>\n",
       "      <td>191</td>\n",
       "      <td>消费</td>\n",
       "      <td>2</td>\n",
       "      <td>236</td>\n",
       "      <td>第一食堂</td>\n",
       "      <td>1</td>\n",
       "    </tr>\n",
       "  </tbody>\n",
       "</table>\n",
       "</div>"
      ],
      "text/plain": [
       "   序号    校园卡号 性别    专业名称      门禁卡号        流水号  校园卡编号                消费时间  \\\n",
       "0   1  180001  男  18国际金融  19762330  117331517  20181 2019-04-21 18:30:00   \n",
       "1   1  180001  男  18国际金融  19762330  117341866  20181 2019-04-22 09:40:00   \n",
       "2   1  180001  男  18国际金融  19762330  117154618  20181 2019-04-10 16:42:00   \n",
       "3   1  180001  男  18国际金融  19762330  117200032  20181 2019-04-15 11:43:00   \n",
       "4   1  180001  男  18国际金融  19762330  117206146  20181 2019-04-15 07:50:00   \n",
       "\n",
       "   消费金额  存储金额    余额  消费次数 消费类型  消费项目编码  操作编码  消费地点  消费星期  \n",
       "0   7.0   0.0  28.4   206   消费      41   249  第四食堂     7  \n",
       "1   3.5   0.0  24.9   207   消费      19   236  第一食堂     1  \n",
       "2  11.0   0.0   2.7   189   消费      82    18  第四食堂     3  \n",
       "3   7.0   0.0  43.2   192   消费      62     2  第四食堂     1  \n",
       "4   2.5   0.0  50.2   191   消费       2   236  第一食堂     1  "
      ]
     },
     "execution_count": 316,
     "metadata": {},
     "output_type": "execute_result"
    }
   ],
   "source": [
    "# 通过对低消费学生群体的行为进行分析，探讨是否存在某些特征，能为学校助学金评定提供参考\n",
    "data_1.head()"
   ]
  },
  {
   "cell_type": "code",
   "execution_count": 317,
   "metadata": {},
   "outputs": [],
   "source": [
    "data_lower = data_1.groupby('校园卡号')['消费金额'].sum()\n",
    "data_lower_index = data_lower.sort_values()[:500].index"
   ]
  },
  {
   "cell_type": "code",
   "execution_count": 318,
   "metadata": {},
   "outputs": [],
   "source": [
    "data_lower_values = data_1.loc[data_1['校园卡号'].isin(data_lower_index)]"
   ]
  },
  {
   "cell_type": "code",
   "execution_count": 319,
   "metadata": {},
   "outputs": [],
   "source": [
    "data_lower_canteen = data_lower_values['消费地点'].value_counts()[:10]"
   ]
  },
  {
   "cell_type": "code",
   "execution_count": 320,
   "metadata": {},
   "outputs": [
    {
     "data": {
      "image/png": "[encoded data removed]",
      "text/plain": [
       "<Figure size 576x288 with 1 Axes>"
      ]
     },
     "metadata": {},
     "output_type": "display_data"
    }
   ],
   "source": [
    "fig,ax = plt.subplots(figsize=(8,4))\n",
    "ax.pie(data_lower_canteen.values,labels = data_lower_canteen.index,autopct='%.2f%%')\n",
    "ax.set_title('最低消费常去消费地点')\n",
    "ax.legend(loc=\"center left\",bbox_to_anchor=(1.5, 0, 0.5, 1))\n",
    "plt.show()"
   ]
  }
 ],
 "metadata": {
  "kernelspec": {
   "display_name": "Python 3 (ipykernel)",
   "language": "python",
   "name": "python3"
  },
  "language_info": {
   "codemirror_mode": {
    "name": "ipython",
    "version": 3
   },
   "file_extension": ".py",
   "mimetype": "text/x-python",
   "name": "python",
   "nbconvert_exporter": "python",
   "pygments_lexer": "ipython3",
   "version": "3.7.11"
  }
 },
 "nbformat": 4,
 "nbformat_minor": 4
}
