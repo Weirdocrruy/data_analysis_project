{
 "cells": [
  {
   "cell_type": "code",
   "execution_count": 2,
   "metadata": {},
   "outputs": [],
   "source": [
    "import pandas as pd\n",
    "import matplotlib.pyplot as plt\n",
    "import numpy as np\n",
    "plt.rc('font',family = 'MicroSoft YaHei',weight = 'bold')"
   ]
  },
  {
   "cell_type": "code",
   "execution_count": 3,
   "metadata": {},
   "outputs": [
    {
     "data": {
      "text/html": [
       "<div>\n",
       "<style scoped>\n",
       "    .dataframe tbody tr th:only-of-type {\n",
       "        vertical-align: middle;\n",
       "    }\n",
       "\n",
       "    .dataframe tbody tr th {\n",
       "        vertical-align: top;\n",
       "    }\n",
       "\n",
       "    .dataframe thead th {\n",
       "        text-align: right;\n",
       "    }\n",
       "</style>\n",
       "<table border=\"1\" class=\"dataframe\">\n",
       "  <thead>\n",
       "    <tr style=\"text-align: right;\">\n",
       "      <th></th>\n",
       "      <th>Unnamed: 0</th>\n",
       "      <th>区域</th>\n",
       "      <th>小区名称</th>\n",
       "      <th>户型</th>\n",
       "      <th>面积(㎡)</th>\n",
       "      <th>价格(元/月)</th>\n",
       "      <th>位置</th>\n",
       "    </tr>\n",
       "  </thead>\n",
       "  <tbody>\n",
       "    <tr>\n",
       "      <th>0</th>\n",
       "      <td>0</td>\n",
       "      <td>东城</td>\n",
       "      <td>万国城MOMA</td>\n",
       "      <td>1室0厅</td>\n",
       "      <td>59.11</td>\n",
       "      <td>10000</td>\n",
       "      <td>北京市东城区万国城MOMA</td>\n",
       "    </tr>\n",
       "    <tr>\n",
       "      <th>1</th>\n",
       "      <td>1</td>\n",
       "      <td>东城</td>\n",
       "      <td>北官厅胡同2号院</td>\n",
       "      <td>3室0厅</td>\n",
       "      <td>56.92</td>\n",
       "      <td>6000</td>\n",
       "      <td>北京市东城区北官厅胡同2号院</td>\n",
       "    </tr>\n",
       "    <tr>\n",
       "      <th>2</th>\n",
       "      <td>2</td>\n",
       "      <td>东城</td>\n",
       "      <td>和平里三区</td>\n",
       "      <td>1室1厅</td>\n",
       "      <td>40.57</td>\n",
       "      <td>6900</td>\n",
       "      <td>北京市东城区和平里三区</td>\n",
       "    </tr>\n",
       "    <tr>\n",
       "      <th>3</th>\n",
       "      <td>3</td>\n",
       "      <td>东城</td>\n",
       "      <td>菊儿胡同</td>\n",
       "      <td>2室1厅</td>\n",
       "      <td>57.09</td>\n",
       "      <td>8000</td>\n",
       "      <td>北京市东城区菊儿胡同</td>\n",
       "    </tr>\n",
       "    <tr>\n",
       "      <th>4</th>\n",
       "      <td>4</td>\n",
       "      <td>东城</td>\n",
       "      <td>交道口北二条35号院</td>\n",
       "      <td>1室1厅</td>\n",
       "      <td>42.67</td>\n",
       "      <td>5500</td>\n",
       "      <td>北京市东城区交道口北二条35号院</td>\n",
       "    </tr>\n",
       "    <tr>\n",
       "      <th>...</th>\n",
       "      <td>...</td>\n",
       "      <td>...</td>\n",
       "      <td>...</td>\n",
       "      <td>...</td>\n",
       "      <td>...</td>\n",
       "      <td>...</td>\n",
       "      <td>...</td>\n",
       "    </tr>\n",
       "    <tr>\n",
       "      <th>5768</th>\n",
       "      <td>8218</td>\n",
       "      <td>顺义</td>\n",
       "      <td>怡馨家园</td>\n",
       "      <td>3室1厅</td>\n",
       "      <td>114.03</td>\n",
       "      <td>5500</td>\n",
       "      <td>北京市顺义区怡馨家园</td>\n",
       "    </tr>\n",
       "    <tr>\n",
       "      <th>5769</th>\n",
       "      <td>8219</td>\n",
       "      <td>顺义</td>\n",
       "      <td>旭辉26街区</td>\n",
       "      <td>4室2卫</td>\n",
       "      <td>59.00</td>\n",
       "      <td>5000</td>\n",
       "      <td>北京市顺义区旭辉26街区</td>\n",
       "    </tr>\n",
       "    <tr>\n",
       "      <th>5770</th>\n",
       "      <td>8220</td>\n",
       "      <td>顺义</td>\n",
       "      <td>前进花园玉兰苑</td>\n",
       "      <td>3室1厅</td>\n",
       "      <td>92.41</td>\n",
       "      <td>5800</td>\n",
       "      <td>北京市顺义区前进花园玉兰苑</td>\n",
       "    </tr>\n",
       "    <tr>\n",
       "      <th>5771</th>\n",
       "      <td>8221</td>\n",
       "      <td>顺义</td>\n",
       "      <td>双裕小区</td>\n",
       "      <td>2室1厅</td>\n",
       "      <td>71.81</td>\n",
       "      <td>4200</td>\n",
       "      <td>北京市顺义区双裕小区</td>\n",
       "    </tr>\n",
       "    <tr>\n",
       "      <th>5772</th>\n",
       "      <td>8222</td>\n",
       "      <td>顺义</td>\n",
       "      <td>樱花园二区</td>\n",
       "      <td>1室1厅</td>\n",
       "      <td>35.43</td>\n",
       "      <td>2700</td>\n",
       "      <td>北京市顺义区樱花园二区</td>\n",
       "    </tr>\n",
       "  </tbody>\n",
       "</table>\n",
       "<p>5773 rows × 7 columns</p>\n",
       "</div>"
      ],
      "text/plain": [
       "      Unnamed: 0  区域        小区名称    户型   面积(㎡)  价格(元/月)                位置\n",
       "0              0  东城     万国城MOMA  1室0厅   59.11    10000     北京市东城区万国城MOMA\n",
       "1              1  东城    北官厅胡同2号院  3室0厅   56.92     6000    北京市东城区北官厅胡同2号院\n",
       "2              2  东城       和平里三区  1室1厅   40.57     6900       北京市东城区和平里三区\n",
       "3              3  东城        菊儿胡同  2室1厅   57.09     8000        北京市东城区菊儿胡同\n",
       "4              4  东城  交道口北二条35号院  1室1厅   42.67     5500  北京市东城区交道口北二条35号院\n",
       "...          ...  ..         ...   ...     ...      ...               ...\n",
       "5768        8218  顺义        怡馨家园  3室1厅  114.03     5500        北京市顺义区怡馨家园\n",
       "5769        8219  顺义      旭辉26街区  4室2卫   59.00     5000      北京市顺义区旭辉26街区\n",
       "5770        8220  顺义     前进花园玉兰苑  3室1厅   92.41     5800     北京市顺义区前进花园玉兰苑\n",
       "5771        8221  顺义        双裕小区  2室1厅   71.81     4200        北京市顺义区双裕小区\n",
       "5772        8222  顺义       樱花园二区  1室1厅   35.43     2700       北京市顺义区樱花园二区\n",
       "\n",
       "[5773 rows x 7 columns]"
      ]
     },
     "execution_count": 3,
     "metadata": {},
     "output_type": "execute_result"
    }
   ],
   "source": [
    "data = pd.read_csv(r'C:/Users/Lenovo-PC/Desktop/python爬取数据/链家北京租房数据.csv')\n",
    "data"
   ]
  },
  {
   "cell_type": "code",
   "execution_count": 4,
   "metadata": {},
   "outputs": [
    {
     "data": {
      "text/html": [
       "<div>\n",
       "<style scoped>\n",
       "    .dataframe tbody tr th:only-of-type {\n",
       "        vertical-align: middle;\n",
       "    }\n",
       "\n",
       "    .dataframe tbody tr th {\n",
       "        vertical-align: top;\n",
       "    }\n",
       "\n",
       "    .dataframe thead th {\n",
       "        text-align: right;\n",
       "    }\n",
       "</style>\n",
       "<table border=\"1\" class=\"dataframe\">\n",
       "  <thead>\n",
       "    <tr style=\"text-align: right;\">\n",
       "      <th></th>\n",
       "      <th>区域</th>\n",
       "      <th>小区名称</th>\n",
       "      <th>户型</th>\n",
       "      <th>面积(㎡)</th>\n",
       "      <th>价格(元/月)</th>\n",
       "      <th>位置</th>\n",
       "    </tr>\n",
       "  </thead>\n",
       "  <tbody>\n",
       "    <tr>\n",
       "      <th>0</th>\n",
       "      <td>东城</td>\n",
       "      <td>万国城MOMA</td>\n",
       "      <td>1室0厅</td>\n",
       "      <td>59.11</td>\n",
       "      <td>10000</td>\n",
       "      <td>北京市东城区万国城MOMA</td>\n",
       "    </tr>\n",
       "    <tr>\n",
       "      <th>1</th>\n",
       "      <td>东城</td>\n",
       "      <td>北官厅胡同2号院</td>\n",
       "      <td>3室0厅</td>\n",
       "      <td>56.92</td>\n",
       "      <td>6000</td>\n",
       "      <td>北京市东城区北官厅胡同2号院</td>\n",
       "    </tr>\n",
       "    <tr>\n",
       "      <th>2</th>\n",
       "      <td>东城</td>\n",
       "      <td>和平里三区</td>\n",
       "      <td>1室1厅</td>\n",
       "      <td>40.57</td>\n",
       "      <td>6900</td>\n",
       "      <td>北京市东城区和平里三区</td>\n",
       "    </tr>\n",
       "    <tr>\n",
       "      <th>3</th>\n",
       "      <td>东城</td>\n",
       "      <td>菊儿胡同</td>\n",
       "      <td>2室1厅</td>\n",
       "      <td>57.09</td>\n",
       "      <td>8000</td>\n",
       "      <td>北京市东城区菊儿胡同</td>\n",
       "    </tr>\n",
       "    <tr>\n",
       "      <th>4</th>\n",
       "      <td>东城</td>\n",
       "      <td>交道口北二条35号院</td>\n",
       "      <td>1室1厅</td>\n",
       "      <td>42.67</td>\n",
       "      <td>5500</td>\n",
       "      <td>北京市东城区交道口北二条35号院</td>\n",
       "    </tr>\n",
       "    <tr>\n",
       "      <th>...</th>\n",
       "      <td>...</td>\n",
       "      <td>...</td>\n",
       "      <td>...</td>\n",
       "      <td>...</td>\n",
       "      <td>...</td>\n",
       "      <td>...</td>\n",
       "    </tr>\n",
       "    <tr>\n",
       "      <th>5768</th>\n",
       "      <td>顺义</td>\n",
       "      <td>怡馨家园</td>\n",
       "      <td>3室1厅</td>\n",
       "      <td>114.03</td>\n",
       "      <td>5500</td>\n",
       "      <td>北京市顺义区怡馨家园</td>\n",
       "    </tr>\n",
       "    <tr>\n",
       "      <th>5769</th>\n",
       "      <td>顺义</td>\n",
       "      <td>旭辉26街区</td>\n",
       "      <td>4室2卫</td>\n",
       "      <td>59.00</td>\n",
       "      <td>5000</td>\n",
       "      <td>北京市顺义区旭辉26街区</td>\n",
       "    </tr>\n",
       "    <tr>\n",
       "      <th>5770</th>\n",
       "      <td>顺义</td>\n",
       "      <td>前进花园玉兰苑</td>\n",
       "      <td>3室1厅</td>\n",
       "      <td>92.41</td>\n",
       "      <td>5800</td>\n",
       "      <td>北京市顺义区前进花园玉兰苑</td>\n",
       "    </tr>\n",
       "    <tr>\n",
       "      <th>5771</th>\n",
       "      <td>顺义</td>\n",
       "      <td>双裕小区</td>\n",
       "      <td>2室1厅</td>\n",
       "      <td>71.81</td>\n",
       "      <td>4200</td>\n",
       "      <td>北京市顺义区双裕小区</td>\n",
       "    </tr>\n",
       "    <tr>\n",
       "      <th>5772</th>\n",
       "      <td>顺义</td>\n",
       "      <td>樱花园二区</td>\n",
       "      <td>1室1厅</td>\n",
       "      <td>35.43</td>\n",
       "      <td>2700</td>\n",
       "      <td>北京市顺义区樱花园二区</td>\n",
       "    </tr>\n",
       "  </tbody>\n",
       "</table>\n",
       "<p>5773 rows × 6 columns</p>\n",
       "</div>"
      ],
      "text/plain": [
       "      区域        小区名称    户型   面积(㎡)  价格(元/月)                位置\n",
       "0     东城     万国城MOMA  1室0厅   59.11    10000     北京市东城区万国城MOMA\n",
       "1     东城    北官厅胡同2号院  3室0厅   56.92     6000    北京市东城区北官厅胡同2号院\n",
       "2     东城       和平里三区  1室1厅   40.57     6900       北京市东城区和平里三区\n",
       "3     东城        菊儿胡同  2室1厅   57.09     8000        北京市东城区菊儿胡同\n",
       "4     东城  交道口北二条35号院  1室1厅   42.67     5500  北京市东城区交道口北二条35号院\n",
       "...   ..         ...   ...     ...      ...               ...\n",
       "5768  顺义        怡馨家园  3室1厅  114.03     5500        北京市顺义区怡馨家园\n",
       "5769  顺义      旭辉26街区  4室2卫   59.00     5000      北京市顺义区旭辉26街区\n",
       "5770  顺义     前进花园玉兰苑  3室1厅   92.41     5800     北京市顺义区前进花园玉兰苑\n",
       "5771  顺义        双裕小区  2室1厅   71.81     4200        北京市顺义区双裕小区\n",
       "5772  顺义       樱花园二区  1室1厅   35.43     2700       北京市顺义区樱花园二区\n",
       "\n",
       "[5773 rows x 6 columns]"
      ]
     },
     "execution_count": 4,
     "metadata": {},
     "output_type": "execute_result"
    }
   ],
   "source": [
    "del data['Unnamed: 0']\n",
    "data"
   ]
  },
  {
   "cell_type": "code",
   "execution_count": 5,
   "metadata": {},
   "outputs": [
    {
     "name": "stdout",
     "output_type": "stream",
     "text": [
      "<class 'pandas.core.frame.DataFrame'>\n",
      "RangeIndex: 5773 entries, 0 to 5772\n",
      "Data columns (total 6 columns):\n",
      " #   Column   Non-Null Count  Dtype  \n",
      "---  ------   --------------  -----  \n",
      " 0   区域       5773 non-null   object \n",
      " 1   小区名称     5773 non-null   object \n",
      " 2   户型       5773 non-null   object \n",
      " 3   面积(㎡)    5773 non-null   float64\n",
      " 4   价格(元/月)  5773 non-null   int64  \n",
      " 5   位置       5773 non-null   object \n",
      "dtypes: float64(1), int64(1), object(4)\n",
      "memory usage: 270.7+ KB\n"
     ]
    }
   ],
   "source": [
    "data.info()"
   ]
  },
  {
   "cell_type": "code",
   "execution_count": 6,
   "metadata": {},
   "outputs": [
    {
     "data": {
      "text/html": [
       "<div>\n",
       "<style scoped>\n",
       "    .dataframe tbody tr th:only-of-type {\n",
       "        vertical-align: middle;\n",
       "    }\n",
       "\n",
       "    .dataframe tbody tr th {\n",
       "        vertical-align: top;\n",
       "    }\n",
       "\n",
       "    .dataframe thead th {\n",
       "        text-align: right;\n",
       "    }\n",
       "</style>\n",
       "<table border=\"1\" class=\"dataframe\">\n",
       "  <thead>\n",
       "    <tr style=\"text-align: right;\">\n",
       "      <th></th>\n",
       "      <th>区域</th>\n",
       "      <th>小区名称</th>\n",
       "      <th>户型</th>\n",
       "      <th>面积(㎡)</th>\n",
       "      <th>价格(元/月)</th>\n",
       "      <th>位置</th>\n",
       "    </tr>\n",
       "  </thead>\n",
       "  <tbody>\n",
       "    <tr>\n",
       "      <th>0</th>\n",
       "      <td>东城</td>\n",
       "      <td>万国城MOMA</td>\n",
       "      <td>1室0厅</td>\n",
       "      <td>59.11</td>\n",
       "      <td>10000</td>\n",
       "      <td>北京市东城区万国城MOMA</td>\n",
       "    </tr>\n",
       "    <tr>\n",
       "      <th>1</th>\n",
       "      <td>东城</td>\n",
       "      <td>北官厅胡同2号院</td>\n",
       "      <td>3室0厅</td>\n",
       "      <td>56.92</td>\n",
       "      <td>6000</td>\n",
       "      <td>北京市东城区北官厅胡同2号院</td>\n",
       "    </tr>\n",
       "    <tr>\n",
       "      <th>2</th>\n",
       "      <td>东城</td>\n",
       "      <td>和平里三区</td>\n",
       "      <td>1室1厅</td>\n",
       "      <td>40.57</td>\n",
       "      <td>6900</td>\n",
       "      <td>北京市东城区和平里三区</td>\n",
       "    </tr>\n",
       "    <tr>\n",
       "      <th>3</th>\n",
       "      <td>东城</td>\n",
       "      <td>菊儿胡同</td>\n",
       "      <td>2室1厅</td>\n",
       "      <td>57.09</td>\n",
       "      <td>8000</td>\n",
       "      <td>北京市东城区菊儿胡同</td>\n",
       "    </tr>\n",
       "    <tr>\n",
       "      <th>4</th>\n",
       "      <td>东城</td>\n",
       "      <td>交道口北二条35号院</td>\n",
       "      <td>1室1厅</td>\n",
       "      <td>42.67</td>\n",
       "      <td>5500</td>\n",
       "      <td>北京市东城区交道口北二条35号院</td>\n",
       "    </tr>\n",
       "    <tr>\n",
       "      <th>...</th>\n",
       "      <td>...</td>\n",
       "      <td>...</td>\n",
       "      <td>...</td>\n",
       "      <td>...</td>\n",
       "      <td>...</td>\n",
       "      <td>...</td>\n",
       "    </tr>\n",
       "    <tr>\n",
       "      <th>5768</th>\n",
       "      <td>顺义</td>\n",
       "      <td>怡馨家园</td>\n",
       "      <td>3室1厅</td>\n",
       "      <td>114.03</td>\n",
       "      <td>5500</td>\n",
       "      <td>北京市顺义区怡馨家园</td>\n",
       "    </tr>\n",
       "    <tr>\n",
       "      <th>5769</th>\n",
       "      <td>顺义</td>\n",
       "      <td>旭辉26街区</td>\n",
       "      <td>4室2卫</td>\n",
       "      <td>59.00</td>\n",
       "      <td>5000</td>\n",
       "      <td>北京市顺义区旭辉26街区</td>\n",
       "    </tr>\n",
       "    <tr>\n",
       "      <th>5770</th>\n",
       "      <td>顺义</td>\n",
       "      <td>前进花园玉兰苑</td>\n",
       "      <td>3室1厅</td>\n",
       "      <td>92.41</td>\n",
       "      <td>5800</td>\n",
       "      <td>北京市顺义区前进花园玉兰苑</td>\n",
       "    </tr>\n",
       "    <tr>\n",
       "      <th>5771</th>\n",
       "      <td>顺义</td>\n",
       "      <td>双裕小区</td>\n",
       "      <td>2室1厅</td>\n",
       "      <td>71.81</td>\n",
       "      <td>4200</td>\n",
       "      <td>北京市顺义区双裕小区</td>\n",
       "    </tr>\n",
       "    <tr>\n",
       "      <th>5772</th>\n",
       "      <td>顺义</td>\n",
       "      <td>樱花园二区</td>\n",
       "      <td>1室1厅</td>\n",
       "      <td>35.43</td>\n",
       "      <td>2700</td>\n",
       "      <td>北京市顺义区樱花园二区</td>\n",
       "    </tr>\n",
       "  </tbody>\n",
       "</table>\n",
       "<p>5773 rows × 6 columns</p>\n",
       "</div>"
      ],
      "text/plain": [
       "      区域        小区名称    户型   面积(㎡)  价格(元/月)                位置\n",
       "0     东城     万国城MOMA  1室0厅   59.11    10000     北京市东城区万国城MOMA\n",
       "1     东城    北官厅胡同2号院  3室0厅   56.92     6000    北京市东城区北官厅胡同2号院\n",
       "2     东城       和平里三区  1室1厅   40.57     6900       北京市东城区和平里三区\n",
       "3     东城        菊儿胡同  2室1厅   57.09     8000        北京市东城区菊儿胡同\n",
       "4     东城  交道口北二条35号院  1室1厅   42.67     5500  北京市东城区交道口北二条35号院\n",
       "...   ..         ...   ...     ...      ...               ...\n",
       "5768  顺义        怡馨家园  3室1厅  114.03     5500        北京市顺义区怡馨家园\n",
       "5769  顺义      旭辉26街区  4室2卫   59.00     5000      北京市顺义区旭辉26街区\n",
       "5770  顺义     前进花园玉兰苑  3室1厅   92.41     5800     北京市顺义区前进花园玉兰苑\n",
       "5771  顺义        双裕小区  2室1厅   71.81     4200        北京市顺义区双裕小区\n",
       "5772  顺义       樱花园二区  1室1厅   35.43     2700       北京市顺义区樱花园二区\n",
       "\n",
       "[5773 rows x 6 columns]"
      ]
     },
     "execution_count": 6,
     "metadata": {},
     "output_type": "execute_result"
    }
   ],
   "source": [
    "data = data.drop_duplicates(keep='first')\n",
    "data = data.dropna()\n",
    "data"
   ]
  },
  {
   "cell_type": "markdown",
   "metadata": {},
   "source": [
    "### 数据分析"
   ]
  },
  {
   "cell_type": "markdown",
   "metadata": {},
   "source": [
    "#### 创建一个新表"
   ]
  },
  {
   "cell_type": "code",
   "execution_count": 7,
   "metadata": {},
   "outputs": [
    {
     "data": {
      "text/html": [
       "<div>\n",
       "<style scoped>\n",
       "    .dataframe tbody tr th:only-of-type {\n",
       "        vertical-align: middle;\n",
       "    }\n",
       "\n",
       "    .dataframe tbody tr th {\n",
       "        vertical-align: top;\n",
       "    }\n",
       "\n",
       "    .dataframe thead th {\n",
       "        text-align: right;\n",
       "    }\n",
       "</style>\n",
       "<table border=\"1\" class=\"dataframe\">\n",
       "  <thead>\n",
       "    <tr style=\"text-align: right;\">\n",
       "      <th></th>\n",
       "      <th>区域</th>\n",
       "      <th>房屋数量</th>\n",
       "    </tr>\n",
       "  </thead>\n",
       "  <tbody>\n",
       "  </tbody>\n",
       "</table>\n",
       "</div>"
      ],
      "text/plain": [
       "Empty DataFrame\n",
       "Columns: [区域, 房屋数量]\n",
       "Index: []"
      ]
     },
     "execution_count": 7,
     "metadata": {},
     "output_type": "execute_result"
    }
   ],
   "source": [
    "df_area_count = pd.DataFrame(columns={'区域','房屋数量'})\n",
    "df_area_count"
   ]
  },
  {
   "cell_type": "code",
   "execution_count": 8,
   "metadata": {},
   "outputs": [],
   "source": [
    "df_area_count_gb = data['区域'].groupby(data['区域']).count().sort_values(ascending = False)"
   ]
  },
  {
   "cell_type": "code",
   "execution_count": 9,
   "metadata": {},
   "outputs": [
    {
     "data": {
      "text/html": [
       "<div>\n",
       "<style scoped>\n",
       "    .dataframe tbody tr th:only-of-type {\n",
       "        vertical-align: middle;\n",
       "    }\n",
       "\n",
       "    .dataframe tbody tr th {\n",
       "        vertical-align: top;\n",
       "    }\n",
       "\n",
       "    .dataframe thead th {\n",
       "        text-align: right;\n",
       "    }\n",
       "</style>\n",
       "<table border=\"1\" class=\"dataframe\">\n",
       "  <thead>\n",
       "    <tr style=\"text-align: right;\">\n",
       "      <th></th>\n",
       "      <th>区域</th>\n",
       "      <th>房屋数量</th>\n",
       "    </tr>\n",
       "  </thead>\n",
       "  <tbody>\n",
       "    <tr>\n",
       "      <th>0</th>\n",
       "      <td>朝阳</td>\n",
       "      <td>1597</td>\n",
       "    </tr>\n",
       "    <tr>\n",
       "      <th>1</th>\n",
       "      <td>海淀</td>\n",
       "      <td>605</td>\n",
       "    </tr>\n",
       "    <tr>\n",
       "      <th>2</th>\n",
       "      <td>丰台</td>\n",
       "      <td>577</td>\n",
       "    </tr>\n",
       "    <tr>\n",
       "      <th>3</th>\n",
       "      <td>通州</td>\n",
       "      <td>477</td>\n",
       "    </tr>\n",
       "    <tr>\n",
       "      <th>4</th>\n",
       "      <td>西城</td>\n",
       "      <td>442</td>\n",
       "    </tr>\n",
       "    <tr>\n",
       "      <th>5</th>\n",
       "      <td>大兴</td>\n",
       "      <td>362</td>\n",
       "    </tr>\n",
       "    <tr>\n",
       "      <th>6</th>\n",
       "      <td>昌平</td>\n",
       "      <td>347</td>\n",
       "    </tr>\n",
       "    <tr>\n",
       "      <th>7</th>\n",
       "      <td>顺义</td>\n",
       "      <td>297</td>\n",
       "    </tr>\n",
       "    <tr>\n",
       "      <th>8</th>\n",
       "      <td>门头沟</td>\n",
       "      <td>285</td>\n",
       "    </tr>\n",
       "    <tr>\n",
       "      <th>9</th>\n",
       "      <td>东城</td>\n",
       "      <td>282</td>\n",
       "    </tr>\n",
       "    <tr>\n",
       "      <th>10</th>\n",
       "      <td>房山</td>\n",
       "      <td>180</td>\n",
       "    </tr>\n",
       "    <tr>\n",
       "      <th>11</th>\n",
       "      <td>石景山</td>\n",
       "      <td>175</td>\n",
       "    </tr>\n",
       "    <tr>\n",
       "      <th>12</th>\n",
       "      <td>亦庄开发区</td>\n",
       "      <td>147</td>\n",
       "    </tr>\n",
       "  </tbody>\n",
       "</table>\n",
       "</div>"
      ],
      "text/plain": [
       "       区域  房屋数量\n",
       "0      朝阳  1597\n",
       "1      海淀   605\n",
       "2      丰台   577\n",
       "3      通州   477\n",
       "4      西城   442\n",
       "5      大兴   362\n",
       "6      昌平   347\n",
       "7      顺义   297\n",
       "8     门头沟   285\n",
       "9      东城   282\n",
       "10     房山   180\n",
       "11    石景山   175\n",
       "12  亦庄开发区   147"
      ]
     },
     "execution_count": 9,
     "metadata": {},
     "output_type": "execute_result"
    }
   ],
   "source": [
    "df_area_count['区域'] = df_area_count_gb.index\n",
    "df_area_count['房屋数量'] = df_area_count_gb.values\n",
    "df_area_count"
   ]
  },
  {
   "cell_type": "markdown",
   "metadata": {},
   "source": [
    "#### 户型数据分析"
   ]
  },
  {
   "cell_type": "code",
   "execution_count": 10,
   "metadata": {},
   "outputs": [
    {
     "data": {
      "text/html": [
       "<div>\n",
       "<style scoped>\n",
       "    .dataframe tbody tr th:only-of-type {\n",
       "        vertical-align: middle;\n",
       "    }\n",
       "\n",
       "    .dataframe tbody tr th {\n",
       "        vertical-align: top;\n",
       "    }\n",
       "\n",
       "    .dataframe thead th {\n",
       "        text-align: right;\n",
       "    }\n",
       "</style>\n",
       "<table border=\"1\" class=\"dataframe\">\n",
       "  <thead>\n",
       "    <tr style=\"text-align: right;\">\n",
       "      <th></th>\n",
       "      <th>户型</th>\n",
       "      <th>户型数量</th>\n",
       "    </tr>\n",
       "  </thead>\n",
       "  <tbody>\n",
       "  </tbody>\n",
       "</table>\n",
       "</div>"
      ],
      "text/plain": [
       "Empty DataFrame\n",
       "Columns: [户型, 户型数量]\n",
       "Index: []"
      ]
     },
     "execution_count": 10,
     "metadata": {},
     "output_type": "execute_result"
    }
   ],
   "source": [
    "df_housetype_count = pd.DataFrame(columns={'户型','户型数量'})\n",
    "df_housetype_count"
   ]
  },
  {
   "cell_type": "code",
   "execution_count": 11,
   "metadata": {},
   "outputs": [
    {
     "ename": "TypeError",
     "evalue": "as_index=False only valid with DataFrame",
     "output_type": "error",
     "traceback": [
      "\u001b[1;31m---------------------------------------------------------------------------\u001b[0m",
      "\u001b[1;31mTypeError\u001b[0m                                 Traceback (most recent call last)",
      "\u001b[1;32m<ipython-input-11-810285582d84>\u001b[0m in \u001b[0;36m<module>\u001b[1;34m\u001b[0m\n\u001b[1;32m----> 1\u001b[1;33m \u001b[0mdf_housetype_count_gb\u001b[0m \u001b[1;33m=\u001b[0m \u001b[0mdata\u001b[0m\u001b[1;33m[\u001b[0m\u001b[1;34m'户型'\u001b[0m\u001b[1;33m]\u001b[0m\u001b[1;33m.\u001b[0m\u001b[0mgroupby\u001b[0m\u001b[1;33m(\u001b[0m\u001b[0mdata\u001b[0m\u001b[1;33m[\u001b[0m\u001b[1;34m'户型'\u001b[0m\u001b[1;33m]\u001b[0m\u001b[1;33m,\u001b[0m\u001b[0mas_index\u001b[0m\u001b[1;33m=\u001b[0m\u001b[1;32mFalse\u001b[0m\u001b[1;33m)\u001b[0m\u001b[1;33m.\u001b[0m\u001b[0mcount\u001b[0m\u001b[1;33m(\u001b[0m\u001b[1;33m)\u001b[0m\u001b[1;33m\u001b[0m\u001b[1;33m\u001b[0m\u001b[0m\n\u001b[0m",
      "\u001b[1;32mE:\\Program Files\\Anaconda\\lib\\site-packages\\pandas\\core\\series.py\u001b[0m in \u001b[0;36mgroupby\u001b[1;34m(self, by, axis, level, as_index, sort, group_keys, squeeze, observed, dropna)\u001b[0m\n\u001b[0;32m   1721\u001b[0m         \u001b[0maxis\u001b[0m \u001b[1;33m=\u001b[0m \u001b[0mself\u001b[0m\u001b[1;33m.\u001b[0m\u001b[0m_get_axis_number\u001b[0m\u001b[1;33m(\u001b[0m\u001b[0maxis\u001b[0m\u001b[1;33m)\u001b[0m\u001b[1;33m\u001b[0m\u001b[1;33m\u001b[0m\u001b[0m\n\u001b[0;32m   1722\u001b[0m \u001b[1;33m\u001b[0m\u001b[0m\n\u001b[1;32m-> 1723\u001b[1;33m         return SeriesGroupBy(\n\u001b[0m\u001b[0;32m   1724\u001b[0m             \u001b[0mobj\u001b[0m\u001b[1;33m=\u001b[0m\u001b[0mself\u001b[0m\u001b[1;33m,\u001b[0m\u001b[1;33m\u001b[0m\u001b[1;33m\u001b[0m\u001b[0m\n\u001b[0;32m   1725\u001b[0m             \u001b[0mkeys\u001b[0m\u001b[1;33m=\u001b[0m\u001b[0mby\u001b[0m\u001b[1;33m,\u001b[0m\u001b[1;33m\u001b[0m\u001b[1;33m\u001b[0m\u001b[0m\n",
      "\u001b[1;32mE:\\Program Files\\Anaconda\\lib\\site-packages\\pandas\\core\\groupby\\groupby.py\u001b[0m in \u001b[0;36m__init__\u001b[1;34m(self, obj, keys, axis, level, grouper, exclusions, selection, as_index, sort, group_keys, squeeze, observed, mutated, dropna)\u001b[0m\n\u001b[0;32m    507\u001b[0m         \u001b[1;32mif\u001b[0m \u001b[1;32mnot\u001b[0m \u001b[0mas_index\u001b[0m\u001b[1;33m:\u001b[0m\u001b[1;33m\u001b[0m\u001b[1;33m\u001b[0m\u001b[0m\n\u001b[0;32m    508\u001b[0m             \u001b[1;32mif\u001b[0m \u001b[1;32mnot\u001b[0m \u001b[0misinstance\u001b[0m\u001b[1;33m(\u001b[0m\u001b[0mobj\u001b[0m\u001b[1;33m,\u001b[0m \u001b[0mDataFrame\u001b[0m\u001b[1;33m)\u001b[0m\u001b[1;33m:\u001b[0m\u001b[1;33m\u001b[0m\u001b[1;33m\u001b[0m\u001b[0m\n\u001b[1;32m--> 509\u001b[1;33m                 \u001b[1;32mraise\u001b[0m \u001b[0mTypeError\u001b[0m\u001b[1;33m(\u001b[0m\u001b[1;34m\"as_index=False only valid with DataFrame\"\u001b[0m\u001b[1;33m)\u001b[0m\u001b[1;33m\u001b[0m\u001b[1;33m\u001b[0m\u001b[0m\n\u001b[0m\u001b[0;32m    510\u001b[0m             \u001b[1;32mif\u001b[0m \u001b[0maxis\u001b[0m \u001b[1;33m!=\u001b[0m \u001b[1;36m0\u001b[0m\u001b[1;33m:\u001b[0m\u001b[1;33m\u001b[0m\u001b[1;33m\u001b[0m\u001b[0m\n\u001b[0;32m    511\u001b[0m                 \u001b[1;32mraise\u001b[0m \u001b[0mValueError\u001b[0m\u001b[1;33m(\u001b[0m\u001b[1;34m\"as_index=False only valid for axis=0\"\u001b[0m\u001b[1;33m)\u001b[0m\u001b[1;33m\u001b[0m\u001b[1;33m\u001b[0m\u001b[0m\n",
      "\u001b[1;31mTypeError\u001b[0m: as_index=False only valid with DataFrame"
     ]
    }
   ],
   "source": [
    "df_housetype_count_gb = data['户型'].groupby(data['户型'],as_index=False).count()"
   ]
  },
  {
   "cell_type": "code",
   "execution_count": 28,
   "metadata": {},
   "outputs": [
    {
     "ename": "ValueError",
     "evalue": "Length of values (53) does not match length of index (11)",
     "output_type": "error",
     "traceback": [
      "\u001b[1;31m---------------------------------------------------------------------------\u001b[0m",
      "\u001b[1;31mValueError\u001b[0m                                Traceback (most recent call last)",
      "\u001b[1;32m<ipython-input-28-d0c2d32d53c4>\u001b[0m in \u001b[0;36m<module>\u001b[1;34m\u001b[0m\n\u001b[1;32m----> 1\u001b[1;33m \u001b[0mdf_housetype_count\u001b[0m\u001b[1;33m[\u001b[0m\u001b[1;34m'户型'\u001b[0m\u001b[1;33m]\u001b[0m \u001b[1;33m=\u001b[0m \u001b[0mdf_housetype_count_gb\u001b[0m\u001b[1;33m.\u001b[0m\u001b[0mindex\u001b[0m\u001b[1;33m\u001b[0m\u001b[1;33m\u001b[0m\u001b[0m\n\u001b[0m\u001b[0;32m      2\u001b[0m \u001b[0mdf_housetype_count\u001b[0m\u001b[1;33m[\u001b[0m\u001b[1;34m'户型数量'\u001b[0m\u001b[1;33m]\u001b[0m \u001b[1;33m=\u001b[0m \u001b[0mdf_housetype_count_gb\u001b[0m\u001b[1;33m.\u001b[0m\u001b[0mvalues\u001b[0m\u001b[1;33m\u001b[0m\u001b[1;33m\u001b[0m\u001b[0m\n\u001b[0;32m      3\u001b[0m \u001b[0mdf_housetype_count\u001b[0m\u001b[1;33m\u001b[0m\u001b[1;33m\u001b[0m\u001b[0m\n",
      "\u001b[1;32mE:\\Program Files\\Anaconda\\lib\\site-packages\\pandas\\core\\frame.py\u001b[0m in \u001b[0;36m__setitem__\u001b[1;34m(self, key, value)\u001b[0m\n\u001b[0;32m   3038\u001b[0m         \u001b[1;32melse\u001b[0m\u001b[1;33m:\u001b[0m\u001b[1;33m\u001b[0m\u001b[1;33m\u001b[0m\u001b[0m\n\u001b[0;32m   3039\u001b[0m             \u001b[1;31m# set column\u001b[0m\u001b[1;33m\u001b[0m\u001b[1;33m\u001b[0m\u001b[1;33m\u001b[0m\u001b[0m\n\u001b[1;32m-> 3040\u001b[1;33m             \u001b[0mself\u001b[0m\u001b[1;33m.\u001b[0m\u001b[0m_set_item\u001b[0m\u001b[1;33m(\u001b[0m\u001b[0mkey\u001b[0m\u001b[1;33m,\u001b[0m \u001b[0mvalue\u001b[0m\u001b[1;33m)\u001b[0m\u001b[1;33m\u001b[0m\u001b[1;33m\u001b[0m\u001b[0m\n\u001b[0m\u001b[0;32m   3041\u001b[0m \u001b[1;33m\u001b[0m\u001b[0m\n\u001b[0;32m   3042\u001b[0m     \u001b[1;32mdef\u001b[0m \u001b[0m_setitem_slice\u001b[0m\u001b[1;33m(\u001b[0m\u001b[0mself\u001b[0m\u001b[1;33m,\u001b[0m \u001b[0mkey\u001b[0m\u001b[1;33m:\u001b[0m \u001b[0mslice\u001b[0m\u001b[1;33m,\u001b[0m \u001b[0mvalue\u001b[0m\u001b[1;33m)\u001b[0m\u001b[1;33m:\u001b[0m\u001b[1;33m\u001b[0m\u001b[1;33m\u001b[0m\u001b[0m\n",
      "\u001b[1;32mE:\\Program Files\\Anaconda\\lib\\site-packages\\pandas\\core\\frame.py\u001b[0m in \u001b[0;36m_set_item\u001b[1;34m(self, key, value)\u001b[0m\n\u001b[0;32m   3114\u001b[0m         \"\"\"\n\u001b[0;32m   3115\u001b[0m         \u001b[0mself\u001b[0m\u001b[1;33m.\u001b[0m\u001b[0m_ensure_valid_index\u001b[0m\u001b[1;33m(\u001b[0m\u001b[0mvalue\u001b[0m\u001b[1;33m)\u001b[0m\u001b[1;33m\u001b[0m\u001b[1;33m\u001b[0m\u001b[0m\n\u001b[1;32m-> 3116\u001b[1;33m         \u001b[0mvalue\u001b[0m \u001b[1;33m=\u001b[0m \u001b[0mself\u001b[0m\u001b[1;33m.\u001b[0m\u001b[0m_sanitize_column\u001b[0m\u001b[1;33m(\u001b[0m\u001b[0mkey\u001b[0m\u001b[1;33m,\u001b[0m \u001b[0mvalue\u001b[0m\u001b[1;33m)\u001b[0m\u001b[1;33m\u001b[0m\u001b[1;33m\u001b[0m\u001b[0m\n\u001b[0m\u001b[0;32m   3117\u001b[0m         \u001b[0mNDFrame\u001b[0m\u001b[1;33m.\u001b[0m\u001b[0m_set_item\u001b[0m\u001b[1;33m(\u001b[0m\u001b[0mself\u001b[0m\u001b[1;33m,\u001b[0m \u001b[0mkey\u001b[0m\u001b[1;33m,\u001b[0m \u001b[0mvalue\u001b[0m\u001b[1;33m)\u001b[0m\u001b[1;33m\u001b[0m\u001b[1;33m\u001b[0m\u001b[0m\n\u001b[0;32m   3118\u001b[0m \u001b[1;33m\u001b[0m\u001b[0m\n",
      "\u001b[1;32mE:\\Program Files\\Anaconda\\lib\\site-packages\\pandas\\core\\frame.py\u001b[0m in \u001b[0;36m_sanitize_column\u001b[1;34m(self, key, value, broadcast)\u001b[0m\n\u001b[0;32m   3762\u001b[0m \u001b[1;33m\u001b[0m\u001b[0m\n\u001b[0;32m   3763\u001b[0m             \u001b[1;31m# turn me into an ndarray\u001b[0m\u001b[1;33m\u001b[0m\u001b[1;33m\u001b[0m\u001b[1;33m\u001b[0m\u001b[0m\n\u001b[1;32m-> 3764\u001b[1;33m             \u001b[0mvalue\u001b[0m \u001b[1;33m=\u001b[0m \u001b[0msanitize_index\u001b[0m\u001b[1;33m(\u001b[0m\u001b[0mvalue\u001b[0m\u001b[1;33m,\u001b[0m \u001b[0mself\u001b[0m\u001b[1;33m.\u001b[0m\u001b[0mindex\u001b[0m\u001b[1;33m)\u001b[0m\u001b[1;33m\u001b[0m\u001b[1;33m\u001b[0m\u001b[0m\n\u001b[0m\u001b[0;32m   3765\u001b[0m             \u001b[1;32mif\u001b[0m \u001b[1;32mnot\u001b[0m \u001b[0misinstance\u001b[0m\u001b[1;33m(\u001b[0m\u001b[0mvalue\u001b[0m\u001b[1;33m,\u001b[0m \u001b[1;33m(\u001b[0m\u001b[0mnp\u001b[0m\u001b[1;33m.\u001b[0m\u001b[0mndarray\u001b[0m\u001b[1;33m,\u001b[0m \u001b[0mIndex\u001b[0m\u001b[1;33m)\u001b[0m\u001b[1;33m)\u001b[0m\u001b[1;33m:\u001b[0m\u001b[1;33m\u001b[0m\u001b[1;33m\u001b[0m\u001b[0m\n\u001b[0;32m   3766\u001b[0m                 \u001b[1;32mif\u001b[0m \u001b[0misinstance\u001b[0m\u001b[1;33m(\u001b[0m\u001b[0mvalue\u001b[0m\u001b[1;33m,\u001b[0m \u001b[0mlist\u001b[0m\u001b[1;33m)\u001b[0m \u001b[1;32mand\u001b[0m \u001b[0mlen\u001b[0m\u001b[1;33m(\u001b[0m\u001b[0mvalue\u001b[0m\u001b[1;33m)\u001b[0m \u001b[1;33m>\u001b[0m \u001b[1;36m0\u001b[0m\u001b[1;33m:\u001b[0m\u001b[1;33m\u001b[0m\u001b[1;33m\u001b[0m\u001b[0m\n",
      "\u001b[1;32mE:\\Program Files\\Anaconda\\lib\\site-packages\\pandas\\core\\internals\\construction.py\u001b[0m in \u001b[0;36msanitize_index\u001b[1;34m(data, index)\u001b[0m\n\u001b[0;32m    745\u001b[0m     \"\"\"\n\u001b[0;32m    746\u001b[0m     \u001b[1;32mif\u001b[0m \u001b[0mlen\u001b[0m\u001b[1;33m(\u001b[0m\u001b[0mdata\u001b[0m\u001b[1;33m)\u001b[0m \u001b[1;33m!=\u001b[0m \u001b[0mlen\u001b[0m\u001b[1;33m(\u001b[0m\u001b[0mindex\u001b[0m\u001b[1;33m)\u001b[0m\u001b[1;33m:\u001b[0m\u001b[1;33m\u001b[0m\u001b[1;33m\u001b[0m\u001b[0m\n\u001b[1;32m--> 747\u001b[1;33m         raise ValueError(\n\u001b[0m\u001b[0;32m    748\u001b[0m             \u001b[1;34m\"Length of values \"\u001b[0m\u001b[1;33m\u001b[0m\u001b[1;33m\u001b[0m\u001b[0m\n\u001b[0;32m    749\u001b[0m             \u001b[1;34mf\"({len(data)}) \"\u001b[0m\u001b[1;33m\u001b[0m\u001b[1;33m\u001b[0m\u001b[0m\n",
      "\u001b[1;31mValueError\u001b[0m: Length of values (53) does not match length of index (11)"
     ]
    }
   ],
   "source": [
    "df_housetype_count['户型'] = df_housetype_count_gb.index\n",
    "df_housetype_count['户型数量'] = df_housetype_count_gb.values\n",
    "df_housetype_count=df_housetype_count[df_housetype_count['户型数量']>50]\n",
    "df_housetype_count"
   ]
  },
  {
   "cell_type": "code",
   "execution_count": 25,
   "metadata": {},
   "outputs": [
    {
     "data": {
      "text/plain": [
       "2     1室0厅\n",
       "3     1室1卫\n",
       "4     1室1厅\n",
       "8     2室1卫\n",
       "9     2室1厅\n",
       "11    2室2厅\n",
       "15    3室1卫\n",
       "16    3室1厅\n",
       "18    3室2厅\n",
       "22    4室1厅\n",
       "24    4室2厅\n",
       "Name: 户型, dtype: object"
      ]
     },
     "execution_count": 25,
     "metadata": {},
     "output_type": "execute_result"
    }
   ],
   "source": [
    "df_housetype_count['户型']"
   ]
  },
  {
   "cell_type": "code",
   "execution_count": 26,
   "metadata": {},
   "outputs": [
    {
     "data": {
      "text/plain": [
       "2      244\n",
       "3      126\n",
       "4      844\n",
       "8      120\n",
       "9     2249\n",
       "11     265\n",
       "15      92\n",
       "16     766\n",
       "18     489\n",
       "22      58\n",
       "24     191\n",
       "Name: 户型数量, dtype: int64"
      ]
     },
     "execution_count": 26,
     "metadata": {},
     "output_type": "execute_result"
    }
   ],
   "source": [
    "df_housetype_count['户型数量']"
   ]
  },
  {
   "cell_type": "code",
   "execution_count": 30,
   "metadata": {},
   "outputs": [
    {
     "data": {
      "image/png": "[encoded data removed]",
      "text/plain": [
       "<Figure size 432x288 with 1 Axes>"
      ]
     },
     "metadata": {
      "needs_background": "light"
     },
     "output_type": "display_data"
    }
   ],
   "source": [
    "house_type = df_housetype_count['户型']\n",
    "house_type_num = df_housetype_count['户型数量']\n",
    "plt.barh(range(11),house_type_num,height=0.7,color = 'steelblue',alpha=0.8)\n",
    "plt.yticks(range(11),house_type)\n",
    "plt.xlim(0,2500)\n",
    "plt.xlabel('数量')\n",
    "plt.ylabel('户型种类')\n",
    "plt.title('北京地区各户型房屋数量')\n",
    "for x,y in enumerate(house_type_num):\n",
    "    plt.text(y+0.2,x-0.1,'%0.f'%y)\n",
    "plt.show()"
   ]
  },
  {
   "cell_type": "markdown",
   "metadata": {},
   "source": [
    "#### 各区域平均租金分析"
   ]
  },
  {
   "cell_type": "code",
   "execution_count": 34,
   "metadata": {},
   "outputs": [
    {
     "data": {
      "text/html": [
       "<div>\n",
       "<style scoped>\n",
       "    .dataframe tbody tr th:only-of-type {\n",
       "        vertical-align: middle;\n",
       "    }\n",
       "\n",
       "    .dataframe tbody tr th {\n",
       "        vertical-align: top;\n",
       "    }\n",
       "\n",
       "    .dataframe thead th {\n",
       "        text-align: right;\n",
       "    }\n",
       "</style>\n",
       "<table border=\"1\" class=\"dataframe\">\n",
       "  <thead>\n",
       "    <tr style=\"text-align: right;\">\n",
       "      <th></th>\n",
       "      <th>区域</th>\n",
       "      <th>房屋数量</th>\n",
       "      <th>总金额</th>\n",
       "      <th>总面积</th>\n",
       "      <th>平均租金(元)</th>\n",
       "    </tr>\n",
       "  </thead>\n",
       "  <tbody>\n",
       "  </tbody>\n",
       "</table>\n",
       "</div>"
      ],
      "text/plain": [
       "Empty DataFrame\n",
       "Columns: [区域, 房屋数量, 总金额, 总面积, 平均租金(元)]\n",
       "Index: []"
      ]
     },
     "execution_count": 34,
     "metadata": {},
     "output_type": "execute_result"
    }
   ],
   "source": [
    "sum_price = data['价格(元/月)'].groupby(data['区域']).sum()\n",
    "sum_area = data['面积(㎡)'].groupby(data['区域']).sum()\n",
    "df_area_price = pd.DataFrame(columns={'区域','房屋数量','总面积','平均租金(元)'})\n",
    "df_area_price['区域'] = sum_price.index\n",
    "df_area_price['总金额'] = sum_price.values\n",
    "df_area_price['总面积'] = sum_area.values\n",
    "df_area_price['平均租金(元)'] = (sum_price.values/sum_area.values).round(2)\n",
    "df_area_price = pd.merge(df_area_count,df_area_price)\n",
    "df_area_price = df_area_price.loc[:,['区域','房屋数量','总金额','总面积','平均租金(元)']]\n",
    "df_area_price"
   ]
  },
  {
   "cell_type": "code",
   "execution_count": 36,
   "metadata": {},
   "outputs": [
    {
     "data": {
      "image/png": "[encoded data removed]",
      "text/plain": [
       "<Figure size 720x576 with 2 Axes>"
      ]
     },
     "metadata": {
      "needs_background": "light"
     },
     "output_type": "display_data"
    }
   ],
   "source": [
    "import matplotlib.ticker as mtick\n",
    "from matplotlib.font_manager import FontProperties\n",
    "num=df_area_price['房屋数量']\n",
    "price=df_area_price['平均租金(元)']\n",
    "l=(i for i in range(13))\n",
    "lx=df_area_price['区域']\n",
    "fig=plt.figure(figsize=(10,8))\n",
    "ax1=fig.add_subplot(111)\n",
    "plt.xticks(rotation=0)\n",
    "ax1.plot(lx,price,label='价格')\n",
    "for i,(_x,_y) in enumerate(zip(l,price)):\n",
    "    plt.text(_x,_y,price[i],color='black',fontsize=10)\n",
    "ax1.set_ylim([0,200])\n",
    "ax1.set_ylabel('价格')\n",
    "plt.legend(prop={'family':'SimHei','size':8},loc='upper left')\n",
    "ax2=ax1.twinx()\n",
    "plt.bar(lx,num,alpha=0.3,color='g',label=\"数量\")\n",
    "ax2.set_ylim([0,2000])\n",
    "ax2.set_ylabel('数量')\n",
    "plt.legend(prop={'family':'SimHei','size':8},loc='upper right')\n",
    "plt.show()"
   ]
  },
  {
   "cell_type": "code",
   "execution_count": 37,
   "metadata": {},
   "outputs": [
    {
     "name": "stdout",
     "output_type": "stream",
     "text": [
      "房屋面积最大值为1133.0平方米\n",
      "房屋面积最小值为11.63平方米\n",
      "房屋价格最大值为150000元\n",
      "房屋价格最小值为566元\n"
     ]
    }
   ],
   "source": [
    "mj_max=data['面积(㎡)'].max()\n",
    "mj_min=data['面积(㎡)'].min()\n",
    "price_max=data['价格(元/月)'].max()\n",
    "price_min=data['价格(元/月)'].min()\n",
    "print('房屋面积最大值为{}平方米'.format(mj_max))\n",
    "print('房屋面积最小值为{}平方米'.format(mj_min))\n",
    "print('房屋价格最大值为{}元'.format(price_max))\n",
    "print('房屋价格最小值为{}元'.format(price_min))"
   ]
  },
  {
   "cell_type": "code",
   "execution_count": 38,
   "metadata": {},
   "outputs": [
    {
     "data": {
      "text/html": [
       "<div>\n",
       "<style scoped>\n",
       "    .dataframe tbody tr th:only-of-type {\n",
       "        vertical-align: middle;\n",
       "    }\n",
       "\n",
       "    .dataframe tbody tr th {\n",
       "        vertical-align: top;\n",
       "    }\n",
       "\n",
       "    .dataframe thead th {\n",
       "        text-align: right;\n",
       "    }\n",
       "</style>\n",
       "<table border=\"1\" class=\"dataframe\">\n",
       "  <thead>\n",
       "    <tr style=\"text-align: right;\">\n",
       "      <th></th>\n",
       "      <th>counts</th>\n",
       "      <th>freqs</th>\n",
       "    </tr>\n",
       "    <tr>\n",
       "      <th>categories</th>\n",
       "      <th></th>\n",
       "      <th></th>\n",
       "    </tr>\n",
       "  </thead>\n",
       "  <tbody>\n",
       "    <tr>\n",
       "      <th>(1, 30]</th>\n",
       "      <td>41</td>\n",
       "      <td>0.007102</td>\n",
       "    </tr>\n",
       "    <tr>\n",
       "      <th>(30, 50]</th>\n",
       "      <td>710</td>\n",
       "      <td>0.122986</td>\n",
       "    </tr>\n",
       "    <tr>\n",
       "      <th>(50, 70]</th>\n",
       "      <td>1566</td>\n",
       "      <td>0.271263</td>\n",
       "    </tr>\n",
       "    <tr>\n",
       "      <th>(70, 90]</th>\n",
       "      <td>1094</td>\n",
       "      <td>0.189503</td>\n",
       "    </tr>\n",
       "    <tr>\n",
       "      <th>(90, 120]</th>\n",
       "      <td>1082</td>\n",
       "      <td>0.187424</td>\n",
       "    </tr>\n",
       "    <tr>\n",
       "      <th>(120, 140]</th>\n",
       "      <td>381</td>\n",
       "      <td>0.065997</td>\n",
       "    </tr>\n",
       "    <tr>\n",
       "      <th>(140, 160]</th>\n",
       "      <td>274</td>\n",
       "      <td>0.047462</td>\n",
       "    </tr>\n",
       "    <tr>\n",
       "      <th>(160, 1200]</th>\n",
       "      <td>625</td>\n",
       "      <td>0.108263</td>\n",
       "    </tr>\n",
       "  </tbody>\n",
       "</table>\n",
       "</div>"
      ],
      "text/plain": [
       "             counts     freqs\n",
       "categories                   \n",
       "(1, 30]          41  0.007102\n",
       "(30, 50]        710  0.122986\n",
       "(50, 70]       1566  0.271263\n",
       "(70, 90]       1094  0.189503\n",
       "(90, 120]      1082  0.187424\n",
       "(120, 140]      381  0.065997\n",
       "(140, 160]      274  0.047462\n",
       "(160, 1200]     625  0.108263"
      ]
     },
     "execution_count": 38,
     "metadata": {},
     "output_type": "execute_result"
    }
   ],
   "source": [
    "area_divide=[1,30,50,70,90,120,140,160,1200]\n",
    "area_cut=pd.cut(list(data['面积(㎡)']),area_divide)\n",
    "area_cut_data=area_cut.describe()\n",
    "area_cut_data"
   ]
  },
  {
   "cell_type": "code",
   "execution_count": 41,
   "metadata": {},
   "outputs": [
    {
     "data": {
      "image/png": "[encoded data removed]",
      "text/plain": [
       "<Figure size 720x720 with 1 Axes>"
      ]
     },
     "metadata": {},
     "output_type": "display_data"
    }
   ],
   "source": [
    "plt.figure(figsize=(10,10))\n",
    "area_percentage=(area_cut_data['freqs'].values)*100\n",
    "np.set_printoptions(precision=2)\n",
    "labels=['30平方米以下','30-50平方米','50-70平方米','70-90平方米','90-120平方米','120-140平方米','140-160平方米','160平方米以上']\n",
    "plt.axes(aspect=1)\n",
    "plt.pie(x=area_percentage,labels=labels,autopct='%.1f%%',shadow=True,labeldistance=1.2,startangle=90,pctdistance=0.7)\n",
    "plt.legend(loc='upper right')\n",
    "plt.show()"
   ]
  },
  {
   "cell_type": "code",
   "execution_count": null,
   "metadata": {},
   "outputs": [],
   "source": []
  }
 ],
 "metadata": {
  "kernelspec": {
   "display_name": "Python 3",
   "language": "python",
   "name": "python3"
  },
  "language_info": {
   "codemirror_mode": {
    "name": "ipython",
    "version": 3
   },
   "file_extension": ".py",
   "mimetype": "text/x-python",
   "name": "python",
   "nbconvert_exporter": "python",
   "pygments_lexer": "ipython3",
   "version": "3.8.5"
  }
 },
 "nbformat": 4,
 "nbformat_minor": 4
}
