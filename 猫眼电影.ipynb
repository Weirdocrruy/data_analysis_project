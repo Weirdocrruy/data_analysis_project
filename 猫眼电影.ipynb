{
 "cells": [
  {
   "cell_type": "code",
   "execution_count": 1,
   "id": "77cd1f2c",
   "metadata": {},
   "outputs": [],
   "source": [
    "import requests\n",
    "from lxml import etree\n",
    "import time"
   ]
  },
  {
   "cell_type": "code",
   "execution_count": 2,
   "id": "3ff87029",
   "metadata": {},
   "outputs": [],
   "source": [
    "headers = {\n",
    "'Accept': 'text/html,application/xhtml+xml,application/xml;q=0.9,image/avif,image/webp,image/apng,*/*;q=0.8,application/signed-exchange;v=b3;q=0.9',\n",
    "'Accept-Encoding': 'gzip, deflate, br',\n",
    "'Accept-Language': 'zh-CN,zh;q=0.9',\n",
    "'Cache-Control': 'no-cache',\n",
    "'Connection': 'keep-alive',\n",
    "'Cookie': '__mta=207861293.1635950777122.1636003674088.1636004175711.25; uuid_n_v=v1; uuid=CC1DFD203CB411ECB5848BACA0C9469452F9B1DC7E614B96821466D352266819; _lxsdk_cuid=17ce643d298c8-047056bc65bcf-a7d193d-100200-17ce643d298c8; _lxsdk=CC1DFD203CB411ECB5848BACA0C9469452F9B1DC7E614B96821466D352266819; _csrf=8ba5af9e7b76a5bcd2f0cf4141cad5100bd5fa3ebfd06bb5ddb418fe5b284cdf; Hm_lvt_703e94591e87be68cc8da0da7cbd0be2=1635950777,1636003006,1636003667,1636003674; Hm_lpvt_703e94591e87be68cc8da0da7cbd0be2=1636004176; _lxsdk_s=17ce960c5f1-9eb-b9-4a7%7C%7C35',\n",
    "'Host': 'www.maoyan.com',\n",
    "'Pragma': 'no-cache',\n",
    "'Referer': 'https://www.maoyan.com/board/4?offset=90',\n",
    "'sec-ch-ua': '\"Google Chrome\";v=\"93\", \" Not;A Brand\";v=\"99\", \"Chromium\";v=\"93\"',\n",
    "'sec-ch-ua-mobile': '?0',\n",
    "'sec-ch-ua-platform': '\"Windows\"',\n",
    "'Sec-Fetch-Dest': 'document',\n",
    "'Sec-Fetch-Mode': 'navigate',\n",
    "'Sec-Fetch-Site': 'same-origin',\n",
    "'Sec-Fetch-User': '?1',\n",
    "'Upgrade-Insecure-Requests': '1',\n",
    "'User-Agent': 'Mozilla/5.0 (Windows NT 10.0; Win64; x64) AppleWebKit/537.36 (KHTML, like Gecko) Chrome/93.0.4577.63 Safari/537.36'}"
   ]
  },
  {
   "cell_type": "code",
   "execution_count": 3,
   "id": "4b8ec352",
   "metadata": {},
   "outputs": [
    {
     "name": "stdout",
     "output_type": "stream",
     "text": [
      "https://www.maoyan.com/board/4?offset=0\n",
      "https://www.maoyan.com/board/4?offset=10\n",
      "https://www.maoyan.com/board/4?offset=20\n",
      "https://www.maoyan.com/board/4?offset=30\n",
      "https://www.maoyan.com/board/4?offset=40\n",
      "https://www.maoyan.com/board/4?offset=50\n",
      "https://www.maoyan.com/board/4?offset=60\n",
      "https://www.maoyan.com/board/4?offset=70\n",
      "https://www.maoyan.com/board/4?offset=80\n",
      "https://www.maoyan.com/board/4?offset=90\n"
     ]
    },
    {
     "data": {
      "text/plain": [
       "['/films/1200486',\n",
       " '/films/1297',\n",
       " '/films/1206605',\n",
       " '/films/1292',\n",
       " '/films/1211270',\n",
       " '/films/1203',\n",
       " '/films/1216365',\n",
       " '/films/1303',\n",
       " '/films/4055',\n",
       " '/films/46818',\n",
       " '/films/416',\n",
       " '/films/1633',\n",
       " '/films/1212',\n",
       " '/films/78341',\n",
       " '/films/1304',\n",
       " '/films/70976',\n",
       " '/films/3667',\n",
       " '/films/1319',\n",
       " '/films/342068',\n",
       " '/films/588362',\n",
       " '/films/1218727',\n",
       " '/films/995',\n",
       " '/films/1215201',\n",
       " '/films/38286',\n",
       " '/films/267',\n",
       " '/films/344881',\n",
       " '/films/899',\n",
       " '/films/718',\n",
       " '/films/67214',\n",
       " '/films/1205',\n",
       " '/films/123',\n",
       " '/films/458721',\n",
       " '/films/1247',\n",
       " '/films/341178',\n",
       " '/films/20394',\n",
       " '/films/1375',\n",
       " '/films/342754',\n",
       " '/films/409801',\n",
       " '/films/1204',\n",
       " '/films/6289',\n",
       " '/films/246286',\n",
       " '/films/488',\n",
       " '/films/248172',\n",
       " '/films/2039',\n",
       " '/films/1284164',\n",
       " '/films/553231',\n",
       " '/films/182',\n",
       " '/films/18318',\n",
       " '/films/1291',\n",
       " '/films/243',\n",
       " '/films/1332',\n",
       " '/films/23127',\n",
       " '/films/614',\n",
       " '/films/1314',\n",
       " '/films/7431',\n",
       " '/films/1322',\n",
       " '/films/11473',\n",
       " '/films/1383',\n",
       " '/films/78997',\n",
       " '/films/78449',\n",
       " '/films/338365',\n",
       " '/films/158',\n",
       " '/films/65496',\n",
       " '/films/4587',\n",
       " '/films/337625',\n",
       " '/films/1368',\n",
       " '/films/2641',\n",
       " '/films/1239',\n",
       " '/films/2212',\n",
       " '/films/43',\n",
       " '/films/343203',\n",
       " '/films/1321',\n",
       " '/films/1597',\n",
       " '/films/224973',\n",
       " '/films/1287',\n",
       " '/films/38099',\n",
       " '/films/1575',\n",
       " '/films/1290',\n",
       " '/films/513',\n",
       " '/films/246433',\n",
       " '/films/4430',\n",
       " '/films/78538',\n",
       " '/films/1167831',\n",
       " '/films/78312',\n",
       " '/films/14652',\n",
       " '/films/1228',\n",
       " '/films/30932',\n",
       " '/films/2049',\n",
       " '/films/2204',\n",
       " '/films/790',\n",
       " '/films/11105',\n",
       " '/films/338349',\n",
       " '/films/1379',\n",
       " '/films/672130',\n",
       " '/films/1202',\n",
       " '/films/4883',\n",
       " '/films/1233',\n",
       " '/films/20131',\n",
       " '/films/1219776',\n",
       " '/films/78646']"
      ]
     },
     "execution_count": 3,
     "metadata": {},
     "output_type": "execute_result"
    }
   ],
   "source": [
    "href = []\n",
    "for i in range(0,100,10):\n",
    "    url = 'https://www.maoyan.com/board/4?offset={}'.format(i)\n",
    "    print(url)\n",
    "    response = requests.get(url,headers=headers).text\n",
    "    html = etree.HTML(response)\n",
    "    hrefs = html.xpath('//div[@class=\"movie-item-info\"]/p/a/@href')\n",
    "    for href_ in hrefs:\n",
    "        href.append(href_)\n",
    "href        "
   ]
  },
  {
   "cell_type": "code",
   "execution_count": 4,
   "id": "33a215a2",
   "metadata": {},
   "outputs": [
    {
     "data": {
      "text/plain": [
       "100"
      ]
     },
     "execution_count": 4,
     "metadata": {},
     "output_type": "execute_result"
    }
   ],
   "source": [
    "len(href)"
   ]
  },
  {
   "cell_type": "code",
   "execution_count": 31,
   "id": "132d0731",
   "metadata": {},
   "outputs": [],
   "source": [
    "import pandas as pd\n",
    "data = pd.DataFrame()"
   ]
  },
  {
   "cell_type": "code",
   "execution_count": 46,
   "id": "50a1f781",
   "metadata": {},
   "outputs": [],
   "source": [
    "headers = {\n",
    "'Connection': 'keep-alive',\n",
    "'content-encoding': 'gzip',\n",
    "'Content-Length': '55179',\n",
    "'Content-Type': 'text/html; charset=utf-8',\n",
    "'Date': 'Thu, 04 Nov 2021 07:07:10 GMT',\n",
    "'Server': 'nginx',\n",
    "'Set-Cookie': 'lt=; path=/; expires=Thu, 01 Jan 1970 00:00:00 GMT; httponly',\n",
    "'Set-Cookie': 'lt.sig=y8Z35vm0s33pZar20SZcdcJx7mE; path=/; expires=Thu, 01 Jan 1970 00:00:00 GMT; httponly',\n",
    "'Set-Cookie': 'uid=; path=/; expires=Thu, 01 Jan 1970 00:00:00 GMT; httponly',\n",
    "'Set-Cookie': 'uid.sig=hlqKwItixnwRJMmu6X-sP8X3qa8; path=/; expires=Thu, 01 Jan 1970 00:00:00 GMT; httponly',\n",
    "'Strict-Transport-Security': 'max-age=1800',\n",
    "'Accept': 'text/html,application/xhtml+xml,application/xml;q=0.9,image/avif,image/webp,image/apng,*/*;q=0.8,application/signed-exchange;v=b3;q=0.9',\n",
    "'Accept-Encoding': 'gzip, deflate, br',\n",
    "'Accept-Language': 'zh-CN,zh;q=0.9',\n",
    "'Cache-Control': 'no-cache',\n",
    "'Connection': 'keep-alive',\n",
    "'Cookie': '__mta=146191883.1635950812324.1636009471225.1636009623004.13; uuid_n_v=v1; uuid=CC1DFD203CB411ECB5848BACA0C9469452F9B1DC7E614B96821466D352266819; _lxsdk_cuid=17ce643d298c8-047056bc65bcf-a7d193d-100200-17ce643d298c8; _lxsdk=CC1DFD203CB411ECB5848BACA0C9469452F9B1DC7E614B96821466D352266819; _csrf=8ba5af9e7b76a5bcd2f0cf4141cad5100bd5fa3ebfd06bb5ddb418fe5b284cdf; Hm_lvt_703e94591e87be68cc8da0da7cbd0be2=1635950777,1636003006,1636003667,1636003674; Hm_lpvt_703e94591e87be68cc8da0da7cbd0be2=1636009623; _lxsdk_s=17ce960c5f1-9eb-b9-4a7%7C%7C67',\n",
    "'Host': 'www.maoyan.com',\n",
    "'Pragma': 'no-cache',\n",
    "'Referer': 'https://verify.maoyan.com/',\n",
    "'sec-ch-ua': '\"Google Chrome\";v=\"93\", \" Not;A Brand\";v=\"99\", \"Chromium\";v=\"93\"',\n",
    "'sec-ch-ua-mobile': '?0',\n",
    "'sec-ch-ua-platform': '\"Windows\"',\n",
    "'Sec-Fetch-Dest': 'document',\n",
    "'Sec-Fetch-Mode': 'navigate',\n",
    "'Sec-Fetch-Site': 'same-site',\n",
    "'Sec-Fetch-User': '?1',\n",
    "'Upgrade-Insecure-Requests': '1',\n",
    "'User-Agent': 'Mozilla/5.0 (Windows NT 10.0; Win64; x64) AppleWebKit/537.36 (KHTML, like Gecko) Chrome/93.0.4577.63 Safari/537.36'\n",
    "}\n",
    "def get_content(detail_url):\n",
    "#     print(detail_url)\n",
    "    res = requests.get(detail_url,headers = headers).text\n",
    "    html = etree.HTML(res)\n",
    "    title = html.xpath('/html/body/div[3]/div/div[2]/div[1]/h1/text()')\n",
    "    types = html.xpath('/html/body/div[3]/div/div[2]/div[1]/ul/li[1]/a/text()')\n",
    "    Duration = html.xpath('/html/body/div[3]/div/div[2]/div[1]/ul/li[2]/text()')\n",
    "    rating = html.xpath('/html/body/div[3]/div/div[2]/div[3]/div[1]/div/span/span/text()')\n",
    "    income = html.xpath('/html/body/div[3]/div/div[2]/div[3]/div[2]/div/span[1]/text()')\n",
    "    director = html.xpath('//*[@id=\"app\"]/div/div[1]/div/div[3]/div[1]/div[2]/div[2]/div/div[1]/ul/li/div/a/text()')\n",
    "    actor = html.xpath('//*[@id=\"app\"]/div/div[1]/div/div[3]/div[1]/div[2]/div[2]/div/div[2]/ul/li/div/a/text()')\n",
    "    time.sleep(0.5)\n",
    "    return title,types,Duration,rating,income,director,actor"
   ]
  },
  {
   "cell_type": "code",
   "execution_count": 47,
   "id": "0dd7c832",
   "metadata": {},
   "outputs": [],
   "source": [
    "from concurrent.futures import ThreadPoolExecutor"
   ]
  },
  {
   "cell_type": "code",
   "execution_count": null,
   "id": "4a9313fb",
   "metadata": {},
   "outputs": [],
   "source": [
    "if __name__ == '__main__':\n",
    "    # for i in range(1,14870):  # 效率低\n",
    "    #     domnload_one_page(f'http://www.xinfadi.com.cn/marketanalysis/0/list/{i}.shtml')\n",
    "    #  创建线程池\n",
    "    with ThreadPoolExecutor(50) as t:\n",
    "        for detail_url in href:\n",
    "            detail_url = 'https://www.maoyan.com/'+ detail_url\n",
    "            # 把下载任务提交给线程池\n",
    "            t.submit(get_content, detail_url)\n",
    "    print('全部下载完毕！')"
   ]
  },
  {
   "cell_type": "code",
   "execution_count": null,
   "id": "47939be8",
   "metadata": {},
   "outputs": [],
   "source": [
    "data['title'] = title\n",
    "data['type'] = types\n",
    "data['Duration'] = Duration\n",
    "data['rating'] = rating\n",
    "data['income'] = income\n",
    "data['director'] = director\n",
    "data['actor'] = actor"
   ]
  },
  {
   "cell_type": "code",
   "execution_count": 18,
   "id": "c1b00a94",
   "metadata": {},
   "outputs": [
    {
     "name": "stdout",
     "output_type": "stream",
     "text": [
      "我不是药神 剧情   喜剧 中国大陆\n",
      "          / 117分钟 . . 文牧野 徐峥\n",
      "     \n",
      "      周一围\n",
      "     \n",
      "      王传君\n",
      "     \n",
      "      谭卓\n"
     ]
    }
   ],
   "source": [
    "detail_url = 'https://www.maoyan.com/films/1200486'\n",
    "#     print(detail_url)\n",
    "res = requests.get(detail_url,headers = headers).text\n",
    "html = etree.HTML(res)\n",
    "title =' '.join( html.xpath('/html/body/div[3]/div/div[2]/div[1]/h1/text()')).strip()\n",
    "types = ' '.join(html.xpath('/html/body/div[3]/div/div[2]/div[1]/ul/li[1]/a/text()')).strip()\n",
    "Duration = ' '.join(html.xpath('/html/body/div[3]/div/div[2]/div[1]/ul/li[2]/text()')).strip()\n",
    "rating = ' '.join(html.xpath('/html/body/div[3]/div/div[2]/div[3]/div[1]/div/span/span/text()'))\n",
    "income = ' '.join(html.xpath('/html/body/div[3]/div/div[2]/div[3]/div[2]/div/span[1]/text()'))\n",
    "director = ' '.join(html.xpath('//*[@id=\"app\"]/div/div[1]/div/div[3]/div[1]/div[2]/div[2]/div/div[1]/ul/li/div/a/text()')).strip()\n",
    "actor = ' '.join(html.xpath('//*[@id=\"app\"]/div/div[1]/div/div[3]/div[1]/div[2]/div[2]/div/div[2]/ul/li/div/a/text()')).strip()\n",
    "print(title,types,Duration,rating,income,director,actor)"
   ]
  },
  {
   "cell_type": "code",
   "execution_count": 43,
   "id": "1a0bd725",
   "metadata": {},
   "outputs": [
    {
     "data": {
      "text/html": [
       "<div>\n",
       "<style scoped>\n",
       "    .dataframe tbody tr th:only-of-type {\n",
       "        vertical-align: middle;\n",
       "    }\n",
       "\n",
       "    .dataframe tbody tr th {\n",
       "        vertical-align: top;\n",
       "    }\n",
       "\n",
       "    .dataframe thead th {\n",
       "        text-align: right;\n",
       "    }\n",
       "</style>\n",
       "<table border=\"1\" class=\"dataframe\">\n",
       "  <thead>\n",
       "    <tr style=\"text-align: right;\">\n",
       "      <th></th>\n",
       "      <th>title</th>\n",
       "    </tr>\n",
       "  </thead>\n",
       "  <tbody>\n",
       "  </tbody>\n",
       "</table>\n",
       "</div>"
      ],
      "text/plain": [
       "Empty DataFrame\n",
       "Columns: [title]\n",
       "Index: []"
      ]
     },
     "execution_count": 43,
     "metadata": {},
     "output_type": "execute_result"
    }
   ],
   "source": [
    "data"
   ]
  },
  {
   "cell_type": "code",
   "execution_count": 14,
   "id": "c8056f34",
   "metadata": {},
   "outputs": [],
   "source": [
    "from fontTools.cffLib import TTFont"
   ]
  },
  {
   "cell_type": "code",
   "execution_count": 16,
   "id": "aadcae6b",
   "metadata": {},
   "outputs": [
    {
     "name": "stderr",
     "output_type": "stream",
     "text": [
      "2 extra bytes in post.stringData array\n"
     ]
    }
   ],
   "source": [
    "font = TTFont(r'E:\\python爬虫\\487dfe5ceaed6fe09cabe88ca3abb4db2292.woff')\n",
    "font.saveXML('base.xml')"
   ]
  },
  {
   "cell_type": "code",
   "execution_count": null,
   "id": "6eb546c4",
   "metadata": {},
   "outputs": [],
   "source": []
  }
 ],
 "metadata": {
  "kernelspec": {
   "display_name": "Python 3 ",
   "language": "python",
   "name": "python3"
  },
  "language_info": {
   "codemirror_mode": {
    "name": "ipython",
    "version": 3
   },
   "file_extension": ".py",
   "mimetype": "text/x-python",
   "name": "python",
   "nbconvert_exporter": "python",
   "pygments_lexer": "ipython3",
   "version": "3.8.12"
  }
 },
 "nbformat": 4,
 "nbformat_minor": 5
}
