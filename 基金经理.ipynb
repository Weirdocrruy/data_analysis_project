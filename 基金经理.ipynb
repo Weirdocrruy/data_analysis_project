{
 "cells": [
  {
   "cell_type": "code",
   "execution_count": 4,
   "metadata": {},
   "outputs": [],
   "source": [
    "import pandas as pd\n",
    "import numpy as np\n",
    "import matplotlib.pyplot as plt\n",
    "%matplotlib inline"
   ]
  },
  {
   "cell_type": "code",
   "execution_count": 5,
   "metadata": {},
   "outputs": [],
   "source": [
    "data = pd.read_excel(r'C:/Users/Lenovo-PC/Desktop/股票型基金经理_完整特征.xlsx')"
   ]
  },
  {
   "cell_type": "code",
   "execution_count": 6,
   "metadata": {},
   "outputs": [
    {
     "data": {
      "text/html": [
       "<div>\n",
       "<style scoped>\n",
       "    .dataframe tbody tr th:only-of-type {\n",
       "        vertical-align: middle;\n",
       "    }\n",
       "\n",
       "    .dataframe tbody tr th {\n",
       "        vertical-align: top;\n",
       "    }\n",
       "\n",
       "    .dataframe thead th {\n",
       "        text-align: right;\n",
       "    }\n",
       "</style>\n",
       "<table border=\"1\" class=\"dataframe\">\n",
       "  <thead>\n",
       "    <tr style=\"text-align: right;\">\n",
       "      <th></th>\n",
       "      <th>经验值</th>\n",
       "      <th>绩效点</th>\n",
       "      <th>风控能力</th>\n",
       "      <th>稳定性</th>\n",
       "      <th>跳槽频率</th>\n",
       "      <th>人气指数</th>\n",
       "      <th>1年内夏普比率</th>\n",
       "      <th>基金经理总收益</th>\n",
       "      <th>从业</th>\n",
       "      <th>数</th>\n",
       "      <th>年均回报率</th>\n",
       "      <th>经理名字</th>\n",
       "      <th>类型</th>\n",
       "      <th>2年内夏普比率</th>\n",
       "    </tr>\n",
       "  </thead>\n",
       "  <tbody>\n",
       "    <tr>\n",
       "      <th>0</th>\n",
       "      <td>7.42</td>\n",
       "      <td>10.00</td>\n",
       "      <td>9.44</td>\n",
       "      <td>7.12</td>\n",
       "      <td>2.98</td>\n",
       "      <td>70423</td>\n",
       "      <td>1.74</td>\n",
       "      <td>1.513467</td>\n",
       "      <td>5</td>\n",
       "      <td>351</td>\n",
       "      <td>0.2533</td>\n",
       "      <td>丘栋荣</td>\n",
       "      <td>股票型</td>\n",
       "      <td>0.93</td>\n",
       "    </tr>\n",
       "    <tr>\n",
       "      <th>1</th>\n",
       "      <td>8.54</td>\n",
       "      <td>10.00</td>\n",
       "      <td>6.67</td>\n",
       "      <td>7.61</td>\n",
       "      <td>2.34</td>\n",
       "      <td>41549</td>\n",
       "      <td>1.04</td>\n",
       "      <td>1.386581</td>\n",
       "      <td>7</td>\n",
       "      <td>10</td>\n",
       "      <td>0.1973</td>\n",
       "      <td>刘格菘</td>\n",
       "      <td>股票型</td>\n",
       "      <td>1.78</td>\n",
       "    </tr>\n",
       "    <tr>\n",
       "      <th>2</th>\n",
       "      <td>8.73</td>\n",
       "      <td>7.57</td>\n",
       "      <td>6.76</td>\n",
       "      <td>6.53</td>\n",
       "      <td>7.66</td>\n",
       "      <td>27769</td>\n",
       "      <td>3.95</td>\n",
       "      <td>1.178453</td>\n",
       "      <td>7</td>\n",
       "      <td>242</td>\n",
       "      <td>0.1536</td>\n",
       "      <td>鄢耀</td>\n",
       "      <td>股票型</td>\n",
       "      <td>2.39</td>\n",
       "    </tr>\n",
       "    <tr>\n",
       "      <th>3</th>\n",
       "      <td>6.17</td>\n",
       "      <td>9.71</td>\n",
       "      <td>9.42</td>\n",
       "      <td>9.93</td>\n",
       "      <td>5.32</td>\n",
       "      <td>24954</td>\n",
       "      <td>3.04</td>\n",
       "      <td>1.952145</td>\n",
       "      <td>5</td>\n",
       "      <td>117</td>\n",
       "      <td>0.3666</td>\n",
       "      <td>袁芳</td>\n",
       "      <td>股票型</td>\n",
       "      <td>1.92</td>\n",
       "    </tr>\n",
       "    <tr>\n",
       "      <th>4</th>\n",
       "      <td>6.60</td>\n",
       "      <td>9.90</td>\n",
       "      <td>8.26</td>\n",
       "      <td>8.61</td>\n",
       "      <td>5.48</td>\n",
       "      <td>23251</td>\n",
       "      <td>2.19</td>\n",
       "      <td>1.692705</td>\n",
       "      <td>5</td>\n",
       "      <td>174</td>\n",
       "      <td>0.3087</td>\n",
       "      <td>周应波</td>\n",
       "      <td>股票型</td>\n",
       "      <td>1.47</td>\n",
       "    </tr>\n",
       "    <tr>\n",
       "      <th>...</th>\n",
       "      <td>...</td>\n",
       "      <td>...</td>\n",
       "      <td>...</td>\n",
       "      <td>...</td>\n",
       "      <td>...</td>\n",
       "      <td>...</td>\n",
       "      <td>...</td>\n",
       "      <td>...</td>\n",
       "      <td>...</td>\n",
       "      <td>...</td>\n",
       "      <td>...</td>\n",
       "      <td>...</td>\n",
       "      <td>...</td>\n",
       "      <td>...</td>\n",
       "    </tr>\n",
       "    <tr>\n",
       "      <th>70</th>\n",
       "      <td>5.54</td>\n",
       "      <td>0.58</td>\n",
       "      <td>6.18</td>\n",
       "      <td>5.21</td>\n",
       "      <td>4.93</td>\n",
       "      <td>1537</td>\n",
       "      <td>2.41</td>\n",
       "      <td>0.279047</td>\n",
       "      <td>4</td>\n",
       "      <td>338</td>\n",
       "      <td>0.0565</td>\n",
       "      <td>何珅华</td>\n",
       "      <td>股票型</td>\n",
       "      <td>1.52</td>\n",
       "    </tr>\n",
       "    <tr>\n",
       "      <th>71</th>\n",
       "      <td>3.03</td>\n",
       "      <td>8.07</td>\n",
       "      <td>9.16</td>\n",
       "      <td>2.57</td>\n",
       "      <td>2.58</td>\n",
       "      <td>1528</td>\n",
       "      <td>2.90</td>\n",
       "      <td>1.091092</td>\n",
       "      <td>2</td>\n",
       "      <td>213</td>\n",
       "      <td>0.4210</td>\n",
       "      <td>Mark Davids</td>\n",
       "      <td>股票型</td>\n",
       "      <td>NaN</td>\n",
       "    </tr>\n",
       "    <tr>\n",
       "      <th>72</th>\n",
       "      <td>5.92</td>\n",
       "      <td>8.07</td>\n",
       "      <td>4.40</td>\n",
       "      <td>8.19</td>\n",
       "      <td>5.13</td>\n",
       "      <td>1494</td>\n",
       "      <td>3.21</td>\n",
       "      <td>0.973779</td>\n",
       "      <td>5</td>\n",
       "      <td>47</td>\n",
       "      <td>0.1898</td>\n",
       "      <td>Robert Lloyd</td>\n",
       "      <td>股票型</td>\n",
       "      <td>1.07</td>\n",
       "    </tr>\n",
       "    <tr>\n",
       "      <th>73</th>\n",
       "      <td>6.46</td>\n",
       "      <td>6.50</td>\n",
       "      <td>4.20</td>\n",
       "      <td>9.38</td>\n",
       "      <td>5.42</td>\n",
       "      <td>1392</td>\n",
       "      <td>1.92</td>\n",
       "      <td>0.707600</td>\n",
       "      <td>5</td>\n",
       "      <td>152</td>\n",
       "      <td>0.1305</td>\n",
       "      <td>许一尊</td>\n",
       "      <td>股票型</td>\n",
       "      <td>1.07</td>\n",
       "    </tr>\n",
       "    <tr>\n",
       "      <th>74</th>\n",
       "      <td>7.07</td>\n",
       "      <td>1.65</td>\n",
       "      <td>2.85</td>\n",
       "      <td>3.40</td>\n",
       "      <td>5.80</td>\n",
       "      <td>1194</td>\n",
       "      <td>1.92</td>\n",
       "      <td>0.693266</td>\n",
       "      <td>5</td>\n",
       "      <td>292</td>\n",
       "      <td>0.1193</td>\n",
       "      <td>李林益</td>\n",
       "      <td>股票型</td>\n",
       "      <td>1.26</td>\n",
       "    </tr>\n",
       "  </tbody>\n",
       "</table>\n",
       "<p>75 rows × 14 columns</p>\n",
       "</div>"
      ],
      "text/plain": [
       "     经验值    绩效点  风控能力   稳定性  跳槽频率   人气指数  1年内夏普比率   基金经理总收益  从业    数   年均回报率  \\\n",
       "0   7.42  10.00  9.44  7.12  2.98  70423     1.74  1.513467   5  351  0.2533   \n",
       "1   8.54  10.00  6.67  7.61  2.34  41549     1.04  1.386581   7   10  0.1973   \n",
       "2   8.73   7.57  6.76  6.53  7.66  27769     3.95  1.178453   7  242  0.1536   \n",
       "3   6.17   9.71  9.42  9.93  5.32  24954     3.04  1.952145   5  117  0.3666   \n",
       "4   6.60   9.90  8.26  8.61  5.48  23251     2.19  1.692705   5  174  0.3087   \n",
       "..   ...    ...   ...   ...   ...    ...      ...       ...  ..  ...     ...   \n",
       "70  5.54   0.58  6.18  5.21  4.93   1537     2.41  0.279047   4  338  0.0565   \n",
       "71  3.03   8.07  9.16  2.57  2.58   1528     2.90  1.091092   2  213  0.4210   \n",
       "72  5.92   8.07  4.40  8.19  5.13   1494     3.21  0.973779   5   47  0.1898   \n",
       "73  6.46   6.50  4.20  9.38  5.42   1392     1.92  0.707600   5  152  0.1305   \n",
       "74  7.07   1.65  2.85  3.40  5.80   1194     1.92  0.693266   5  292  0.1193   \n",
       "\n",
       "            经理名字   类型  2年内夏普比率  \n",
       "0            丘栋荣  股票型     0.93  \n",
       "1            刘格菘  股票型     1.78  \n",
       "2             鄢耀  股票型     2.39  \n",
       "3             袁芳  股票型     1.92  \n",
       "4            周应波  股票型     1.47  \n",
       "..           ...  ...      ...  \n",
       "70           何珅华  股票型     1.52  \n",
       "71   Mark Davids  股票型      NaN  \n",
       "72  Robert Lloyd  股票型     1.07  \n",
       "73           许一尊  股票型     1.07  \n",
       "74           李林益  股票型     1.26  \n",
       "\n",
       "[75 rows x 14 columns]"
      ]
     },
     "execution_count": 6,
     "metadata": {},
     "output_type": "execute_result"
    }
   ],
   "source": [
    "data"
   ]
  },
  {
   "cell_type": "code",
   "execution_count": 8,
   "metadata": {},
   "outputs": [
    {
     "data": {
      "text/plain": [
       "<matplotlib.collections.PathCollection at 0x1d40e8af910>"
      ]
     },
     "execution_count": 8,
     "metadata": {},
     "output_type": "execute_result"
    },
    {
     "data": {
      "image/png": "[encoded data removed]",
      "text/plain": [
       "<Figure size 432x288 with 1 Axes>"
      ]
     },
     "metadata": {
      "needs_background": "light"
     },
     "output_type": "display_data"
    }
   ],
   "source": [
    "plt.scatter(data['经验值'],data['基金经理总收益'])"
   ]
  },
  {
   "cell_type": "code",
   "execution_count": 14,
   "metadata": {},
   "outputs": [
    {
     "data": {
      "text/plain": [
       "(60,)"
      ]
     },
     "execution_count": 14,
     "metadata": {},
     "output_type": "execute_result"
    }
   ],
   "source": [
    "from sklearn.model_selection import train_test_split\n",
    "X_train,X_test,Y_train,Y_test = train_test_split(data['经验值'],data['1年内夏普比率'],train_size=0.8)\n",
    "X_train.head()\n",
    "X_train.shape"
   ]
  },
  {
   "cell_type": "code",
   "execution_count": 15,
   "metadata": {},
   "outputs": [
    {
     "data": {
      "text/plain": [
       "LinearRegression()"
      ]
     },
     "execution_count": 15,
     "metadata": {},
     "output_type": "execute_result"
    }
   ],
   "source": [
    "X_train = X_train.values.reshape(-1,1)\n",
    "X_test = X_test.values.reshape(-1,1)\n",
    "from sklearn.linear_model import LinearRegression\n",
    "model = LinearRegression()\n",
    "model.fit(X_train,Y_train)"
   ]
  },
  {
   "cell_type": "code",
   "execution_count": 16,
   "metadata": {},
   "outputs": [
    {
     "name": "stdout",
     "output_type": "stream",
     "text": [
      "该模型的简单线性回归方程为y = 2.3493405483030623 + -0.011283518994907114 * x\n"
     ]
    }
   ],
   "source": [
    "a = model.intercept_\n",
    "b = model.coef_\n",
    "a = float(a)\n",
    "b = float(b)\n",
    "print('该模型的简单线性回归方程为y = {} + {} * x'.format(a, b))"
   ]
  },
  {
   "cell_type": "code",
   "execution_count": 17,
   "metadata": {},
   "outputs": [
    {
     "data": {
      "image/png": "[encoded data removed]",
      "text/plain": [
       "<Figure size 432x288 with 1 Axes>"
      ]
     },
     "metadata": {
      "needs_background": "light"
     },
     "output_type": "display_data"
    }
   ],
   "source": [
    "plt.scatter(data['经验值'],data['1年内夏普比率'],color='green',label='train data')\n",
    "plt.ylabel('reward')\n",
    "plt.xlabel('experice')\n",
    "plt.title('data')\n",
    "#绘制最佳拟合曲线\n",
    "Y_train_pred = model.predict(X_train)\n",
    "plt.plot(X_train, Y_train_pred, color = 'black', label = 'best line')\n",
    "\n",
    "#来个图例\n",
    "plt.legend(loc = 2)\n",
    "\n",
    "plt.show()"
   ]
  },
  {
   "cell_type": "code",
   "execution_count": 18,
   "metadata": {},
   "outputs": [
    {
     "data": {
      "text/plain": [
       "-0.31894228743780806"
      ]
     },
     "execution_count": 18,
     "metadata": {},
     "output_type": "execute_result"
    }
   ],
   "source": [
    "model.score(X_test,Y_test)"
   ]
  },
  {
   "cell_type": "code",
   "execution_count": null,
   "metadata": {},
   "outputs": [],
   "source": []
  }
 ],
 "metadata": {
  "kernelspec": {
   "display_name": "Python 3",
   "language": "python",
   "name": "python3"
  },
  "language_info": {
   "codemirror_mode": {
    "name": "ipython",
    "version": 3
   },
   "file_extension": ".py",
   "mimetype": "text/x-python",
   "name": "python",
   "nbconvert_exporter": "python",
   "pygments_lexer": "ipython3",
   "version": "3.8.5"
  }
 },
 "nbformat": 4,
 "nbformat_minor": 4
}
