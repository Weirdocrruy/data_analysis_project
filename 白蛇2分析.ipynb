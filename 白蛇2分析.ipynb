{
 "cells": [
  {
   "cell_type": "code",
   "execution_count": 2,
   "metadata": {},
   "outputs": [],
   "source": [
    "import pandas as pd"
   ]
  },
  {
   "cell_type": "code",
   "execution_count": 8,
   "metadata": {},
   "outputs": [],
   "source": [
    "df = pd.read_excel(r'E:/数据分析数据集/白蛇2/白蛇2.xlsx')"
   ]
  },
  {
   "cell_type": "code",
   "execution_count": 9,
   "metadata": {
    "scrolled": true
   },
   "outputs": [
    {
     "data": {
      "text/html": [
       "<div>\n",
       "<style scoped>\n",
       "    .dataframe tbody tr th:only-of-type {\n",
       "        vertical-align: middle;\n",
       "    }\n",
       "\n",
       "    .dataframe tbody tr th {\n",
       "        vertical-align: top;\n",
       "    }\n",
       "\n",
       "    .dataframe thead th {\n",
       "        text-align: right;\n",
       "    }\n",
       "</style>\n",
       "<table border=\"1\" class=\"dataframe\">\n",
       "  <thead>\n",
       "    <tr style=\"text-align: right;\">\n",
       "      <th></th>\n",
       "      <th>id</th>\n",
       "      <th>用户名</th>\n",
       "      <th>城市</th>\n",
       "      <th>评分</th>\n",
       "      <th>评论</th>\n",
       "      <th>评论时间</th>\n",
       "    </tr>\n",
       "  </thead>\n",
       "  <tbody>\n",
       "    <tr>\n",
       "      <th>0</th>\n",
       "      <td>1142669584</td>\n",
       "      <td>淇桐糯米饭啦</td>\n",
       "      <td>来宾</td>\n",
       "      <td>5.0</td>\n",
       "      <td>剧情非常有吸引力，看个动画片给了我惊喜</td>\n",
       "      <td>2021-08-31 23:56:30</td>\n",
       "    </tr>\n",
       "    <tr>\n",
       "      <th>1</th>\n",
       "      <td>1142662178</td>\n",
       "      <td>LnV14610189</td>\n",
       "      <td>西宁</td>\n",
       "      <td>5.0</td>\n",
       "      <td>画面感超强！</td>\n",
       "      <td>2021-08-31 23:36:00</td>\n",
       "    </tr>\n",
       "    <tr>\n",
       "      <th>2</th>\n",
       "      <td>1142666877</td>\n",
       "      <td>Alo861902585</td>\n",
       "      <td>广州</td>\n",
       "      <td>5.0</td>\n",
       "      <td>和一衔接的很不错，精彩</td>\n",
       "      <td>2021-08-31 23:34:41</td>\n",
       "    </tr>\n",
       "    <tr>\n",
       "      <th>3</th>\n",
       "      <td>1142660216</td>\n",
       "      <td>Y。</td>\n",
       "      <td>西安</td>\n",
       "      <td>4.0</td>\n",
       "      <td>画面人物没的说，你永远可以相信追光。剧情还算顺畅整体节奏也还可以，推荐观看——！</td>\n",
       "      <td>2021-08-31 23:30:56</td>\n",
       "    </tr>\n",
       "    <tr>\n",
       "      <th>4</th>\n",
       "      <td>1142669423</td>\n",
       "      <td>想为你揽月</td>\n",
       "      <td>凤台</td>\n",
       "      <td>5.0</td>\n",
       "      <td>不错哦，虽然小青小白的执念有一丢丢丢丢丢牵强（还好）。如果能细说一下牛魔的执念剧情会更完美，...</td>\n",
       "      <td>2021-08-31 23:27:28</td>\n",
       "    </tr>\n",
       "  </tbody>\n",
       "</table>\n",
       "</div>"
      ],
      "text/plain": [
       "           id           用户名  城市   评分  \\\n",
       "0  1142669584        淇桐糯米饭啦  来宾  5.0   \n",
       "1  1142662178   LnV14610189  西宁  5.0   \n",
       "2  1142666877  Alo861902585  广州  5.0   \n",
       "3  1142660216            Y。  西安  4.0   \n",
       "4  1142669423         想为你揽月  凤台  5.0   \n",
       "\n",
       "                                                  评论                 评论时间  \n",
       "0                                剧情非常有吸引力，看个动画片给了我惊喜  2021-08-31 23:56:30  \n",
       "1                                             画面感超强！  2021-08-31 23:36:00  \n",
       "2                                        和一衔接的很不错，精彩  2021-08-31 23:34:41  \n",
       "3           画面人物没的说，你永远可以相信追光。剧情还算顺畅整体节奏也还可以，推荐观看——！  2021-08-31 23:30:56  \n",
       "4  不错哦，虽然小青小白的执念有一丢丢丢丢丢牵强（还好）。如果能细说一下牛魔的执念剧情会更完美，...  2021-08-31 23:27:28  "
      ]
     },
     "execution_count": 9,
     "metadata": {},
     "output_type": "execute_result"
    }
   ],
   "source": [
    "df.head()"
   ]
  },
  {
   "cell_type": "code",
   "execution_count": 10,
   "metadata": {},
   "outputs": [
    {
     "name": "stdout",
     "output_type": "stream",
     "text": [
      "<class 'pandas.core.frame.DataFrame'>\n",
      "RangeIndex: 20584 entries, 0 to 20583\n",
      "Data columns (total 6 columns):\n",
      " #   Column  Non-Null Count  Dtype  \n",
      "---  ------  --------------  -----  \n",
      " 0   id      20584 non-null  int64  \n",
      " 1   用户名     20583 non-null  object \n",
      " 2   城市      20584 non-null  object \n",
      " 3   评分      20584 non-null  float64\n",
      " 4   评论      20584 non-null  object \n",
      " 5   评论时间    20584 non-null  object \n",
      "dtypes: float64(1), int64(1), object(4)\n",
      "memory usage: 965.0+ KB\n"
     ]
    }
   ],
   "source": [
    "df.info()"
   ]
  },
  {
   "cell_type": "code",
   "execution_count": 11,
   "metadata": {},
   "outputs": [
    {
     "data": {
      "text/plain": [
       "id      0\n",
       "用户名     0\n",
       "城市      0\n",
       "评分      0\n",
       "评论      0\n",
       "评论时间    0\n",
       "dtype: int64"
      ]
     },
     "execution_count": 11,
     "metadata": {},
     "output_type": "execute_result"
    }
   ],
   "source": [
    "df['用户名'].fillna('未知',inplace=True)\n",
    "df.isnull().sum()"
   ]
  },
  {
   "cell_type": "code",
   "execution_count": 7,
   "metadata": {},
   "outputs": [],
   "source": [
    "from PIL import Image\n",
    "from collections import Counter\n",
    "from pyecharts.charts import Geo\n",
    "from pyecharts.charts import Bar\n",
    "from pyecharts.charts import Line\n",
    "from pyecharts.charts import Pie\n",
    "from pyecharts.charts import Calendar\n",
    "from pyecharts.charts import WordCloud\n",
    "from pyecharts import options as opts\n",
    "from pyecharts.commons.utils import JsCode\n",
    "from pyecharts.globals import ThemeType,SymbolType,ChartType"
   ]
  },
  {
   "cell_type": "code",
   "execution_count": 14,
   "metadata": {},
   "outputs": [],
   "source": [
    "df['评论时间'] = pd.to_datetime(df['评论时间'], format='%Y/%m/%d %H:%M:%S')"
   ]
  },
  {
   "cell_type": "code",
   "execution_count": 15,
   "metadata": {},
   "outputs": [
    {
     "data": {
      "text/html": [
       "<div>\n",
       "<style scoped>\n",
       "    .dataframe tbody tr th:only-of-type {\n",
       "        vertical-align: middle;\n",
       "    }\n",
       "\n",
       "    .dataframe tbody tr th {\n",
       "        vertical-align: top;\n",
       "    }\n",
       "\n",
       "    .dataframe thead th {\n",
       "        text-align: right;\n",
       "    }\n",
       "</style>\n",
       "<table border=\"1\" class=\"dataframe\">\n",
       "  <thead>\n",
       "    <tr style=\"text-align: right;\">\n",
       "      <th></th>\n",
       "      <th>id</th>\n",
       "      <th>用户名</th>\n",
       "      <th>城市</th>\n",
       "      <th>评分</th>\n",
       "      <th>评论</th>\n",
       "      <th>评论时间</th>\n",
       "      <th>星期</th>\n",
       "    </tr>\n",
       "  </thead>\n",
       "  <tbody>\n",
       "    <tr>\n",
       "      <th>0</th>\n",
       "      <td>1142669584</td>\n",
       "      <td>淇桐糯米饭啦</td>\n",
       "      <td>来宾</td>\n",
       "      <td>5.0</td>\n",
       "      <td>剧情非常有吸引力，看个动画片给了我惊喜</td>\n",
       "      <td>2021-08-31 23:56:30</td>\n",
       "      <td>星期二</td>\n",
       "    </tr>\n",
       "    <tr>\n",
       "      <th>1</th>\n",
       "      <td>1142662178</td>\n",
       "      <td>LnV14610189</td>\n",
       "      <td>西宁</td>\n",
       "      <td>5.0</td>\n",
       "      <td>画面感超强！</td>\n",
       "      <td>2021-08-31 23:36:00</td>\n",
       "      <td>星期二</td>\n",
       "    </tr>\n",
       "    <tr>\n",
       "      <th>2</th>\n",
       "      <td>1142666877</td>\n",
       "      <td>Alo861902585</td>\n",
       "      <td>广州</td>\n",
       "      <td>5.0</td>\n",
       "      <td>和一衔接的很不错，精彩</td>\n",
       "      <td>2021-08-31 23:34:41</td>\n",
       "      <td>星期二</td>\n",
       "    </tr>\n",
       "    <tr>\n",
       "      <th>3</th>\n",
       "      <td>1142660216</td>\n",
       "      <td>Y。</td>\n",
       "      <td>西安</td>\n",
       "      <td>4.0</td>\n",
       "      <td>画面人物没的说，你永远可以相信追光。剧情还算顺畅整体节奏也还可以，推荐观看——！</td>\n",
       "      <td>2021-08-31 23:30:56</td>\n",
       "      <td>星期二</td>\n",
       "    </tr>\n",
       "    <tr>\n",
       "      <th>4</th>\n",
       "      <td>1142669423</td>\n",
       "      <td>想为你揽月</td>\n",
       "      <td>凤台</td>\n",
       "      <td>5.0</td>\n",
       "      <td>不错哦，虽然小青小白的执念有一丢丢丢丢丢牵强（还好）。如果能细说一下牛魔的执念剧情会更完美，...</td>\n",
       "      <td>2021-08-31 23:27:28</td>\n",
       "      <td>星期二</td>\n",
       "    </tr>\n",
       "  </tbody>\n",
       "</table>\n",
       "</div>"
      ],
      "text/plain": [
       "           id           用户名  城市   评分  \\\n",
       "0  1142669584        淇桐糯米饭啦  来宾  5.0   \n",
       "1  1142662178   LnV14610189  西宁  5.0   \n",
       "2  1142666877  Alo861902585  广州  5.0   \n",
       "3  1142660216            Y。  西安  4.0   \n",
       "4  1142669423         想为你揽月  凤台  5.0   \n",
       "\n",
       "                                                  评论                评论时间   星期  \n",
       "0                                剧情非常有吸引力，看个动画片给了我惊喜 2021-08-31 23:56:30  星期二  \n",
       "1                                             画面感超强！ 2021-08-31 23:36:00  星期二  \n",
       "2                                        和一衔接的很不错，精彩 2021-08-31 23:34:41  星期二  \n",
       "3           画面人物没的说，你永远可以相信追光。剧情还算顺畅整体节奏也还可以，推荐观看——！ 2021-08-31 23:30:56  星期二  \n",
       "4  不错哦，虽然小青小白的执念有一丢丢丢丢丢牵强（还好）。如果能细说一下牛魔的执念剧情会更完美，... 2021-08-31 23:27:28  星期二  "
      ]
     },
     "execution_count": 15,
     "metadata": {},
     "output_type": "execute_result"
    }
   ],
   "source": [
    "# 增加字段‘星期’\n",
    "dic = {1:'星期一',2:'星期二',3:'星期三',4:'星期四',5:'星期五',6:'星期六',7:'星期日'}\n",
    "df['星期'] = df['评论时间'].dt.dayofweek+1\n",
    "df['星期'] = df['星期'].map(dic)\n",
    "df.head()"
   ]
  },
  {
   "cell_type": "code",
   "execution_count": null,
   "metadata": {},
   "outputs": [],
   "source": []
  }
 ],
 "metadata": {
  "kernelspec": {
   "display_name": "Python 3",
   "language": "python",
   "name": "python3"
  },
  "language_info": {
   "codemirror_mode": {
    "name": "ipython",
    "version": 3
   },
   "file_extension": ".py",
   "mimetype": "text/x-python",
   "name": "python",
   "nbconvert_exporter": "python",
   "pygments_lexer": "ipython3",
   "version": "3.8.5"
  }
 },
 "nbformat": 4,
 "nbformat_minor": 4
}
