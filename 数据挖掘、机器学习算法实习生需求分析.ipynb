{
 "cells": [
  {
   "cell_type": "code",
   "execution_count": 1,
   "metadata": {},
   "outputs": [],
   "source": [
    "import numpy as np\n",
    "import pandas as pd\n",
    "import matplotlib.pyplot as plt\n",
    "import seaborn as sns\n",
    "import pyecharts\n",
    "plt.style.use('ggplot')\n",
    "%matplotlib inline"
   ]
  },
  {
   "cell_type": "code",
   "execution_count": 2,
   "metadata": {},
   "outputs": [],
   "source": [
    "from pylab import mpl\n",
    "mpl.rcParams['font.sans-serif'] = ['SimHei']\n",
    "plt.rc('figure',figsize=(10,10))"
   ]
  },
  {
   "cell_type": "code",
   "execution_count": 3,
   "metadata": {},
   "outputs": [],
   "source": [
    "data_dm = pd.read_csv(r'E:/数据分析数据集/数据挖掘、机器学习算法实习生需求分析/datamining.csv')\n",
    "data_ml = pd.read_csv(r'E:/数据分析数据集/数据挖掘、机器学习算法实习生需求分析/machinelearning.csv')\n",
    "data_al = pd.read_csv(r'E:/数据分析数据集/数据挖掘、机器学习算法实习生需求分析/mlalgorithm.csv')\n",
    "data = pd.concat([data_dm,data_ml,data_al],ignore_index=True)"
   ]
  },
  {
   "cell_type": "code",
   "execution_count": 4,
   "metadata": {},
   "outputs": [
    {
     "data": {
      "text/html": [
       "<div>\n",
       "<style scoped>\n",
       "    .dataframe tbody tr th:only-of-type {\n",
       "        vertical-align: middle;\n",
       "    }\n",
       "\n",
       "    .dataframe tbody tr th {\n",
       "        vertical-align: top;\n",
       "    }\n",
       "\n",
       "    .dataframe thead th {\n",
       "        text-align: right;\n",
       "    }\n",
       "</style>\n",
       "<table border=\"1\" class=\"dataframe\">\n",
       "  <thead>\n",
       "    <tr style=\"text-align: right;\">\n",
       "      <th></th>\n",
       "      <th>auth_capital</th>\n",
       "      <th>city</th>\n",
       "      <th>com_class</th>\n",
       "      <th>com_fullname</th>\n",
       "      <th>com_id</th>\n",
       "      <th>com_intro</th>\n",
       "      <th>com_links</th>\n",
       "      <th>com_location</th>\n",
       "      <th>com_logo</th>\n",
       "      <th>com_name</th>\n",
       "      <th>...</th>\n",
       "      <th>job_deadline</th>\n",
       "      <th>job_detail</th>\n",
       "      <th>job_links</th>\n",
       "      <th>job_title</th>\n",
       "      <th>num_employee</th>\n",
       "      <th>released_time</th>\n",
       "      <th>tag</th>\n",
       "      <th>time_span</th>\n",
       "      <th>update_time</th>\n",
       "      <th>wage</th>\n",
       "    </tr>\n",
       "  </thead>\n",
       "  <tbody>\n",
       "    <tr>\n",
       "      <th>331</th>\n",
       "      <td>注册资本：204.0816万元人民币</td>\n",
       "      <td>北京</td>\n",
       "      <td>公司类型：有限责任公司(自然人投资或控股)</td>\n",
       "      <td>远形时空科技（北京）有限公司</td>\n",
       "      <td>注册号：110108021152417</td>\n",
       "      <td>一家视觉SLAM技术公司</td>\n",
       "      <td>https://www.shixiseng.com/com/com_ppg3tltocikm</td>\n",
       "      <td>海淀区王庄路清华同方科技广场D座705室</td>\n",
       "      <td>https://sxsimg.xiaoyuanzhao.com/61/65/61AA24A7...</td>\n",
       "      <td>远形时空</td>\n",
       "      <td>...</td>\n",
       "      <td>2019-03-22</td>\n",
       "      <td>NaN</td>\n",
       "      <td>https://www.shixiseng.com/intern/inn_zpa77asdnvj9</td>\n",
       "      <td>机器学习算法工程师</td>\n",
       "      <td>少于15人</td>\n",
       "      <td>3周前</td>\n",
       "      <td>半导体/芯片</td>\n",
       "      <td>6个月</td>\n",
       "      <td>2018-02-22 16:04:32</td>\n",
       "      <td>200-299/天</td>\n",
       "    </tr>\n",
       "    <tr>\n",
       "      <th>145</th>\n",
       "      <td>注册资本：10000万元人民币</td>\n",
       "      <td>北京</td>\n",
       "      <td>公司类型：有限责任公司(自然人投资或控股)</td>\n",
       "      <td>人人贷商务顾问（北京）有限公司</td>\n",
       "      <td>注册号：110105012817080</td>\n",
       "      <td>致力为高成长人群提供专业的线上信贷及投资撮合服务</td>\n",
       "      <td>https://www.shixiseng.com/com/com_tssqmwqxkppu</td>\n",
       "      <td>北京市海淀区五道口 清华科技园科技大厦 A座 18层</td>\n",
       "      <td>https://sxsimg.xiaoyuanzhao.com/1D/84/1DF95937...</td>\n",
       "      <td>人人贷</td>\n",
       "      <td>...</td>\n",
       "      <td>2018-03-31</td>\n",
       "      <td>['接受寒假实习和长期实习', '岗位描述：', '1.\\xa0\\xa0\\xa0\\xa0\\x...</td>\n",
       "      <td>https://www.shixiseng.com/intern/inn_sfqp6mejf801</td>\n",
       "      <td>数据开发实习生</td>\n",
       "      <td>500-2000人</td>\n",
       "      <td>6天前</td>\n",
       "      <td>数据挖掘</td>\n",
       "      <td>3个月</td>\n",
       "      <td>2018-03-14 21:31:40</td>\n",
       "      <td>100-150/天</td>\n",
       "    </tr>\n",
       "    <tr>\n",
       "      <th>955</th>\n",
       "      <td>NaN</td>\n",
       "      <td>北京</td>\n",
       "      <td>NaN</td>\n",
       "      <td>北京三星通信技术研究院</td>\n",
       "      <td>NaN</td>\n",
       "      <td>国家批准认定的高新技术企业及软件企业</td>\n",
       "      <td>https://www.shixiseng.com/com/com_mhuvufadu4j3</td>\n",
       "      <td>北京市朝阳区太阳宫中路12A号太阳宫大厦18层</td>\n",
       "      <td>https://sxsimg.xiaoyuanzhao.com/2A/9C/2AAC7C13...</td>\n",
       "      <td>北京三星</td>\n",
       "      <td>...</td>\n",
       "      <td>2018-12-31</td>\n",
       "      <td>['2. 熟悉基于深度学习的目标检测(object detection)或目标跟踪(visu...</td>\n",
       "      <td>https://www.shixiseng.com/intern/inn_9bkay4gfnzni</td>\n",
       "      <td>视频目标检测算法实习生</td>\n",
       "      <td>500-2000人</td>\n",
       "      <td>2月前</td>\n",
       "      <td>算法</td>\n",
       "      <td>3个月</td>\n",
       "      <td>2017-12-26 13:13:33</td>\n",
       "      <td>200-260/天</td>\n",
       "    </tr>\n",
       "  </tbody>\n",
       "</table>\n",
       "<p>3 rows × 27 columns</p>\n",
       "</div>"
      ],
      "text/plain": [
       "           auth_capital city              com_class     com_fullname  \\\n",
       "331  注册资本：204.0816万元人民币   北京  公司类型：有限责任公司(自然人投资或控股)   远形时空科技（北京）有限公司   \n",
       "145     注册资本：10000万元人民币   北京  公司类型：有限责任公司(自然人投资或控股)  人人贷商务顾问（北京）有限公司   \n",
       "955                 NaN   北京                    NaN      北京三星通信技术研究院   \n",
       "\n",
       "                  com_id                 com_intro  \\\n",
       "331  注册号：110108021152417              一家视觉SLAM技术公司   \n",
       "145  注册号：110105012817080  致力为高成长人群提供专业的线上信贷及投资撮合服务   \n",
       "955                  NaN        国家批准认定的高新技术企业及软件企业   \n",
       "\n",
       "                                          com_links  \\\n",
       "331  https://www.shixiseng.com/com/com_ppg3tltocikm   \n",
       "145  https://www.shixiseng.com/com/com_tssqmwqxkppu   \n",
       "955  https://www.shixiseng.com/com/com_mhuvufadu4j3   \n",
       "\n",
       "                   com_location  \\\n",
       "331        海淀区王庄路清华同方科技广场D座705室   \n",
       "145  北京市海淀区五道口 清华科技园科技大厦 A座 18层   \n",
       "955     北京市朝阳区太阳宫中路12A号太阳宫大厦18层   \n",
       "\n",
       "                                              com_logo com_name  ...  \\\n",
       "331  https://sxsimg.xiaoyuanzhao.com/61/65/61AA24A7...     远形时空  ...   \n",
       "145  https://sxsimg.xiaoyuanzhao.com/1D/84/1DF95937...      人人贷  ...   \n",
       "955  https://sxsimg.xiaoyuanzhao.com/2A/9C/2AAC7C13...     北京三星  ...   \n",
       "\n",
       "    job_deadline                                         job_detail  \\\n",
       "331   2019-03-22                                                NaN   \n",
       "145   2018-03-31  ['接受寒假实习和长期实习', '岗位描述：', '1.\\xa0\\xa0\\xa0\\xa0\\x...   \n",
       "955   2018-12-31  ['2. 熟悉基于深度学习的目标检测(object detection)或目标跟踪(visu...   \n",
       "\n",
       "                                             job_links    job_title  \\\n",
       "331  https://www.shixiseng.com/intern/inn_zpa77asdnvj9    机器学习算法工程师   \n",
       "145  https://www.shixiseng.com/intern/inn_sfqp6mejf801      数据开发实习生   \n",
       "955  https://www.shixiseng.com/intern/inn_9bkay4gfnzni  视频目标检测算法实习生   \n",
       "\n",
       "    num_employee released_time     tag time_span          update_time  \\\n",
       "331        少于15人           3周前  半导体/芯片       6个月  2018-02-22 16:04:32   \n",
       "145    500-2000人           6天前    数据挖掘       3个月  2018-03-14 21:31:40   \n",
       "955    500-2000人           2月前      算法       3个月  2017-12-26 13:13:33   \n",
       "\n",
       "          wage  \n",
       "331  200-299/天  \n",
       "145  100-150/天  \n",
       "955  200-260/天  \n",
       "\n",
       "[3 rows x 27 columns]"
      ]
     },
     "execution_count": 4,
     "metadata": {},
     "output_type": "execute_result"
    }
   ],
   "source": [
    "data.sample(3)"
   ]
  },
  {
   "cell_type": "code",
   "execution_count": 5,
   "metadata": {},
   "outputs": [
    {
     "data": {
      "text/plain": [
       "auth_capital                                      注册资本：130.2083万人民币\n",
       "city                                                             上海\n",
       "com_class                                 公司类型：股份有限公司(台港澳与境内合资、未上市)\n",
       "com_fullname                                         纵目科技（上海）股份有限公司\n",
       "com_id                                            组织机构代码：06087276-7\n",
       "com_intro                               成为立足中国面向世界的从辅助驾驶到自动驾驶的技术引领者\n",
       "com_links            https://www.shixiseng.com/com/com_k0gejst3xf8x\n",
       "com_location                                北京市昌平区回龙观东大街腾讯总创空间B座535\n",
       "com_logo          https://sxsimg.xiaoyuanzhao.com/7B/C2/7B75BE25...\n",
       "com_name                                                       纵目科技\n",
       "com_website                               http://www.zongmutech.com\n",
       "com_welfare       ['发展潜力大', '活跃的工作环境', '团队体验', '棒棒的', '开放创新', '追...\n",
       "day_per_week                                                   4天/周\n",
       "detailed_intro    \\n纵目科技成立于2013年1月，总部位于上海浦东张江高科技园区，在北京及深圳分别设有研发分...\n",
       "est_date                                            成立日期：2013-01-10\n",
       "industry                                                       汽车电子\n",
       "job_academic                                                     硕士\n",
       "job_deadline                                             2018-04-30\n",
       "job_detail                                                      NaN\n",
       "job_links         https://www.shixiseng.com/intern/inn_44wj24z3ra6h\n",
       "job_title                                                   视觉算法工程师\n",
       "num_employee                                               150-500人\n",
       "released_time                                                   3天前\n",
       "tag                                                              算法\n",
       "time_span                                                       3个月\n",
       "update_time                                     2018-03-19 13:04:08\n",
       "wage                                                      200-400/天\n",
       "Name: 666, dtype: object"
      ]
     },
     "execution_count": 5,
     "metadata": {},
     "output_type": "execute_result"
    }
   ],
   "source": [
    "data.loc[666]"
   ]
  },
  {
   "cell_type": "code",
   "execution_count": 6,
   "metadata": {},
   "outputs": [
    {
     "name": "stdout",
     "output_type": "stream",
     "text": [
      "<class 'pandas.core.frame.DataFrame'>\n",
      "RangeIndex: 978 entries, 0 to 977\n",
      "Data columns (total 27 columns):\n",
      " #   Column          Non-Null Count  Dtype \n",
      "---  ------          --------------  ----- \n",
      " 0   auth_capital    906 non-null    object\n",
      " 1   city            974 non-null    object\n",
      " 2   com_class       954 non-null    object\n",
      " 3   com_fullname    974 non-null    object\n",
      " 4   com_id          906 non-null    object\n",
      " 5   com_intro       974 non-null    object\n",
      " 6   com_links       978 non-null    object\n",
      " 7   com_location    978 non-null    object\n",
      " 8   com_logo        974 non-null    object\n",
      " 9   com_name        974 non-null    object\n",
      " 10  com_website     865 non-null    object\n",
      " 11  com_welfare     978 non-null    object\n",
      " 12  day_per_week    978 non-null    object\n",
      " 13  detailed_intro  912 non-null    object\n",
      " 14  est_date        906 non-null    object\n",
      " 15  industry        960 non-null    object\n",
      " 16  job_academic    978 non-null    object\n",
      " 17  job_deadline    978 non-null    object\n",
      " 18  job_detail      681 non-null    object\n",
      " 19  job_links       978 non-null    object\n",
      " 20  job_title       978 non-null    object\n",
      " 21  num_employee    972 non-null    object\n",
      " 22  released_time   978 non-null    object\n",
      " 23  tag             978 non-null    object\n",
      " 24  time_span       978 non-null    object\n",
      " 25  update_time     978 non-null    object\n",
      " 26  wage            978 non-null    object\n",
      "dtypes: object(27)\n",
      "memory usage: 206.4+ KB\n"
     ]
    }
   ],
   "source": [
    "data.info()"
   ]
  },
  {
   "cell_type": "code",
   "execution_count": 7,
   "metadata": {},
   "outputs": [
    {
     "data": {
      "text/plain": [
       "(878, 27)"
      ]
     },
     "execution_count": 7,
     "metadata": {},
     "output_type": "execute_result"
    }
   ],
   "source": [
    "data.drop_duplicates('job_links',inplace=True)\n",
    "data.shape"
   ]
  },
  {
   "cell_type": "code",
   "execution_count": 8,
   "metadata": {},
   "outputs": [
    {
     "name": "stdout",
     "output_type": "stream",
     "text": [
      "<class 'pandas.core.frame.DataFrame'>\n",
      "Int64Index: 878 entries, 0 to 977\n",
      "Data columns (total 27 columns):\n",
      " #   Column          Non-Null Count  Dtype \n",
      "---  ------          --------------  ----- \n",
      " 0   auth_capital    812 non-null    object\n",
      " 1   city            874 non-null    object\n",
      " 2   com_class       856 non-null    object\n",
      " 3   com_fullname    874 non-null    object\n",
      " 4   com_id          812 non-null    object\n",
      " 5   com_intro       874 non-null    object\n",
      " 6   com_links       878 non-null    object\n",
      " 7   com_location    878 non-null    object\n",
      " 8   com_logo        874 non-null    object\n",
      " 9   com_name        874 non-null    object\n",
      " 10  com_website     773 non-null    object\n",
      " 11  com_welfare     878 non-null    object\n",
      " 12  day_per_week    878 non-null    object\n",
      " 13  detailed_intro  818 non-null    object\n",
      " 14  est_date        812 non-null    object\n",
      " 15  industry        862 non-null    object\n",
      " 16  job_academic    878 non-null    object\n",
      " 17  job_deadline    878 non-null    object\n",
      " 18  job_detail      613 non-null    object\n",
      " 19  job_links       878 non-null    object\n",
      " 20  job_title       878 non-null    object\n",
      " 21  num_employee    872 non-null    object\n",
      " 22  released_time   878 non-null    object\n",
      " 23  tag             878 non-null    object\n",
      " 24  time_span       878 non-null    object\n",
      " 25  update_time     878 non-null    object\n",
      " 26  wage            878 non-null    object\n",
      "dtypes: object(27)\n",
      "memory usage: 192.1+ KB\n"
     ]
    }
   ],
   "source": [
    "data.info()"
   ]
  },
  {
   "cell_type": "code",
   "execution_count": 9,
   "metadata": {},
   "outputs": [],
   "source": [
    "data = data.fillna('无')"
   ]
  },
  {
   "cell_type": "code",
   "execution_count": 10,
   "metadata": {},
   "outputs": [
    {
     "name": "stdout",
     "output_type": "stream",
     "text": [
      "<class 'pandas.core.frame.DataFrame'>\n",
      "Int64Index: 878 entries, 0 to 977\n",
      "Data columns (total 27 columns):\n",
      " #   Column          Non-Null Count  Dtype \n",
      "---  ------          --------------  ----- \n",
      " 0   auth_capital    878 non-null    object\n",
      " 1   city            878 non-null    object\n",
      " 2   com_class       878 non-null    object\n",
      " 3   com_fullname    878 non-null    object\n",
      " 4   com_id          878 non-null    object\n",
      " 5   com_intro       878 non-null    object\n",
      " 6   com_links       878 non-null    object\n",
      " 7   com_location    878 non-null    object\n",
      " 8   com_logo        878 non-null    object\n",
      " 9   com_name        878 non-null    object\n",
      " 10  com_website     878 non-null    object\n",
      " 11  com_welfare     878 non-null    object\n",
      " 12  day_per_week    878 non-null    object\n",
      " 13  detailed_intro  878 non-null    object\n",
      " 14  est_date        878 non-null    object\n",
      " 15  industry        878 non-null    object\n",
      " 16  job_academic    878 non-null    object\n",
      " 17  job_deadline    878 non-null    object\n",
      " 18  job_detail      878 non-null    object\n",
      " 19  job_links       878 non-null    object\n",
      " 20  job_title       878 non-null    object\n",
      " 21  num_employee    878 non-null    object\n",
      " 22  released_time   878 non-null    object\n",
      " 23  tag             878 non-null    object\n",
      " 24  time_span       878 non-null    object\n",
      " 25  update_time     878 non-null    object\n",
      " 26  wage            878 non-null    object\n",
      "dtypes: object(27)\n",
      "memory usage: 192.1+ KB\n"
     ]
    }
   ],
   "source": [
    "data.info()"
   ]
  },
  {
   "cell_type": "code",
   "execution_count": 11,
   "metadata": {},
   "outputs": [],
   "source": [
    "data_clean = data.drop(['com_id', 'com_links', 'com_location', 'com_website', \n",
    "                 'com_welfare', 'detailed_intro', 'job_detail'], axis = 1)"
   ]
  },
  {
   "cell_type": "code",
   "execution_count": 12,
   "metadata": {},
   "outputs": [
    {
     "data": {
      "text/plain": [
       "470       注册资本：10 万元人民币\n",
       "268     注册资本：100 万元 人民币\n",
       "133            注册资本：10万\n",
       "497           注册资本：180万\n",
       "680    注册资本：560000万元人民币\n",
       "728     注册资本：350 万元 人民币\n",
       "763       注册资本：600万元人民币\n",
       "194        注册资本：1000 万元\n",
       "486        注册资本：2000 万元\n",
       "513       注册资本：500万元人民币\n",
       "419         注册资本：100 万元\n",
       "224      注册资本：1000万元人民币\n",
       "902                   无\n",
       "745        注册资本：7000 万元\n",
       "897       注册资本：1000万人民币\n",
       "841      注册资本：974.8万人民币\n",
       "908              注册资本：无\n",
       "757        注册资本：7000 万元\n",
       "777     注册资本：100 万元 人民币\n",
       "593         注册资本：70万人民币\n",
       "Name: auth_capital, dtype: object"
      ]
     },
     "execution_count": 12,
     "metadata": {},
     "output_type": "execute_result"
    }
   ],
   "source": [
    "data.auth_capital.sample(20)"
   ]
  },
  {
   "cell_type": "code",
   "execution_count": 13,
   "metadata": {},
   "outputs": [
    {
     "data": {
      "text/html": [
       "<div>\n",
       "<style scoped>\n",
       "    .dataframe tbody tr th:only-of-type {\n",
       "        vertical-align: middle;\n",
       "    }\n",
       "\n",
       "    .dataframe tbody tr th {\n",
       "        vertical-align: top;\n",
       "    }\n",
       "\n",
       "    .dataframe thead th {\n",
       "        text-align: right;\n",
       "    }\n",
       "</style>\n",
       "<table border=\"1\" class=\"dataframe\">\n",
       "  <thead>\n",
       "    <tr style=\"text-align: right;\">\n",
       "      <th></th>\n",
       "      <th>0</th>\n",
       "      <th>1</th>\n",
       "    </tr>\n",
       "  </thead>\n",
       "  <tbody>\n",
       "    <tr>\n",
       "      <th>285</th>\n",
       "      <td>注册资本</td>\n",
       "      <td>3000 万元 美元</td>\n",
       "    </tr>\n",
       "    <tr>\n",
       "      <th>769</th>\n",
       "      <td>注册资本</td>\n",
       "      <td>2023.06万元人民币</td>\n",
       "    </tr>\n",
       "    <tr>\n",
       "      <th>918</th>\n",
       "      <td>注册资本</td>\n",
       "      <td>1300万美元</td>\n",
       "    </tr>\n",
       "    <tr>\n",
       "      <th>25</th>\n",
       "      <td>注册资本</td>\n",
       "      <td>无</td>\n",
       "    </tr>\n",
       "    <tr>\n",
       "      <th>619</th>\n",
       "      <td>注册资本</td>\n",
       "      <td>无</td>\n",
       "    </tr>\n",
       "  </tbody>\n",
       "</table>\n",
       "</div>"
      ],
      "text/plain": [
       "        0             1\n",
       "285  注册资本    3000 万元 美元\n",
       "769  注册资本  2023.06万元人民币\n",
       "918  注册资本       1300万美元\n",
       "25   注册资本             无\n",
       "619  注册资本             无"
      ]
     },
     "execution_count": 13,
     "metadata": {},
     "output_type": "execute_result"
    }
   ],
   "source": [
    "auth_capital = data['auth_capital'].str.split(\"：\",expand=True)\n",
    "# print(auth_capital)\n",
    "auth_capital.sample(5)"
   ]
  },
  {
   "cell_type": "code",
   "execution_count": 14,
   "metadata": {},
   "outputs": [
    {
     "data": {
      "text/html": [
       "<div>\n",
       "<style scoped>\n",
       "    .dataframe tbody tr th:only-of-type {\n",
       "        vertical-align: middle;\n",
       "    }\n",
       "\n",
       "    .dataframe tbody tr th {\n",
       "        vertical-align: top;\n",
       "    }\n",
       "\n",
       "    .dataframe thead th {\n",
       "        text-align: right;\n",
       "    }\n",
       "</style>\n",
       "<table border=\"1\" class=\"dataframe\">\n",
       "  <thead>\n",
       "    <tr style=\"text-align: right;\">\n",
       "      <th></th>\n",
       "      <th>0</th>\n",
       "      <th>1</th>\n",
       "      <th>num</th>\n",
       "    </tr>\n",
       "  </thead>\n",
       "  <tbody>\n",
       "    <tr>\n",
       "      <th>233</th>\n",
       "      <td>注册资本</td>\n",
       "      <td>4520 万元 美元</td>\n",
       "      <td>4520.0000</td>\n",
       "    </tr>\n",
       "    <tr>\n",
       "      <th>445</th>\n",
       "      <td>注册资本</td>\n",
       "      <td>无</td>\n",
       "      <td>NaN</td>\n",
       "    </tr>\n",
       "    <tr>\n",
       "      <th>947</th>\n",
       "      <td>注册资本</td>\n",
       "      <td>3000 万元 美元</td>\n",
       "      <td>3000.0000</td>\n",
       "    </tr>\n",
       "    <tr>\n",
       "      <th>562</th>\n",
       "      <td>注册资本</td>\n",
       "      <td>346.153800万人民币</td>\n",
       "      <td>346.1538</td>\n",
       "    </tr>\n",
       "    <tr>\n",
       "      <th>66</th>\n",
       "      <td>注册资本</td>\n",
       "      <td>100 万元</td>\n",
       "      <td>100.0000</td>\n",
       "    </tr>\n",
       "  </tbody>\n",
       "</table>\n",
       "</div>"
      ],
      "text/plain": [
       "        0               1        num\n",
       "233  注册资本      4520 万元 美元  4520.0000\n",
       "445  注册资本               无        NaN\n",
       "947  注册资本      3000 万元 美元  3000.0000\n",
       "562  注册资本  346.153800万人民币   346.1538\n",
       "66   注册资本          100 万元   100.0000"
      ]
     },
     "execution_count": 14,
     "metadata": {},
     "output_type": "execute_result"
    }
   ],
   "source": [
    "auth_capital['num'] = auth_capital[1].str.extract('([0-9.]+)', expand=False).astype('float')\n",
    "auth_capital.sample(5)"
   ]
  },
  {
   "cell_type": "code",
   "execution_count": 15,
   "metadata": {},
   "outputs": [
    {
     "data": {
      "text/plain": [
       "array(['美元', '人民币', '元美元', None, '元人民币', '人民币元', '元', '元 人民币', '', '元 美元',\n",
       "       '元港元（港币）', '港币', '香港元', '欧元', '元 港元（港币）'], dtype=object)"
      ]
     },
     "execution_count": 15,
     "metadata": {},
     "output_type": "execute_result"
    }
   ],
   "source": [
    "auth_capital[1].str.split('万',expand=True)[1].unique()"
   ]
  },
  {
   "cell_type": "code",
   "execution_count": 16,
   "metadata": {},
   "outputs": [
    {
     "data": {
      "text/html": [
       "<div>\n",
       "<style scoped>\n",
       "    .dataframe tbody tr th:only-of-type {\n",
       "        vertical-align: middle;\n",
       "    }\n",
       "\n",
       "    .dataframe tbody tr th {\n",
       "        vertical-align: top;\n",
       "    }\n",
       "\n",
       "    .dataframe thead th {\n",
       "        text-align: right;\n",
       "    }\n",
       "</style>\n",
       "<table border=\"1\" class=\"dataframe\">\n",
       "  <thead>\n",
       "    <tr style=\"text-align: right;\">\n",
       "      <th></th>\n",
       "      <th>0</th>\n",
       "      <th>1</th>\n",
       "      <th>num</th>\n",
       "      <th>ex_rate</th>\n",
       "    </tr>\n",
       "  </thead>\n",
       "  <tbody>\n",
       "    <tr>\n",
       "      <th>966</th>\n",
       "      <td>注册资本</td>\n",
       "      <td>2000万元人民币</td>\n",
       "      <td>2000.0000</td>\n",
       "      <td>1.00</td>\n",
       "    </tr>\n",
       "    <tr>\n",
       "      <th>415</th>\n",
       "      <td>注册资本</td>\n",
       "      <td>1111.1111万元人民币</td>\n",
       "      <td>1111.1111</td>\n",
       "      <td>1.00</td>\n",
       "    </tr>\n",
       "    <tr>\n",
       "      <th>427</th>\n",
       "      <td>注册资本</td>\n",
       "      <td>1765 万元 美元</td>\n",
       "      <td>1765.0000</td>\n",
       "      <td>6.29</td>\n",
       "    </tr>\n",
       "    <tr>\n",
       "      <th>98</th>\n",
       "      <td>注册资本</td>\n",
       "      <td>5000万人民币</td>\n",
       "      <td>5000.0000</td>\n",
       "      <td>1.00</td>\n",
       "    </tr>\n",
       "    <tr>\n",
       "      <th>852</th>\n",
       "      <td>注册资本</td>\n",
       "      <td>306 万元 美元</td>\n",
       "      <td>306.0000</td>\n",
       "      <td>6.29</td>\n",
       "    </tr>\n",
       "  </tbody>\n",
       "</table>\n",
       "</div>"
      ],
      "text/plain": [
       "        0               1        num  ex_rate\n",
       "966  注册资本       2000万元人民币  2000.0000     1.00\n",
       "415  注册资本  1111.1111万元人民币  1111.1111     1.00\n",
       "427  注册资本      1765 万元 美元  1765.0000     6.29\n",
       "98   注册资本        5000万人民币  5000.0000     1.00\n",
       "852  注册资本       306 万元 美元   306.0000     6.29"
      ]
     },
     "execution_count": 16,
     "metadata": {},
     "output_type": "execute_result"
    }
   ],
   "source": [
    "def get_ex_rate(string):\n",
    "    if string == None:\n",
    "        return np.nan\n",
    "    if '人民币' in string:\n",
    "        return 1.00\n",
    "    elif '港' in string:\n",
    "        return 0.8\n",
    "    elif '美元' in string:\n",
    "        return 6.29\n",
    "    elif '欧元' in string:\n",
    "        return 7.73\n",
    "    elif '万' in string:\n",
    "        return 1.00\n",
    "    else:\n",
    "        return np.nan\n",
    "\n",
    "auth_capital['ex_rate'] = auth_capital[1].apply(get_ex_rate)\n",
    "auth_capital.sample(5)"
   ]
  },
  {
   "cell_type": "code",
   "execution_count": 17,
   "metadata": {},
   "outputs": [
    {
     "data": {
      "text/plain": [
       "0    235875.0000\n",
       "1     27570.9972\n",
       "2       314.5000\n",
       "3     28430.8000\n",
       "4     28430.8000\n",
       "Name: auth_capital, dtype: float64"
      ]
     },
     "execution_count": 17,
     "metadata": {},
     "output_type": "execute_result"
    }
   ],
   "source": [
    "data_clean['auth_capital'] = auth_capital['num']*auth_capital['ex_rate']\n",
    "data_clean['auth_capital'].head()"
   ]
  },
  {
   "cell_type": "code",
   "execution_count": 18,
   "metadata": {},
   "outputs": [
    {
     "data": {
      "text/plain": [
       "array(['4天/周', '5天/周', '3天/周', '2天/周', '6天/周'], dtype=object)"
      ]
     },
     "execution_count": 18,
     "metadata": {},
     "output_type": "execute_result"
    }
   ],
   "source": [
    "data.day_per_week.unique()"
   ]
  },
  {
   "cell_type": "code",
   "execution_count": 19,
   "metadata": {},
   "outputs": [],
   "source": [
    "data_clean.loc[data['day_per_week'] == '2天/周','day_per_week'] = 2\n",
    "data_clean.loc[data['day_per_week'] == '3天/周', 'day_per_week'] = 3\n",
    "data_clean.loc[data['day_per_week'] == '4天/周', 'day_per_week'] = 4\n",
    "data_clean.loc[data['day_per_week'] == '5天/周', 'day_per_week'] = 5\n",
    "data_clean.loc[data['day_per_week'] == '6天/周', 'day_per_week'] = 6"
   ]
  },
  {
   "cell_type": "code",
   "execution_count": 20,
   "metadata": {},
   "outputs": [
    {
     "data": {
      "text/plain": [
       "array(['2000人以上', '500-2000人', '无', '50-150人', '15-50人', '150-500人',\n",
       "       '少于15人', '5000人以上'], dtype=object)"
      ]
     },
     "execution_count": 20,
     "metadata": {},
     "output_type": "execute_result"
    }
   ],
   "source": [
    "data.num_employee.unique()"
   ]
  },
  {
   "cell_type": "code",
   "execution_count": 21,
   "metadata": {},
   "outputs": [],
   "source": [
    "data_clean.loc[data['num_employee'] == '少于15人', 'num_employee'] = '小型企业'\n",
    "data_clean.loc[data['num_employee'] == '15-50人', 'num_employee'] = '小型企业'\n",
    "data_clean.loc[data['num_employee'] == '50-150人', 'num_employee'] = '小型企业'\n",
    "data_clean.loc[data['num_employee'] == '150-500人', 'num_employee'] = '中型企业'\n",
    "data_clean.loc[data['num_employee'] == '500-2000人', 'num_employee'] = '中型企业'\n",
    "data_clean.loc[data['num_employee'] == '2000人以上', 'num_employee'] = '大型企业'\n",
    "data_clean.loc[data['num_employee'] == '5000人以上', 'num_employee'] = '大型企业'\n",
    "data_clean.loc[data['num_employee'].isna(), 'num_employee'] = np.nan"
   ]
  },
  {
   "cell_type": "code",
   "execution_count": 22,
   "metadata": {},
   "outputs": [
    {
     "data": {
      "text/plain": [
       "array(['3个月', '4个月', '6个月', '7个月', '5个月', '9个月', '8个月', '10个月', '12个月',\n",
       "       '13个月', '18个月', '14个月', '16个月', '11个月', '15个月', '2个月', '17个月',\n",
       "       '1个月'], dtype=object)"
      ]
     },
     "execution_count": 22,
     "metadata": {},
     "output_type": "execute_result"
    }
   ],
   "source": [
    "data.time_span.unique()"
   ]
  },
  {
   "cell_type": "code",
   "execution_count": 23,
   "metadata": {},
   "outputs": [
    {
     "name": "stdout",
     "output_type": "stream",
     "text": [
      "{'1个月': 1, '2个月': 2, '3个月': 3, '4个月': 4, '5个月': 5, '6个月': 6, '7个月': 7, '8个月': 8, '9个月': 9, '10个月': 10, '11个月': 11, '12个月': 12, '13个月': 13, '14个月': 14, '15个月': 15, '16个月': 16, '17个月': 17, '18个月': 18}\n"
     ]
    }
   ],
   "source": [
    "mapping = {}\n",
    "for i in range(1,19):\n",
    "    mapping[str(i) + '个月'] = i\n",
    "print(mapping)"
   ]
  },
  {
   "cell_type": "code",
   "execution_count": 24,
   "metadata": {},
   "outputs": [
    {
     "data": {
      "text/html": [
       "<div>\n",
       "<style scoped>\n",
       "    .dataframe tbody tr th:only-of-type {\n",
       "        vertical-align: middle;\n",
       "    }\n",
       "\n",
       "    .dataframe tbody tr th {\n",
       "        vertical-align: top;\n",
       "    }\n",
       "\n",
       "    .dataframe thead th {\n",
       "        text-align: right;\n",
       "    }\n",
       "</style>\n",
       "<table border=\"1\" class=\"dataframe\">\n",
       "  <thead>\n",
       "    <tr style=\"text-align: right;\">\n",
       "      <th></th>\n",
       "      <th>auth_capital</th>\n",
       "      <th>city</th>\n",
       "      <th>com_class</th>\n",
       "      <th>com_fullname</th>\n",
       "      <th>com_intro</th>\n",
       "      <th>com_logo</th>\n",
       "      <th>com_name</th>\n",
       "      <th>day_per_week</th>\n",
       "      <th>est_date</th>\n",
       "      <th>industry</th>\n",
       "      <th>job_academic</th>\n",
       "      <th>job_deadline</th>\n",
       "      <th>job_links</th>\n",
       "      <th>job_title</th>\n",
       "      <th>num_employee</th>\n",
       "      <th>released_time</th>\n",
       "      <th>tag</th>\n",
       "      <th>time_span</th>\n",
       "      <th>update_time</th>\n",
       "      <th>wage</th>\n",
       "    </tr>\n",
       "  </thead>\n",
       "  <tbody>\n",
       "    <tr>\n",
       "      <th>0</th>\n",
       "      <td>235875.0000</td>\n",
       "      <td>北京</td>\n",
       "      <td>公司类型：有限责任公司(台港澳法人独资)</td>\n",
       "      <td>淘宝（中国）软件有限公司</td>\n",
       "      <td>淘宝网是亚太地区较大的网络零售、商圈</td>\n",
       "      <td>https://sxsimg.xiaoyuanzhao.com/FB/BC/FBDB6AC6...</td>\n",
       "      <td>淘宝</td>\n",
       "      <td>4</td>\n",
       "      <td>成立日期：2004-12-07</td>\n",
       "      <td>计算机/互联网</td>\n",
       "      <td>硕士</td>\n",
       "      <td>2018-04-13</td>\n",
       "      <td>https://www.shixiseng.com/intern/inn_g2vpcs8lukcr</td>\n",
       "      <td>【淘宝】算法工程师/算法专家</td>\n",
       "      <td>大型企业</td>\n",
       "      <td>7分钟前</td>\n",
       "      <td>数据挖掘</td>\n",
       "      <td>3</td>\n",
       "      <td>2018-03-21 10:48:06</td>\n",
       "      <td>200-201/天</td>\n",
       "    </tr>\n",
       "    <tr>\n",
       "      <th>1</th>\n",
       "      <td>27570.9972</td>\n",
       "      <td>上海</td>\n",
       "      <td>公司类型：股份有限公司(上市)</td>\n",
       "      <td>游族网络股份有限公司</td>\n",
       "      <td>全球领先的互动娱乐供应商</td>\n",
       "      <td>https://sxsimg.xiaoyuanzhao.com/BD/6D/BD305709...</td>\n",
       "      <td>游族网络</td>\n",
       "      <td>5</td>\n",
       "      <td>成立日期：1995-09-22</td>\n",
       "      <td>计算机/互联网</td>\n",
       "      <td>本科</td>\n",
       "      <td>2020-12-31</td>\n",
       "      <td>https://www.shixiseng.com/intern/inn_46watgzrvqsg</td>\n",
       "      <td>大数据挖掘工程师 （2018校园）</td>\n",
       "      <td>中型企业</td>\n",
       "      <td>18分钟前</td>\n",
       "      <td>软件</td>\n",
       "      <td>4</td>\n",
       "      <td>2018-03-21 10:37:22</td>\n",
       "      <td>160-280/天</td>\n",
       "    </tr>\n",
       "    <tr>\n",
       "      <th>2</th>\n",
       "      <td>314.5000</td>\n",
       "      <td>广州</td>\n",
       "      <td>公司类型：有限责任公司(台港澳法人独资)</td>\n",
       "      <td>广州网易互动娱乐有限公司</td>\n",
       "      <td>国内中国领先的互联网技术公司，游戏行业领导者。</td>\n",
       "      <td>https://sxsimg.xiaoyuanzhao.com/company_logo/2...</td>\n",
       "      <td>网易游戏</td>\n",
       "      <td>4</td>\n",
       "      <td>成立日期：2002-10-15</td>\n",
       "      <td>互联网</td>\n",
       "      <td>本科</td>\n",
       "      <td>2018-03-31</td>\n",
       "      <td>https://www.shixiseng.com/intern/inn_wnfrd8o7wly2</td>\n",
       "      <td>数据挖掘研究实习生（AI方向）</td>\n",
       "      <td>大型企业</td>\n",
       "      <td>32分钟前</td>\n",
       "      <td>数据挖掘</td>\n",
       "      <td>4</td>\n",
       "      <td>2018-03-21 10:23:45</td>\n",
       "      <td>130-150/天</td>\n",
       "    </tr>\n",
       "  </tbody>\n",
       "</table>\n",
       "</div>"
      ],
      "text/plain": [
       "   auth_capital city             com_class  com_fullname  \\\n",
       "0   235875.0000   北京  公司类型：有限责任公司(台港澳法人独资)  淘宝（中国）软件有限公司   \n",
       "1    27570.9972   上海       公司类型：股份有限公司(上市)    游族网络股份有限公司   \n",
       "2      314.5000   广州  公司类型：有限责任公司(台港澳法人独资)  广州网易互动娱乐有限公司   \n",
       "\n",
       "                 com_intro                                           com_logo  \\\n",
       "0       淘宝网是亚太地区较大的网络零售、商圈  https://sxsimg.xiaoyuanzhao.com/FB/BC/FBDB6AC6...   \n",
       "1             全球领先的互动娱乐供应商  https://sxsimg.xiaoyuanzhao.com/BD/6D/BD305709...   \n",
       "2  国内中国领先的互联网技术公司，游戏行业领导者。  https://sxsimg.xiaoyuanzhao.com/company_logo/2...   \n",
       "\n",
       "  com_name day_per_week         est_date industry job_academic job_deadline  \\\n",
       "0       淘宝            4  成立日期：2004-12-07  计算机/互联网           硕士   2018-04-13   \n",
       "1     游族网络            5  成立日期：1995-09-22  计算机/互联网           本科   2020-12-31   \n",
       "2     网易游戏            4  成立日期：2002-10-15      互联网           本科   2018-03-31   \n",
       "\n",
       "                                           job_links          job_title  \\\n",
       "0  https://www.shixiseng.com/intern/inn_g2vpcs8lukcr     【淘宝】算法工程师/算法专家   \n",
       "1  https://www.shixiseng.com/intern/inn_46watgzrvqsg  大数据挖掘工程师 （2018校园）   \n",
       "2  https://www.shixiseng.com/intern/inn_wnfrd8o7wly2    数据挖掘研究实习生（AI方向）   \n",
       "\n",
       "  num_employee released_time   tag  time_span          update_time       wage  \n",
       "0         大型企业          7分钟前  数据挖掘          3  2018-03-21 10:48:06  200-201/天  \n",
       "1         中型企业         18分钟前    软件          4  2018-03-21 10:37:22  160-280/天  \n",
       "2         大型企业         32分钟前  数据挖掘          4  2018-03-21 10:23:45  130-150/天  "
      ]
     },
     "execution_count": 24,
     "metadata": {},
     "output_type": "execute_result"
    }
   ],
   "source": [
    "data_clean['time_span'] = data['time_span'].map(mapping)\n",
    "data_clean.head(3)"
   ]
  },
  {
   "cell_type": "code",
   "execution_count": 25,
   "metadata": {},
   "outputs": [
    {
     "data": {
      "text/plain": [
       "769    130-180/天\n",
       "14     100-200/天\n",
       "215    150-200/天\n",
       "85     500-900/天\n",
       "311    200-260/天\n",
       "Name: wage, dtype: object"
      ]
     },
     "execution_count": 25,
     "metadata": {},
     "output_type": "execute_result"
    }
   ],
   "source": [
    "data['wage'].sample(5)"
   ]
  },
  {
   "cell_type": "code",
   "execution_count": 26,
   "metadata": {},
   "outputs": [
    {
     "data": {
      "text/plain": [
       "0    200.5\n",
       "1    220.0\n",
       "2    140.0\n",
       "3    175.0\n",
       "4    175.0\n",
       "Name: average_wage, dtype: float64"
      ]
     },
     "execution_count": 26,
     "metadata": {},
     "output_type": "execute_result"
    }
   ],
   "source": [
    "data_clean['average_wage'] = data['wage'].str.extract('([0-9.]+)-([0-9.]+)/天', expand=True).astype('int').mean(axis = 1)\n",
    "data_clean['average_wage'].head()"
   ]
  },
  {
   "cell_type": "code",
   "execution_count": 27,
   "metadata": {},
   "outputs": [
    {
     "data": {
      "text/plain": [
       "742    成立日期：2014-06-09\n",
       "441    成立日期：2008-06-03\n",
       "290             成立日期：无\n",
       "720    成立日期：1996-08-28\n",
       "666    成立日期：2013-01-10\n",
       "Name: est_date, dtype: object"
      ]
     },
     "execution_count": 27,
     "metadata": {},
     "output_type": "execute_result"
    }
   ],
   "source": [
    "data['est_date'].sample(5)"
   ]
  },
  {
   "cell_type": "code",
   "execution_count": 28,
   "metadata": {},
   "outputs": [
    {
     "data": {
      "text/plain": [
       "403   2008-06-30\n",
       "511   2013-01-29\n",
       "397   2010-12-02\n",
       "155   2014-12-23\n",
       "869   2015-03-25\n",
       "Name: est_date, dtype: datetime64[ns]"
      ]
     },
     "execution_count": 28,
     "metadata": {},
     "output_type": "execute_result"
    }
   ],
   "source": [
    "data_clean['est_date'] = pd.to_datetime(data['est_date'].str.extract('成立日期：([0-9-]+)',expand=False))\n",
    "data_clean['est_date'].sample(5)"
   ]
  },
  {
   "cell_type": "code",
   "execution_count": 29,
   "metadata": {},
   "outputs": [
    {
     "data": {
      "text/plain": [
       "767    2018-03-23\n",
       "263    2018-03-30\n",
       "52     2018-04-12\n",
       "465    2018-03-29\n",
       "178    2018-10-30\n",
       "Name: job_deadline, dtype: object"
      ]
     },
     "execution_count": 29,
     "metadata": {},
     "output_type": "execute_result"
    }
   ],
   "source": [
    "data['job_deadline'].sample(5)"
   ]
  },
  {
   "cell_type": "code",
   "execution_count": 30,
   "metadata": {},
   "outputs": [],
   "source": [
    "data_clean['job_deadline'] = pd.to_datetime(data['job_deadline'])"
   ]
  },
  {
   "cell_type": "code",
   "execution_count": 31,
   "metadata": {},
   "outputs": [
    {
     "data": {
      "text/plain": [
       "164    1周前\n",
       "141    5天前\n",
       "801    1周前\n",
       "755    7天前\n",
       "574    2天前\n",
       "Name: released_time, dtype: object"
      ]
     },
     "execution_count": 31,
     "metadata": {},
     "output_type": "execute_result"
    }
   ],
   "source": [
    "data['released_time'].sample(5)"
   ]
  },
  {
   "cell_type": "code",
   "execution_count": 32,
   "metadata": {},
   "outputs": [
    {
     "data": {
      "text/plain": [
       "462        newest\n",
       "204    acceptable\n",
       "821    acceptable\n",
       "667           new\n",
       "950           old\n",
       "Name: released_time, dtype: object"
      ]
     },
     "execution_count": 32,
     "metadata": {},
     "output_type": "execute_result"
    }
   ],
   "source": [
    "data_clean['released_time'] = data['released_time'].str.extract('[0-9-]+(\\w+)前',expand=False).map(\n",
    "{'分钟':'newest','小时':'newest','天':'new','周':'acceptable','月':'old'})\n",
    "data_clean['released_time'].sample(5)"
   ]
  },
  {
   "cell_type": "code",
   "execution_count": 33,
   "metadata": {},
   "outputs": [
    {
     "data": {
      "text/plain": [
       "820    2018-03-12 12:02:48\n",
       "806    2018-03-12 18:34:40\n",
       "402    2018-03-22 09:37:56\n",
       "111    2018-03-19 09:34:25\n",
       "316    2018-03-09 09:39:59\n",
       "Name: update_time, dtype: object"
      ]
     },
     "execution_count": 33,
     "metadata": {},
     "output_type": "execute_result"
    }
   ],
   "source": [
    "data['update_time'].sample(5)"
   ]
  },
  {
   "cell_type": "code",
   "execution_count": 34,
   "metadata": {},
   "outputs": [],
   "source": [
    "data_clean['update_time'] = pd.to_datetime(data['update_time'])"
   ]
  },
  {
   "cell_type": "code",
   "execution_count": 35,
   "metadata": {},
   "outputs": [
    {
     "data": {
      "text/plain": [
       "array(['北京', '上海', '广州', '无', '南京', '深圳', '宁波', '杭州', '西安', '成都', '合肥',\n",
       "       '珠海市', '其他', '重庆', '武汉', '无锡', '天津', '珠海 深圳', '长沙', '厦门', '珠海',\n",
       "       '济南', '香港', '苏州', '上海漕河泾开发区', '晋江', '东莞', '成都市', '大连', '福州', '沈阳'],\n",
       "      dtype=object)"
      ]
     },
     "execution_count": 35,
     "metadata": {},
     "output_type": "execute_result"
    }
   ],
   "source": [
    "data['city'].unique()"
   ]
  },
  {
   "cell_type": "code",
   "execution_count": 36,
   "metadata": {},
   "outputs": [
    {
     "data": {
      "text/html": [
       "<div>\n",
       "<style scoped>\n",
       "    .dataframe tbody tr th:only-of-type {\n",
       "        vertical-align: middle;\n",
       "    }\n",
       "\n",
       "    .dataframe tbody tr th {\n",
       "        vertical-align: top;\n",
       "    }\n",
       "\n",
       "    .dataframe thead th {\n",
       "        text-align: right;\n",
       "    }\n",
       "</style>\n",
       "<table border=\"1\" class=\"dataframe\">\n",
       "  <thead>\n",
       "    <tr style=\"text-align: right;\">\n",
       "      <th></th>\n",
       "      <th>auth_capital</th>\n",
       "      <th>city</th>\n",
       "      <th>com_class</th>\n",
       "      <th>com_fullname</th>\n",
       "      <th>com_intro</th>\n",
       "      <th>com_logo</th>\n",
       "      <th>com_name</th>\n",
       "      <th>day_per_week</th>\n",
       "      <th>est_date</th>\n",
       "      <th>industry</th>\n",
       "      <th>...</th>\n",
       "      <th>job_deadline</th>\n",
       "      <th>job_links</th>\n",
       "      <th>job_title</th>\n",
       "      <th>num_employee</th>\n",
       "      <th>released_time</th>\n",
       "      <th>tag</th>\n",
       "      <th>time_span</th>\n",
       "      <th>update_time</th>\n",
       "      <th>wage</th>\n",
       "      <th>average_wage</th>\n",
       "    </tr>\n",
       "  </thead>\n",
       "  <tbody>\n",
       "    <tr>\n",
       "      <th>97</th>\n",
       "      <td>125.8000</td>\n",
       "      <td>北京</td>\n",
       "      <td>公司类型：有限责任公司(台港澳与境内合资)</td>\n",
       "      <td>网易有道信息技术（北京）有限公司</td>\n",
       "      <td>有道是网易旗下利用大数据技术提供移动互联网应用的子公司。</td>\n",
       "      <td>https://sxsimg.xiaoyuanzhao.com/3D/31/3DFFD4ED...</td>\n",
       "      <td>网易有道</td>\n",
       "      <td>4</td>\n",
       "      <td>2006-03-21</td>\n",
       "      <td>移动互联网</td>\n",
       "      <td>...</td>\n",
       "      <td>2018-03-27</td>\n",
       "      <td>https://www.shixiseng.com/intern/inn_ezjwvz2njkdn</td>\n",
       "      <td>数据挖掘实习生</td>\n",
       "      <td>中型企业</td>\n",
       "      <td>newest</td>\n",
       "      <td>软件</td>\n",
       "      <td>5</td>\n",
       "      <td>2018-03-19 12:52:20</td>\n",
       "      <td>200-250/天</td>\n",
       "      <td>225.0</td>\n",
       "    </tr>\n",
       "    <tr>\n",
       "      <th>456</th>\n",
       "      <td>70.0000</td>\n",
       "      <td>上海</td>\n",
       "      <td>公司类型：有限责任公司（自然人投资或控股）</td>\n",
       "      <td>上海穰川信息技术有限公司</td>\n",
       "      <td>致力于成为人才选拔普惠AI的领航者</td>\n",
       "      <td>https://sxsimg.xiaoyuanzhao.com/08/0E/087CBD74...</td>\n",
       "      <td>麦穗人工智能</td>\n",
       "      <td>5</td>\n",
       "      <td>2017-03-28</td>\n",
       "      <td>计算机/互联网</td>\n",
       "      <td>...</td>\n",
       "      <td>2018-03-26</td>\n",
       "      <td>https://www.shixiseng.com/intern/inn_ysmjxcvcjife</td>\n",
       "      <td>推荐系统实习</td>\n",
       "      <td>小型企业</td>\n",
       "      <td>newest</td>\n",
       "      <td>算法</td>\n",
       "      <td>6</td>\n",
       "      <td>2018-03-21 15:42:20</td>\n",
       "      <td>300-400/天</td>\n",
       "      <td>350.0</td>\n",
       "    </tr>\n",
       "    <tr>\n",
       "      <th>977</th>\n",
       "      <td>5203.7383</td>\n",
       "      <td>北京</td>\n",
       "      <td>公司类型：股份有限公司(中外合资、未上市)</td>\n",
       "      <td>福玛特（北京）机器人科技股份有限公司</td>\n",
       "      <td>一家致力于家庭服务机器人自主研发、生产制造、销售服务于一体的产业链企业</td>\n",
       "      <td>https://sxsimg.xiaoyuanzhao.com/86/52/86B4C81E...</td>\n",
       "      <td>福玛特</td>\n",
       "      <td>4</td>\n",
       "      <td>1998-01-24</td>\n",
       "      <td>计算机/互联网</td>\n",
       "      <td>...</td>\n",
       "      <td>2018-07-01</td>\n",
       "      <td>https://www.shixiseng.com/intern/inn_mfse9et7qt6u</td>\n",
       "      <td>算法实习生</td>\n",
       "      <td>无</td>\n",
       "      <td>old</td>\n",
       "      <td>算法</td>\n",
       "      <td>16</td>\n",
       "      <td>2017-06-20 09:18:25</td>\n",
       "      <td>200-300/天</td>\n",
       "      <td>250.0</td>\n",
       "    </tr>\n",
       "    <tr>\n",
       "      <th>78</th>\n",
       "      <td>5032.0000</td>\n",
       "      <td>上海</td>\n",
       "      <td>公司类型：有限责任公司(台港澳法人独资)</td>\n",
       "      <td>携程计算机技术（上海）有限公司</td>\n",
       "      <td>中国第一旅游攻略类社区</td>\n",
       "      <td>https://sxsimg.xiaoyuanzhao.com/E6/53/E63D7B57...</td>\n",
       "      <td>携程旅行网</td>\n",
       "      <td>5</td>\n",
       "      <td>1994-01-19</td>\n",
       "      <td>互联网</td>\n",
       "      <td>...</td>\n",
       "      <td>2018-04-18</td>\n",
       "      <td>https://www.shixiseng.com/intern/inn_j1ype7dbrlxb</td>\n",
       "      <td>数据分析师</td>\n",
       "      <td>大型企业</td>\n",
       "      <td>newest</td>\n",
       "      <td>数据挖掘</td>\n",
       "      <td>3</td>\n",
       "      <td>2018-03-19 17:32:19</td>\n",
       "      <td>150-200/天</td>\n",
       "      <td>175.0</td>\n",
       "    </tr>\n",
       "    <tr>\n",
       "      <th>587</th>\n",
       "      <td>5400.0000</td>\n",
       "      <td>上海</td>\n",
       "      <td>公司类型：有限责任公司</td>\n",
       "      <td>上海东家金服投资管理有限公司</td>\n",
       "      <td>中估联行</td>\n",
       "      <td>https://sxsimg.xiaoyuanzhao.com/2D/4E/2DFB6560...</td>\n",
       "      <td>上海中估联信息技术有</td>\n",
       "      <td>3</td>\n",
       "      <td>2016-10-20</td>\n",
       "      <td>计算机/互联网</td>\n",
       "      <td>...</td>\n",
       "      <td>2018-03-26</td>\n",
       "      <td>https://www.shixiseng.com/intern/inn_aj2wfp114s7j</td>\n",
       "      <td>算法实习</td>\n",
       "      <td>小型企业</td>\n",
       "      <td>new</td>\n",
       "      <td>软件</td>\n",
       "      <td>3</td>\n",
       "      <td>2018-03-20 14:28:14</td>\n",
       "      <td>100-150/天</td>\n",
       "      <td>125.0</td>\n",
       "    </tr>\n",
       "    <tr>\n",
       "      <th>642</th>\n",
       "      <td>37740.0000</td>\n",
       "      <td>北京</td>\n",
       "      <td>公司类型：有限责任公司(台港澳法人独资)</td>\n",
       "      <td>北京搜狐新媒体信息技术有限公司</td>\n",
       "      <td>中国互联网文化运动的先驱、中国综合门户网站的创始者</td>\n",
       "      <td>https://sxsimg.xiaoyuanzhao.com/94/93/94BC427E...</td>\n",
       "      <td>搜狐媒体</td>\n",
       "      <td>4</td>\n",
       "      <td>2006-06-19</td>\n",
       "      <td>互联网</td>\n",
       "      <td>...</td>\n",
       "      <td>2018-04-30</td>\n",
       "      <td>https://www.shixiseng.com/intern/inn_talgvba427ui</td>\n",
       "      <td>图像图形算法实习生</td>\n",
       "      <td>大型企业</td>\n",
       "      <td>new</td>\n",
       "      <td>算法</td>\n",
       "      <td>6</td>\n",
       "      <td>2018-03-19 15:53:36</td>\n",
       "      <td>100-200/天</td>\n",
       "      <td>150.0</td>\n",
       "    </tr>\n",
       "    <tr>\n",
       "      <th>966</th>\n",
       "      <td>2000.0000</td>\n",
       "      <td>武汉</td>\n",
       "      <td>公司类型：有限责任公司(自然人投资或控股)</td>\n",
       "      <td>百纳（武汉）信息技术有限公司</td>\n",
       "      <td>一家专为智能手机上网设计的基于WebKit内核的手机浏览器</td>\n",
       "      <td>https://sxsimg.xiaoyuanzhao.com/D5/D8/D5E45E4C...</td>\n",
       "      <td>海豚</td>\n",
       "      <td>4</td>\n",
       "      <td>2010-07-05</td>\n",
       "      <td>计算机/互联网</td>\n",
       "      <td>...</td>\n",
       "      <td>2018-06-01</td>\n",
       "      <td>https://www.shixiseng.com/intern/inn_pkb4jvrihmuv</td>\n",
       "      <td>图像算法实习生</td>\n",
       "      <td>中型企业</td>\n",
       "      <td>old</td>\n",
       "      <td>算法</td>\n",
       "      <td>7</td>\n",
       "      <td>2017-11-16 14:34:02</td>\n",
       "      <td>70-100/天</td>\n",
       "      <td>85.0</td>\n",
       "    </tr>\n",
       "    <tr>\n",
       "      <th>791</th>\n",
       "      <td>124257.6745</td>\n",
       "      <td>沈阳</td>\n",
       "      <td>公司类型：股份有限公司(中外合资、上市)</td>\n",
       "      <td>东软集团股份有限公司</td>\n",
       "      <td>面向全球提供IT解决方案与服务的公司，致力于通过创新的信息化技术来推动社会的发展与变革</td>\n",
       "      <td>https://sxsimg.xiaoyuanzhao.com/E0/1C/E09C4E58...</td>\n",
       "      <td>东软集团</td>\n",
       "      <td>5</td>\n",
       "      <td>1991-06-17</td>\n",
       "      <td>互联网</td>\n",
       "      <td>...</td>\n",
       "      <td>2018-04-05</td>\n",
       "      <td>https://www.shixiseng.com/intern/inn_16f5zaj98xw4</td>\n",
       "      <td>算法研发实习生</td>\n",
       "      <td>大型企业</td>\n",
       "      <td>acceptable</td>\n",
       "      <td>软件</td>\n",
       "      <td>6</td>\n",
       "      <td>2018-03-13 13:35:35</td>\n",
       "      <td>50-60/天</td>\n",
       "      <td>55.0</td>\n",
       "    </tr>\n",
       "    <tr>\n",
       "      <th>804</th>\n",
       "      <td>12000.0000</td>\n",
       "      <td>北京</td>\n",
       "      <td>公司类型：有限责任公司(自然人投资或控股)</td>\n",
       "      <td>北京新浪互联信息服务有限公司</td>\n",
       "      <td>一家服务于中国及全球华人社群的网络媒体公司</td>\n",
       "      <td>https://sxsimg.xiaoyuanzhao.com/53/FF/5305EDFF...</td>\n",
       "      <td>新浪</td>\n",
       "      <td>4</td>\n",
       "      <td>1999-10-28</td>\n",
       "      <td>计算机/互联网</td>\n",
       "      <td>...</td>\n",
       "      <td>2018-03-23</td>\n",
       "      <td>https://www.shixiseng.com/intern/inn_b8jql4vzyyow</td>\n",
       "      <td>算法工程师实习生</td>\n",
       "      <td>大型企业</td>\n",
       "      <td>acceptable</td>\n",
       "      <td>软件</td>\n",
       "      <td>4</td>\n",
       "      <td>2018-03-12 18:59:21</td>\n",
       "      <td>200-201/天</td>\n",
       "      <td>200.5</td>\n",
       "    </tr>\n",
       "    <tr>\n",
       "      <th>577</th>\n",
       "      <td>600.0000</td>\n",
       "      <td>北京</td>\n",
       "      <td>公司类型：其他有限责任公司</td>\n",
       "      <td>北京海尔广科数字技术有限公司</td>\n",
       "      <td>世界500强企业海尔集团旗下的子公司</td>\n",
       "      <td>https://sxsimg.xiaoyuanzhao.com/B2/86/B2CB705F...</td>\n",
       "      <td>海尔智慧家庭北京创新中心</td>\n",
       "      <td>3</td>\n",
       "      <td>1999-12-08</td>\n",
       "      <td>计算机/互联网</td>\n",
       "      <td>...</td>\n",
       "      <td>2018-04-19</td>\n",
       "      <td>https://www.shixiseng.com/intern/inn_tssdrwshwrns</td>\n",
       "      <td>NLP算法实习生</td>\n",
       "      <td>中型企业</td>\n",
       "      <td>new</td>\n",
       "      <td>算法</td>\n",
       "      <td>4</td>\n",
       "      <td>2018-03-20 15:27:44</td>\n",
       "      <td>100-150/天</td>\n",
       "      <td>125.0</td>\n",
       "    </tr>\n",
       "  </tbody>\n",
       "</table>\n",
       "<p>10 rows × 21 columns</p>\n",
       "</div>"
      ],
      "text/plain": [
       "     auth_capital city              com_class        com_fullname  \\\n",
       "97       125.8000   北京  公司类型：有限责任公司(台港澳与境内合资)    网易有道信息技术（北京）有限公司   \n",
       "456       70.0000   上海  公司类型：有限责任公司（自然人投资或控股）        上海穰川信息技术有限公司   \n",
       "977     5203.7383   北京  公司类型：股份有限公司(中外合资、未上市)  福玛特（北京）机器人科技股份有限公司   \n",
       "78      5032.0000   上海   公司类型：有限责任公司(台港澳法人独资)     携程计算机技术（上海）有限公司   \n",
       "587     5400.0000   上海            公司类型：有限责任公司      上海东家金服投资管理有限公司   \n",
       "642    37740.0000   北京   公司类型：有限责任公司(台港澳法人独资)     北京搜狐新媒体信息技术有限公司   \n",
       "966     2000.0000   武汉  公司类型：有限责任公司(自然人投资或控股)      百纳（武汉）信息技术有限公司   \n",
       "791   124257.6745   沈阳   公司类型：股份有限公司(中外合资、上市)          东软集团股份有限公司   \n",
       "804    12000.0000   北京  公司类型：有限责任公司(自然人投资或控股)      北京新浪互联信息服务有限公司   \n",
       "577      600.0000   北京          公司类型：其他有限责任公司      北京海尔广科数字技术有限公司   \n",
       "\n",
       "                                       com_intro  \\\n",
       "97                  有道是网易旗下利用大数据技术提供移动互联网应用的子公司。   \n",
       "456                            致力于成为人才选拔普惠AI的领航者   \n",
       "977          一家致力于家庭服务机器人自主研发、生产制造、销售服务于一体的产业链企业   \n",
       "78                                   中国第一旅游攻略类社区   \n",
       "587                                         中估联行   \n",
       "642                    中国互联网文化运动的先驱、中国综合门户网站的创始者   \n",
       "966                一家专为智能手机上网设计的基于WebKit内核的手机浏览器   \n",
       "791  面向全球提供IT解决方案与服务的公司，致力于通过创新的信息化技术来推动社会的发展与变革   \n",
       "804                        一家服务于中国及全球华人社群的网络媒体公司   \n",
       "577                           世界500强企业海尔集团旗下的子公司   \n",
       "\n",
       "                                              com_logo      com_name  \\\n",
       "97   https://sxsimg.xiaoyuanzhao.com/3D/31/3DFFD4ED...          网易有道   \n",
       "456  https://sxsimg.xiaoyuanzhao.com/08/0E/087CBD74...        麦穗人工智能   \n",
       "977  https://sxsimg.xiaoyuanzhao.com/86/52/86B4C81E...           福玛特   \n",
       "78   https://sxsimg.xiaoyuanzhao.com/E6/53/E63D7B57...         携程旅行网   \n",
       "587  https://sxsimg.xiaoyuanzhao.com/2D/4E/2DFB6560...    上海中估联信息技术有   \n",
       "642  https://sxsimg.xiaoyuanzhao.com/94/93/94BC427E...          搜狐媒体   \n",
       "966  https://sxsimg.xiaoyuanzhao.com/D5/D8/D5E45E4C...            海豚   \n",
       "791  https://sxsimg.xiaoyuanzhao.com/E0/1C/E09C4E58...          东软集团   \n",
       "804  https://sxsimg.xiaoyuanzhao.com/53/FF/5305EDFF...            新浪   \n",
       "577  https://sxsimg.xiaoyuanzhao.com/B2/86/B2CB705F...  海尔智慧家庭北京创新中心   \n",
       "\n",
       "    day_per_week   est_date industry  ... job_deadline  \\\n",
       "97             4 2006-03-21    移动互联网  ...   2018-03-27   \n",
       "456            5 2017-03-28  计算机/互联网  ...   2018-03-26   \n",
       "977            4 1998-01-24  计算机/互联网  ...   2018-07-01   \n",
       "78             5 1994-01-19      互联网  ...   2018-04-18   \n",
       "587            3 2016-10-20  计算机/互联网  ...   2018-03-26   \n",
       "642            4 2006-06-19      互联网  ...   2018-04-30   \n",
       "966            4 2010-07-05  计算机/互联网  ...   2018-06-01   \n",
       "791            5 1991-06-17      互联网  ...   2018-04-05   \n",
       "804            4 1999-10-28  计算机/互联网  ...   2018-03-23   \n",
       "577            3 1999-12-08  计算机/互联网  ...   2018-04-19   \n",
       "\n",
       "                                             job_links  job_title  \\\n",
       "97   https://www.shixiseng.com/intern/inn_ezjwvz2njkdn    数据挖掘实习生   \n",
       "456  https://www.shixiseng.com/intern/inn_ysmjxcvcjife     推荐系统实习   \n",
       "977  https://www.shixiseng.com/intern/inn_mfse9et7qt6u      算法实习生   \n",
       "78   https://www.shixiseng.com/intern/inn_j1ype7dbrlxb      数据分析师   \n",
       "587  https://www.shixiseng.com/intern/inn_aj2wfp114s7j       算法实习   \n",
       "642  https://www.shixiseng.com/intern/inn_talgvba427ui  图像图形算法实习生   \n",
       "966  https://www.shixiseng.com/intern/inn_pkb4jvrihmuv    图像算法实习生   \n",
       "791  https://www.shixiseng.com/intern/inn_16f5zaj98xw4    算法研发实习生   \n",
       "804  https://www.shixiseng.com/intern/inn_b8jql4vzyyow   算法工程师实习生   \n",
       "577  https://www.shixiseng.com/intern/inn_tssdrwshwrns   NLP算法实习生   \n",
       "\n",
       "    num_employee released_time   tag time_span         update_time       wage  \\\n",
       "97          中型企业        newest    软件         5 2018-03-19 12:52:20  200-250/天   \n",
       "456         小型企业        newest    算法         6 2018-03-21 15:42:20  300-400/天   \n",
       "977            无           old    算法        16 2017-06-20 09:18:25  200-300/天   \n",
       "78          大型企业        newest  数据挖掘         3 2018-03-19 17:32:19  150-200/天   \n",
       "587         小型企业           new    软件         3 2018-03-20 14:28:14  100-150/天   \n",
       "642         大型企业           new    算法         6 2018-03-19 15:53:36  100-200/天   \n",
       "966         中型企业           old    算法         7 2017-11-16 14:34:02   70-100/天   \n",
       "791         大型企业    acceptable    软件         6 2018-03-13 13:35:35    50-60/天   \n",
       "804         大型企业    acceptable    软件         4 2018-03-12 18:59:21  200-201/天   \n",
       "577         中型企业           new    算法         4 2018-03-20 15:27:44  100-150/天   \n",
       "\n",
       "    average_wage  \n",
       "97         225.0  \n",
       "456        350.0  \n",
       "977        250.0  \n",
       "78         175.0  \n",
       "587        125.0  \n",
       "642        150.0  \n",
       "966         85.0  \n",
       "791         55.0  \n",
       "804        200.5  \n",
       "577        125.0  \n",
       "\n",
       "[10 rows x 21 columns]"
      ]
     },
     "execution_count": 36,
     "metadata": {},
     "output_type": "execute_result"
    }
   ],
   "source": [
    "data_clean.loc[data_clean['city'] == '成都市','city'] = '成都'\n",
    "data_clean.loc[data_clean['city'].isin(['珠海市', '珠海 深圳', '珠海']),'city'] = '珠海'\n",
    "data_clean.loc[data_clean['city'] == '上海漕河泾开发区','city'] = '上海'\n",
    "data_clean.sample(10)"
   ]
  },
  {
   "cell_type": "code",
   "execution_count": 37,
   "metadata": {},
   "outputs": [
    {
     "data": {
      "text/plain": [
       "北京    471\n",
       "上海    164\n",
       "杭州     55\n",
       "深圳     52\n",
       "广州     44\n",
       "成都     21\n",
       "南京     14\n",
       "武汉      9\n",
       "西安      8\n",
       "珠海      4\n",
       "Name: city, dtype: int64"
      ]
     },
     "execution_count": 37,
     "metadata": {},
     "output_type": "execute_result"
    }
   ],
   "source": [
    "data_clean['city'].value_counts().nlargest(10) # nlargest最大的"
   ]
  },
  {
   "cell_type": "code",
   "execution_count": 38,
   "metadata": {},
   "outputs": [
    {
     "data": {
      "text/plain": [
       "<AxesSubplot:>"
      ]
     },
     "execution_count": 38,
     "metadata": {},
     "output_type": "execute_result"
    },
    {
     "data": {
      "image/png": "[encoded data removed]",
      "text/plain": [
       "<Figure size 720x720 with 1 Axes>"
      ]
     },
     "metadata": {
      "needs_background": "light"
     },
     "output_type": "display_data"
    }
   ],
   "source": [
    "data_clean['city'].value_counts().nlargest(10).plot(kind = 'bar')"
   ]
  },
  {
   "cell_type": "code",
   "execution_count": 39,
   "metadata": {},
   "outputs": [
    {
     "data": {
      "text/plain": [
       "['公司类型：有限责任公司(台港澳法人独资)',\n",
       " '公司类型：股份有限公司(上市)',\n",
       " '公司类型：有限责任公司(外国法人独资)',\n",
       " '无',\n",
       " '公司类型：有限责任公司',\n",
       " '公司类型：有限责任公司（法人独资）',\n",
       " '公司类型：其他有限责任公司',\n",
       " ' ',\n",
       " '公司类型：其他股份有限公司(非上市)',\n",
       " '公司类型：有限责任公司(中外合资)',\n",
       " '公司类型：有限责任公司(自然人投资或控股)',\n",
       " '公司类型：有限责任公司(自然人独资)',\n",
       " '公司类型：有限责任公司（自然人投资或控股）',\n",
       " '公司类型：有限责任公司(法人独资)',\n",
       " '公司类型：有限责任公司分公司（自然人独资）',\n",
       " '公司类型：股份有限公司(中外合资、上市)',\n",
       " '公司类型：有限责任公司（台港澳法人独资）',\n",
       " '公司类型：有限责任公司\\n',\n",
       " '公司类型：有限责任公司（自然人独资）',\n",
       " '公司类型：有限责任公司（自然人投资或控股的法人独资）',\n",
       " '公司类型：股份有限公司(非上市、自然人投资或控股)',\n",
       " '公司类型：有限责任公司(台港澳与境内合资)',\n",
       " '公司类型：无',\n",
       " '公司类型：股份有限公司分公司(上市、国有控股)',\n",
       " '公司类型：私营有限责任公司(自然人控股或私营性质企业控股)',\n",
       " '公司类型：全民所有制',\n",
       " '公司类型：有限责任公司（外国法人独资）',\n",
       " '公司类型：股份有限公司(非上市)',\n",
       " '公司类型：股份有限公司(上市、自然人投资或控股)',\n",
       " '公司类型：股份有限公司(台港澳与境内合资、上市)',\n",
       " '公司类型：其他股份有限公司(上市)',\n",
       " '公司类型：有限责任公司分公司（非自然人投资或控股的法人独资）',\n",
       " '公司类型：其他股份有限公司（上市）',\n",
       " '公司类型：有限责任公司（非自然人投资或控股的法人独资）',\n",
       " '公司类型：股份有限公司',\n",
       " '公司类型：非上市股份有限公司',\n",
       " '公司类型：分公司',\n",
       " '公司类型：股份有限公司（上市、自然人投资或控股）',\n",
       " '公司类型：有限合伙',\n",
       " '公司类型：外商投资公司分公司',\n",
       " '公司类型：有限责任公司(台港澳与外国投资者合资)',\n",
       " '公司类型：股份有限公司（非上市）',\n",
       " '公司类型：有限责任公司(外商投资企业法人独资)',\n",
       " '公司类型：上市股份有限公司',\n",
       " '公司类型：股份有限公司(台港澳与境内合资、未上市)',\n",
       " '公司类型：股份有限公司（非上市、自然人投资或控股）',\n",
       " '公司类型：股份有限公司（台港澳与境内合资、未上市）',\n",
       " '公司类型：股份有限公司(中外合资、未上市)']"
      ]
     },
     "execution_count": 39,
     "metadata": {},
     "output_type": "execute_result"
    }
   ],
   "source": [
    "list(data['com_class'].unique())"
   ]
  },
  {
   "cell_type": "code",
   "execution_count": 40,
   "metadata": {},
   "outputs": [],
   "source": [
    "def get_com_type(string):\n",
    "    if string == None:\n",
    "        return np.nan\n",
    "    elif ('非上市' in string) or ('未上市' in string):\n",
    "        return '股份有限公司（未上市）'\n",
    "    elif '股份' in string:\n",
    "        return '股份有限公司（上市）'\n",
    "    elif '责任' in string:\n",
    "        return '有限责任公司'\n",
    "    elif '有限合伙' in string:\n",
    "        return '有限合伙企业'\n",
    "    elif '全名所有' in string:\n",
    "        return '国有企业'\n",
    "    else:\n",
    "        return np.nan"
   ]
  },
  {
   "cell_type": "code",
   "execution_count": 41,
   "metadata": {},
   "outputs": [
    {
     "data": {
      "text/html": [
       "<div>\n",
       "<style scoped>\n",
       "    .dataframe tbody tr th:only-of-type {\n",
       "        vertical-align: middle;\n",
       "    }\n",
       "\n",
       "    .dataframe tbody tr th {\n",
       "        vertical-align: top;\n",
       "    }\n",
       "\n",
       "    .dataframe thead th {\n",
       "        text-align: right;\n",
       "    }\n",
       "</style>\n",
       "<table border=\"1\" class=\"dataframe\">\n",
       "  <thead>\n",
       "    <tr style=\"text-align: right;\">\n",
       "      <th></th>\n",
       "      <th>0</th>\n",
       "      <th>1</th>\n",
       "      <th>com_class</th>\n",
       "    </tr>\n",
       "  </thead>\n",
       "  <tbody>\n",
       "    <tr>\n",
       "      <th>608</th>\n",
       "      <td></td>\n",
       "      <td>None</td>\n",
       "      <td>NaN</td>\n",
       "    </tr>\n",
       "    <tr>\n",
       "      <th>815</th>\n",
       "      <td>公司类型</td>\n",
       "      <td>有限责任公司(自然人投资或控股)</td>\n",
       "      <td>有限责任公司</td>\n",
       "    </tr>\n",
       "    <tr>\n",
       "      <th>212</th>\n",
       "      <td>公司类型</td>\n",
       "      <td>有限责任公司(台港澳法人独资)</td>\n",
       "      <td>有限责任公司</td>\n",
       "    </tr>\n",
       "    <tr>\n",
       "      <th>689</th>\n",
       "      <td>公司类型</td>\n",
       "      <td>其他有限责任公司</td>\n",
       "      <td>有限责任公司</td>\n",
       "    </tr>\n",
       "    <tr>\n",
       "      <th>651</th>\n",
       "      <td>公司类型</td>\n",
       "      <td>有限责任公司(台港澳法人独资)</td>\n",
       "      <td>有限责任公司</td>\n",
       "    </tr>\n",
       "  </tbody>\n",
       "</table>\n",
       "</div>"
      ],
      "text/plain": [
       "        0                 1 com_class\n",
       "608                    None       NaN\n",
       "815  公司类型  有限责任公司(自然人投资或控股)    有限责任公司\n",
       "212  公司类型   有限责任公司(台港澳法人独资)    有限责任公司\n",
       "689  公司类型          其他有限责任公司    有限责任公司\n",
       "651  公司类型   有限责任公司(台港澳法人独资)    有限责任公司"
      ]
     },
     "execution_count": 41,
     "metadata": {},
     "output_type": "execute_result"
    }
   ],
   "source": [
    "com_class = data['com_class'].str.split('：',expand=True)\n",
    "com_class['com_class'] = com_class[1].apply(get_com_type)\n",
    "com_class.sample(5)"
   ]
  },
  {
   "cell_type": "code",
   "execution_count": 42,
   "metadata": {},
   "outputs": [],
   "source": [
    "data_clean['com_class'] = com_class['com_class']"
   ]
  },
  {
   "cell_type": "code",
   "execution_count": 43,
   "metadata": {},
   "outputs": [],
   "source": [
    "data_clean = data_clean.reindex(columns=['com_fullname', 'com_name', 'job_academic', 'job_links', \n",
    "                                         'tag','auth_capital', 'day_per_week', 'num_employee', 'time_span',\n",
    "                                         'average_wage', 'est_date', 'job_deadline', 'released_time',\n",
    "                                         'update_time', 'city', 'com_class', 'com_intro', 'job_title',\n",
    "                                         'com_logo', 'industry'])\n",
    "data_clean.to_csv(r'E:/数据分析数据集/数据挖掘、机器学习算法实习生需求分析/data_cleans.csv', index = False,encoding='utf-8')"
   ]
  },
  {
   "cell_type": "code",
   "execution_count": 44,
   "metadata": {},
   "outputs": [
    {
     "data": {
      "text/html": [
       "<div>\n",
       "<style scoped>\n",
       "    .dataframe tbody tr th:only-of-type {\n",
       "        vertical-align: middle;\n",
       "    }\n",
       "\n",
       "    .dataframe tbody tr th {\n",
       "        vertical-align: top;\n",
       "    }\n",
       "\n",
       "    .dataframe thead th {\n",
       "        text-align: right;\n",
       "    }\n",
       "</style>\n",
       "<table border=\"1\" class=\"dataframe\">\n",
       "  <thead>\n",
       "    <tr style=\"text-align: right;\">\n",
       "      <th></th>\n",
       "      <th>com_fullname</th>\n",
       "      <th>com_name</th>\n",
       "      <th>job_academic</th>\n",
       "      <th>job_links</th>\n",
       "      <th>tag</th>\n",
       "      <th>auth_capital</th>\n",
       "      <th>day_per_week</th>\n",
       "      <th>num_employee</th>\n",
       "      <th>time_span</th>\n",
       "      <th>average_wage</th>\n",
       "      <th>est_date</th>\n",
       "      <th>job_deadline</th>\n",
       "      <th>released_time</th>\n",
       "      <th>update_time</th>\n",
       "      <th>city</th>\n",
       "      <th>com_class</th>\n",
       "      <th>com_intro</th>\n",
       "      <th>job_title</th>\n",
       "      <th>com_logo</th>\n",
       "      <th>industry</th>\n",
       "    </tr>\n",
       "  </thead>\n",
       "  <tbody>\n",
       "    <tr>\n",
       "      <th>735</th>\n",
       "      <td>浙江核新同花顺网络信息股份有限公司</td>\n",
       "      <td>同花顺</td>\n",
       "      <td>不限</td>\n",
       "      <td>https://www.shixiseng.com/intern/inn_c5fnpsfzcthq</td>\n",
       "      <td>算法</td>\n",
       "      <td>53760.0000</td>\n",
       "      <td>5</td>\n",
       "      <td>大型企业</td>\n",
       "      <td>7</td>\n",
       "      <td>180.0</td>\n",
       "      <td>2001-08-24</td>\n",
       "      <td>2018-03-27</td>\n",
       "      <td>new</td>\n",
       "      <td>2018-03-15 16:30:20</td>\n",
       "      <td>杭州</td>\n",
       "      <td>股份有限公司（上市）</td>\n",
       "      <td>浙江核新同花顺网络信息股份有限公司成立于1995年，是中国证券信息服务业的第一家上市公司</td>\n",
       "      <td>同花顺--语音识别实习生</td>\n",
       "      <td>https://sxsimg.xiaoyuanzhao.com/A3/50/A33B2E30...</td>\n",
       "      <td>计算机/互联网</td>\n",
       "    </tr>\n",
       "    <tr>\n",
       "      <th>825</th>\n",
       "      <td>武汉弦科技有限责任公司</td>\n",
       "      <td>小弦科技</td>\n",
       "      <td>本科</td>\n",
       "      <td>https://www.shixiseng.com/intern/inn_wuoom306jglx</td>\n",
       "      <td>算法</td>\n",
       "      <td>NaN</td>\n",
       "      <td>3</td>\n",
       "      <td>小型企业</td>\n",
       "      <td>3</td>\n",
       "      <td>125.0</td>\n",
       "      <td>NaT</td>\n",
       "      <td>2020-12-03</td>\n",
       "      <td>acceptable</td>\n",
       "      <td>2018-03-12 09:48:04</td>\n",
       "      <td>武汉</td>\n",
       "      <td>NaN</td>\n",
       "      <td>小弦科技是人工智能领域的创业公司，其人工智能产品和解决方案涉及教育、医疗等；至今已服务于20...</td>\n",
       "      <td>算法实习生</td>\n",
       "      <td>https://sxsimg.xiaoyuanzhao.com/18/36/184A0D8F...</td>\n",
       "      <td>快消,生物/医疗,计算机/互联网</td>\n",
       "    </tr>\n",
       "    <tr>\n",
       "      <th>633</th>\n",
       "      <td>百融（北京）金融信息服务股份有限公司</td>\n",
       "      <td>百融金服</td>\n",
       "      <td>硕士</td>\n",
       "      <td>https://www.shixiseng.com/intern/inn_myskjpw7wves</td>\n",
       "      <td>算法</td>\n",
       "      <td>7350.4982</td>\n",
       "      <td>5</td>\n",
       "      <td>中型企业</td>\n",
       "      <td>3</td>\n",
       "      <td>175.0</td>\n",
       "      <td>2014-03-19</td>\n",
       "      <td>2018-04-02</td>\n",
       "      <td>new</td>\n",
       "      <td>2018-03-19 17:08:32</td>\n",
       "      <td>北京</td>\n",
       "      <td>股份有限公司（未上市）</td>\n",
       "      <td>一家专业提供大数据金融信息服务的公司</td>\n",
       "      <td>算法工程师实习生</td>\n",
       "      <td>https://sxsimg.xiaoyuanzhao.com/D6/13/D61E2DA7...</td>\n",
       "      <td>无</td>\n",
       "    </tr>\n",
       "  </tbody>\n",
       "</table>\n",
       "</div>"
      ],
      "text/plain": [
       "           com_fullname com_name job_academic  \\\n",
       "735   浙江核新同花顺网络信息股份有限公司      同花顺           不限   \n",
       "825         武汉弦科技有限责任公司     小弦科技           本科   \n",
       "633  百融（北京）金融信息服务股份有限公司     百融金服           硕士   \n",
       "\n",
       "                                             job_links tag  auth_capital  \\\n",
       "735  https://www.shixiseng.com/intern/inn_c5fnpsfzcthq  算法    53760.0000   \n",
       "825  https://www.shixiseng.com/intern/inn_wuoom306jglx  算法           NaN   \n",
       "633  https://www.shixiseng.com/intern/inn_myskjpw7wves  算法     7350.4982   \n",
       "\n",
       "    day_per_week num_employee  time_span  average_wage   est_date  \\\n",
       "735            5         大型企业          7         180.0 2001-08-24   \n",
       "825            3         小型企业          3         125.0        NaT   \n",
       "633            5         中型企业          3         175.0 2014-03-19   \n",
       "\n",
       "    job_deadline released_time         update_time city    com_class  \\\n",
       "735   2018-03-27           new 2018-03-15 16:30:20   杭州   股份有限公司（上市）   \n",
       "825   2020-12-03    acceptable 2018-03-12 09:48:04   武汉          NaN   \n",
       "633   2018-04-02           new 2018-03-19 17:08:32   北京  股份有限公司（未上市）   \n",
       "\n",
       "                                             com_intro     job_title  \\\n",
       "735       浙江核新同花顺网络信息股份有限公司成立于1995年，是中国证券信息服务业的第一家上市公司  同花顺--语音识别实习生   \n",
       "825  小弦科技是人工智能领域的创业公司，其人工智能产品和解决方案涉及教育、医疗等；至今已服务于20...         算法实习生   \n",
       "633                                 一家专业提供大数据金融信息服务的公司      算法工程师实习生   \n",
       "\n",
       "                                              com_logo          industry  \n",
       "735  https://sxsimg.xiaoyuanzhao.com/A3/50/A33B2E30...           计算机/互联网  \n",
       "825  https://sxsimg.xiaoyuanzhao.com/18/36/184A0D8F...  快消,生物/医疗,计算机/互联网  \n",
       "633  https://sxsimg.xiaoyuanzhao.com/D6/13/D61E2DA7...                 无  "
      ]
     },
     "execution_count": 44,
     "metadata": {},
     "output_type": "execute_result"
    }
   ],
   "source": [
    "data_clean.sample(3)"
   ]
  },
  {
   "cell_type": "code",
   "execution_count": 45,
   "metadata": {},
   "outputs": [
    {
     "name": "stdout",
     "output_type": "stream",
     "text": [
      "<class 'pandas.core.frame.DataFrame'>\n",
      "Int64Index: 878 entries, 0 to 977\n",
      "Data columns (total 27 columns):\n",
      " #   Column          Non-Null Count  Dtype \n",
      "---  ------          --------------  ----- \n",
      " 0   auth_capital    878 non-null    object\n",
      " 1   city            878 non-null    object\n",
      " 2   com_class       878 non-null    object\n",
      " 3   com_fullname    878 non-null    object\n",
      " 4   com_id          878 non-null    object\n",
      " 5   com_intro       878 non-null    object\n",
      " 6   com_links       878 non-null    object\n",
      " 7   com_location    878 non-null    object\n",
      " 8   com_logo        878 non-null    object\n",
      " 9   com_name        878 non-null    object\n",
      " 10  com_website     878 non-null    object\n",
      " 11  com_welfare     878 non-null    object\n",
      " 12  day_per_week    878 non-null    object\n",
      " 13  detailed_intro  878 non-null    object\n",
      " 14  est_date        878 non-null    object\n",
      " 15  industry        878 non-null    object\n",
      " 16  job_academic    878 non-null    object\n",
      " 17  job_deadline    878 non-null    object\n",
      " 18  job_detail      878 non-null    object\n",
      " 19  job_links       878 non-null    object\n",
      " 20  job_title       878 non-null    object\n",
      " 21  num_employee    878 non-null    object\n",
      " 22  released_time   878 non-null    object\n",
      " 23  tag             878 non-null    object\n",
      " 24  time_span       878 non-null    object\n",
      " 25  update_time     878 non-null    object\n",
      " 26  wage            878 non-null    object\n",
      "dtypes: object(27)\n",
      "memory usage: 192.1+ KB\n"
     ]
    }
   ],
   "source": [
    "data.info()"
   ]
  },
  {
   "cell_type": "code",
   "execution_count": 46,
   "metadata": {},
   "outputs": [
    {
     "data": {
      "text/plain": [
       "Int64Index([], dtype='int64')"
      ]
     },
     "execution_count": 46,
     "metadata": {},
     "output_type": "execute_result"
    }
   ],
   "source": [
    "data_clean.loc[data_clean['city']==2].index"
   ]
  },
  {
   "cell_type": "code",
   "execution_count": 47,
   "metadata": {},
   "outputs": [],
   "source": [
    "data_clean.drop([32, 108, 457, 640, 641, 942],axis=0,inplace=True)"
   ]
  },
  {
   "cell_type": "code",
   "execution_count": 48,
   "metadata": {},
   "outputs": [
    {
     "name": "stdout",
     "output_type": "stream",
     "text": [
      "<class 'pandas.core.frame.DataFrame'>\n",
      "Int64Index: 872 entries, 0 to 977\n",
      "Data columns (total 20 columns):\n",
      " #   Column         Non-Null Count  Dtype         \n",
      "---  ------         --------------  -----         \n",
      " 0   com_fullname   872 non-null    object        \n",
      " 1   com_name       872 non-null    object        \n",
      " 2   job_academic   872 non-null    object        \n",
      " 3   job_links      872 non-null    object        \n",
      " 4   tag            872 non-null    object        \n",
      " 5   auth_capital   778 non-null    float64       \n",
      " 6   day_per_week   872 non-null    object        \n",
      " 7   num_employee   872 non-null    object        \n",
      " 8   time_span      872 non-null    int64         \n",
      " 9   average_wage   872 non-null    float64       \n",
      " 10  est_date       784 non-null    datetime64[ns]\n",
      " 11  job_deadline   872 non-null    datetime64[ns]\n",
      " 12  released_time  872 non-null    object        \n",
      " 13  update_time    872 non-null    datetime64[ns]\n",
      " 14  city           872 non-null    object        \n",
      " 15  com_class      788 non-null    object        \n",
      " 16  com_intro      872 non-null    object        \n",
      " 17  job_title      872 non-null    object        \n",
      " 18  com_logo       872 non-null    object        \n",
      " 19  industry       872 non-null    object        \n",
      "dtypes: datetime64[ns](3), float64(2), int64(1), object(14)\n",
      "memory usage: 143.1+ KB\n"
     ]
    }
   ],
   "source": [
    "data_clean.info()"
   ]
  },
  {
   "cell_type": "code",
   "execution_count": 49,
   "metadata": {},
   "outputs": [
    {
     "data": {
      "text/plain": [
       "北京    468\n",
       "上海    162\n",
       "杭州     55\n",
       "深圳     52\n",
       "广州     43\n",
       "成都     21\n",
       "南京     14\n",
       "武汉      9\n",
       "西安      8\n",
       "珠海      4\n",
       "苏州      4\n",
       "重庆      4\n",
       "沈阳      4\n",
       "无       4\n",
       "合肥      3\n",
       "Name: city, dtype: int64"
      ]
     },
     "execution_count": 49,
     "metadata": {},
     "output_type": "execute_result"
    }
   ],
   "source": [
    "# 城市与职位数量\n",
    "city = data_clean['city'].value_counts()\n",
    "city[:15]"
   ]
  },
  {
   "cell_type": "code",
   "execution_count": 50,
   "metadata": {},
   "outputs": [
    {
     "data": {
      "text/plain": [
       "(0.0, 500.0)"
      ]
     },
     "execution_count": 50,
     "metadata": {},
     "output_type": "execute_result"
    },
    {
     "data": {
      "image/png": "[encoded data removed]",
      "text/plain": [
       "<Figure size 720x720 with 1 Axes>"
      ]
     },
     "metadata": {
      "needs_background": "light"
     },
     "output_type": "display_data"
    }
   ],
   "source": [
    "plt.bar(city[:15].index,city[:15].values)\n",
    "plt.title('城市与职位数量',loc='left')\n",
    "plt.ylim(0,500)"
   ]
  },
  {
   "cell_type": "code",
   "execution_count": 51,
   "metadata": {},
   "outputs": [
    {
     "data": {
      "text/plain": [
       "北京    53.67%\n",
       "上海    18.58%\n",
       "杭州     6.31%\n",
       "深圳     5.96%\n",
       "广州     4.93%\n",
       "成都     2.41%\n",
       "南京     1.61%\n",
       "武汉     1.03%\n",
       "西安     0.92%\n",
       "珠海     0.46%\n",
       "苏州     0.46%\n",
       "重庆     0.46%\n",
       "沈阳     0.46%\n",
       "无      0.46%\n",
       "合肥     0.34%\n",
       "Name: city, dtype: object"
      ]
     },
     "execution_count": 51,
     "metadata": {},
     "output_type": "execute_result"
    }
   ],
   "source": [
    "city_pct = (city/city.sum()).map(lambda x: '{:,.2%}'.format(x))\n",
    "city_pct[:15]"
   ]
  },
  {
   "cell_type": "code",
   "execution_count": 52,
   "metadata": {},
   "outputs": [
    {
     "data": {
      "text/plain": [
       "0.8944954128440366"
      ]
     },
     "execution_count": 52,
     "metadata": {},
     "output_type": "execute_result"
    }
   ],
   "source": [
    "(city/city.sum())[:5].sum()"
   ]
  },
  {
   "cell_type": "code",
   "execution_count": 53,
   "metadata": {},
   "outputs": [
    {
     "data": {
      "text/plain": [
       "非白三维    10\n",
       "光珀       6\n",
       "虹软       5\n",
       "同花顺      4\n",
       "菜鸟网络     3\n",
       "Name: com_name, dtype: int64"
      ]
     },
     "execution_count": 53,
     "metadata": {},
     "output_type": "execute_result"
    }
   ],
   "source": [
    "data_clean.loc[data_clean['city'] == '杭州','com_name'].value_counts()[:5]\n",
    "#data_clean.loc[data_clean['city'] == '杭州']['com_name'].value_counts()[:5]"
   ]
  },
  {
   "cell_type": "code",
   "execution_count": 54,
   "metadata": {},
   "outputs": [],
   "source": [
    "def topN(dataframe, n=5):\n",
    "    counts = dataframe.value_counts()\n",
    "    return counts[:n]"
   ]
  },
  {
   "cell_type": "code",
   "execution_count": 55,
   "metadata": {},
   "outputs": [
    {
     "data": {
      "text/plain": [
       "city               \n",
       "北京    百度               21\n",
       "      滴滴出行             19\n",
       "      今日头条             12\n",
       "      京东金融             10\n",
       "      恒润科技              9\n",
       "上海    华院数据              9\n",
       "      爱奇艺               8\n",
       "      驭势科技              7\n",
       "      名片全能王             4\n",
       "      纵目科技              4\n",
       "杭州    非白三维             10\n",
       "      光珀                6\n",
       "      虹软                5\n",
       "      同花顺               4\n",
       "      菜鸟网络              3\n",
       "深圳    中科龙智             13\n",
       "      Webot             4\n",
       "      SenseTime商汤科技     3\n",
       "      美图                3\n",
       "      平安科技              3\n",
       "广州    网易游戏              5\n",
       "      探迹                4\n",
       "      景驰科技              2\n",
       "      唯品会               2\n",
       "      欢聚时代（多玩YY）        2\n",
       "成都    天佑飞天              3\n",
       "      知道创宇              2\n",
       "      风雷体育              1\n",
       "      小多科技              1\n",
       "      臻识科技              1\n",
       "南京    南京地平线机器人技术        2\n",
       "      小黑鱼科技             2\n",
       "      金智信息              2\n",
       "      趋势科技              1\n",
       "      途牛旅游网             1\n",
       "武汉    小弦科技              2\n",
       "      乐行                1\n",
       "      mindsee           1\n",
       "      微模式               1\n",
       "      海豚                1\n",
       "西安    中科微光              3\n",
       "      Wingspan          2\n",
       "      博彦科技              1\n",
       "      绿盟科技              1\n",
       "      西步数据              1\n",
       "珠海    筑巢科技              1\n",
       "      金山WPS             1\n",
       "      网钰科技              1\n",
       "      西山居               1\n",
       "苏州    意能通               2\n",
       "      国科康成              1\n",
       "      华兴致远              1\n",
       "重庆    赛迪技术              2\n",
       "      中国信息通信研究院西部分院     1\n",
       "      德勤全球交付中心          1\n",
       "沈阳    东软集团              2\n",
       "      东软                2\n",
       "无     无                 4\n",
       "合肥    乐职网               3\n",
       "Name: com_name, dtype: int64"
      ]
     },
     "execution_count": 55,
     "metadata": {},
     "output_type": "execute_result"
    }
   ],
   "source": [
    "data_clean.groupby('city').com_name.apply(topN).loc[list(city_pct[:15].index)]"
   ]
  },
  {
   "cell_type": "code",
   "execution_count": 56,
   "metadata": {},
   "outputs": [
    {
     "data": {
      "text/plain": [
       "3657.4977064220184"
      ]
     },
     "execution_count": 56,
     "metadata": {},
     "output_type": "execute_result"
    }
   ],
   "source": [
    "data_clean['salary'] = data_clean['average_wage'] * data_clean['day_per_week']*4\n",
    "data_clean['salary'].mean()"
   ]
  },
  {
   "cell_type": "code",
   "execution_count": 57,
   "metadata": {},
   "outputs": [],
   "source": [
    "data_clean['salary'] = data_clean['salary'].astype(float)"
   ]
  },
  {
   "cell_type": "code",
   "execution_count": 58,
   "metadata": {},
   "outputs": [
    {
     "name": "stdout",
     "output_type": "stream",
     "text": [
      "<class 'pandas.core.frame.DataFrame'>\n",
      "Int64Index: 872 entries, 0 to 977\n",
      "Data columns (total 21 columns):\n",
      " #   Column         Non-Null Count  Dtype         \n",
      "---  ------         --------------  -----         \n",
      " 0   com_fullname   872 non-null    object        \n",
      " 1   com_name       872 non-null    object        \n",
      " 2   job_academic   872 non-null    object        \n",
      " 3   job_links      872 non-null    object        \n",
      " 4   tag            872 non-null    object        \n",
      " 5   auth_capital   778 non-null    float64       \n",
      " 6   day_per_week   872 non-null    object        \n",
      " 7   num_employee   872 non-null    object        \n",
      " 8   time_span      872 non-null    int64         \n",
      " 9   average_wage   872 non-null    float64       \n",
      " 10  est_date       784 non-null    datetime64[ns]\n",
      " 11  job_deadline   872 non-null    datetime64[ns]\n",
      " 12  released_time  872 non-null    object        \n",
      " 13  update_time    872 non-null    datetime64[ns]\n",
      " 14  city           872 non-null    object        \n",
      " 15  com_class      788 non-null    object        \n",
      " 16  com_intro      872 non-null    object        \n",
      " 17  job_title      872 non-null    object        \n",
      " 18  com_logo       872 non-null    object        \n",
      " 19  industry       872 non-null    object        \n",
      " 20  salary         872 non-null    float64       \n",
      "dtypes: datetime64[ns](3), float64(3), int64(1), object(14)\n",
      "memory usage: 149.9+ KB\n"
     ]
    }
   ],
   "source": [
    "data_clean.info()"
   ]
  },
  {
   "cell_type": "code",
   "execution_count": 59,
   "metadata": {},
   "outputs": [
    {
     "data": {
      "text/plain": [
       "city\n",
       "晋江    9000.000000\n",
       "长沙    4500.000000\n",
       "东莞    4150.000000\n",
       "杭州    4139.345455\n",
       "福州    4000.000000\n",
       "无     3852.000000\n",
       "北京    3800.547009\n",
       "深圳    3783.538462\n",
       "苏州    3775.000000\n",
       "厦门    3750.000000\n",
       "Name: salary, dtype: float64"
      ]
     },
     "execution_count": 59,
     "metadata": {},
     "output_type": "execute_result"
    }
   ],
   "source": [
    "salary_by_city = data_clean.groupby('city')['salary'].mean()\n",
    "salary_by_city.nlargest(10)"
   ]
  },
  {
   "cell_type": "code",
   "execution_count": 60,
   "metadata": {},
   "outputs": [
    {
     "data": {
      "text/plain": [
       "西安    2317.500000\n",
       "珠海    2390.000000\n",
       "深圳    3783.538462\n",
       "武汉    1912.222222\n",
       "杭州    4139.345455\n",
       "成都    2850.000000\n",
       "广州    3233.488372\n",
       "南京    3420.857143\n",
       "北京    3800.547009\n",
       "上海    3599.901235\n",
       "Name: salary, dtype: float64"
      ]
     },
     "execution_count": 60,
     "metadata": {},
     "output_type": "execute_result"
    }
   ],
   "source": [
    "top10_city = salary_by_city[city_pct.index[:10].sort_values(ascending=False)]\n",
    "top10_city"
   ]
  },
  {
   "cell_type": "code",
   "execution_count": 61,
   "metadata": {},
   "outputs": [],
   "source": [
    "from pyecharts.charts import Bar\n",
    "from pyecharts import options as opts"
   ]
  },
  {
   "cell_type": "code",
   "execution_count": 62,
   "metadata": {},
   "outputs": [
    {
     "data": {
      "text/plain": [
       "['西安', '珠海', '深圳', '武汉', '杭州', '成都', '广州', '南京', '北京', '上海']"
      ]
     },
     "execution_count": 62,
     "metadata": {},
     "output_type": "execute_result"
    }
   ],
   "source": [
    "list(top10_city.index)"
   ]
  },
  {
   "cell_type": "code",
   "execution_count": 63,
   "metadata": {},
   "outputs": [],
   "source": [
    "# bar = Bar()\n",
    "# bar.add_xaxis(list(top10_city.index))\n",
    "# bar.add_yaxis('北上广深杭等城市平均实习工资',list(np.round(top10_city.values, 0)))\n",
    "# bar.render_notebook()"
   ]
  },
  {
   "cell_type": "code",
   "execution_count": 64,
   "metadata": {},
   "outputs": [
    {
     "data": {
      "text/html": [
       "<script>\n",
       "    require.config({\n",
       "        paths: {\n",
       "            'echarts':'https://assets.pyecharts.org/assets/echarts.min'\n",
       "        }\n",
       "    });\n",
       "</script>\n",
       "\n",
       "    <div id=\"c89bef1d8b05475788d404bb906862b9\" style=\"width:900px; height:500px;\"></div>\n",
       "\n",
       "\n",
       "<script>\n",
       "    require(['echarts'], function(echarts) {\n",
       "        var chart_c89bef1d8b05475788d404bb906862b9 = echarts.init(\n",
       "            document.getElementById('c89bef1d8b05475788d404bb906862b9'), 'white', {renderer: 'canvas'});\n",
       "        var option_c89bef1d8b05475788d404bb906862b9 = {\n",
       "    \"animation\": true,\n",
       "    \"animationThreshold\": 2000,\n",
       "    \"animationDuration\": 1000,\n",
       "    \"animationEasing\": \"cubicOut\",\n",
       "    \"animationDelay\": 0,\n",
       "    \"animationDurationUpdate\": 300,\n",
       "    \"animationEasingUpdate\": \"cubicOut\",\n",
       "    \"animationDelayUpdate\": 0,\n",
       "    \"color\": [\n",
       "        \"#c23531\",\n",
       "        \"#2f4554\",\n",
       "        \"#61a0a8\",\n",
       "        \"#d48265\",\n",
       "        \"#749f83\",\n",
       "        \"#ca8622\",\n",
       "        \"#bda29a\",\n",
       "        \"#6e7074\",\n",
       "        \"#546570\",\n",
       "        \"#c4ccd3\",\n",
       "        \"#f05b72\",\n",
       "        \"#ef5b9c\",\n",
       "        \"#f47920\",\n",
       "        \"#905a3d\",\n",
       "        \"#fab27b\",\n",
       "        \"#2a5caa\",\n",
       "        \"#444693\",\n",
       "        \"#726930\",\n",
       "        \"#b2d235\",\n",
       "        \"#6d8346\",\n",
       "        \"#ac6767\",\n",
       "        \"#1d953f\",\n",
       "        \"#6950a1\",\n",
       "        \"#918597\"\n",
       "    ],\n",
       "    \"series\": [\n",
       "        {\n",
       "            \"type\": \"bar\",\n",
       "            \"name\": \"\\u5317\\u4e0a\\u5e7f\\u6df1\\u676d\\u7b49\\u57ce\\u5e02\\u5e73\\u5747\\u5b9e\\u4e60\\u5de5\\u8d44\",\n",
       "            \"data\": [\n",
       "                2318.0,\n",
       "                2390.0,\n",
       "                3784.0,\n",
       "                1912.0,\n",
       "                4139.0,\n",
       "                2850.0,\n",
       "                3233.0,\n",
       "                3421.0,\n",
       "                3801.0,\n",
       "                3600.0\n",
       "            ],\n",
       "            \"barCategoryGap\": \"20%\",\n",
       "            \"label\": {\n",
       "                \"show\": true,\n",
       "                \"position\": \"top\",\n",
       "                \"margin\": 8\n",
       "            },\n",
       "            \"markPoint\": {\n",
       "                \"label\": {\n",
       "                    \"show\": true,\n",
       "                    \"position\": \"inside\",\n",
       "                    \"color\": \"#fff\",\n",
       "                    \"margin\": 8\n",
       "                },\n",
       "                \"data\": [\n",
       "                    {\n",
       "                        \"name\": \"\\u6700\\u5927\\u503c\",\n",
       "                        \"coord\": [\n",
       "                            \"\\u676d\\u5dde\",\n",
       "                            4139.0\n",
       "                        ],\n",
       "                        \"value\": 4139.0\n",
       "                    }\n",
       "                ]\n",
       "            }\n",
       "        }\n",
       "    ],\n",
       "    \"legend\": [\n",
       "        {\n",
       "            \"data\": [\n",
       "                \"\\u5317\\u4e0a\\u5e7f\\u6df1\\u676d\\u7b49\\u57ce\\u5e02\\u5e73\\u5747\\u5b9e\\u4e60\\u5de5\\u8d44\"\n",
       "            ],\n",
       "            \"selected\": {\n",
       "                \"\\u5317\\u4e0a\\u5e7f\\u6df1\\u676d\\u7b49\\u57ce\\u5e02\\u5e73\\u5747\\u5b9e\\u4e60\\u5de5\\u8d44\": true\n",
       "            }\n",
       "        }\n",
       "    ],\n",
       "    \"tooltip\": {\n",
       "        \"show\": true,\n",
       "        \"trigger\": \"item\",\n",
       "        \"triggerOn\": \"mousemove|click\",\n",
       "        \"axisPointer\": {\n",
       "            \"type\": \"line\"\n",
       "        },\n",
       "        \"textStyle\": {\n",
       "            \"fontSize\": 14\n",
       "        },\n",
       "        \"borderWidth\": 0\n",
       "    },\n",
       "    \"xAxis\": [\n",
       "        {\n",
       "            \"show\": true,\n",
       "            \"scale\": false,\n",
       "            \"nameLocation\": \"end\",\n",
       "            \"nameGap\": 15,\n",
       "            \"gridIndex\": 0,\n",
       "            \"inverse\": false,\n",
       "            \"offset\": 0,\n",
       "            \"splitNumber\": 5,\n",
       "            \"minInterval\": 0,\n",
       "            \"splitLine\": {\n",
       "                \"show\": false,\n",
       "                \"lineStyle\": {\n",
       "                    \"width\": 1,\n",
       "                    \"opacity\": 1,\n",
       "                    \"curveness\": 0,\n",
       "                    \"type\": \"solid\"\n",
       "                }\n",
       "            },\n",
       "            \"data\": [\n",
       "                \"\\u897f\\u5b89\",\n",
       "                \"\\u73e0\\u6d77\",\n",
       "                \"\\u6df1\\u5733\",\n",
       "                \"\\u6b66\\u6c49\",\n",
       "                \"\\u676d\\u5dde\",\n",
       "                \"\\u6210\\u90fd\",\n",
       "                \"\\u5e7f\\u5dde\",\n",
       "                \"\\u5357\\u4eac\",\n",
       "                \"\\u5317\\u4eac\",\n",
       "                \"\\u4e0a\\u6d77\"\n",
       "            ]\n",
       "        }\n",
       "    ],\n",
       "    \"yAxis\": [\n",
       "        {\n",
       "            \"show\": true,\n",
       "            \"scale\": false,\n",
       "            \"nameLocation\": \"end\",\n",
       "            \"nameGap\": 15,\n",
       "            \"gridIndex\": 0,\n",
       "            \"inverse\": false,\n",
       "            \"offset\": 0,\n",
       "            \"splitNumber\": 5,\n",
       "            \"minInterval\": 0,\n",
       "            \"splitLine\": {\n",
       "                \"show\": false,\n",
       "                \"lineStyle\": {\n",
       "                    \"width\": 1,\n",
       "                    \"opacity\": 1,\n",
       "                    \"curveness\": 0,\n",
       "                    \"type\": \"solid\"\n",
       "                }\n",
       "            }\n",
       "        }\n",
       "    ]\n",
       "};\n",
       "        chart_c89bef1d8b05475788d404bb906862b9.setOption(option_c89bef1d8b05475788d404bb906862b9);\n",
       "    });\n",
       "</script>\n"
      ],
      "text/plain": [
       "<pyecharts.render.display.HTML at 0x1dd59276820>"
      ]
     },
     "execution_count": 64,
     "metadata": {},
     "output_type": "execute_result"
    }
   ],
   "source": [
    "bar = (\n",
    "    Bar()\n",
    "    .add_xaxis(list(top10_city.index))\n",
    "    .add_yaxis('北上广深杭等城市平均实习工资',list(np.round(top10_city.values, 0)),\n",
    "              markpoint_opts = opts.MarkPointOpts(\n",
    "              data=[opts.MarkPointItem(name='最大值',coord=[list(top10_city.index)[4], list(np.round(top10_city.values, 0))[4]],value=list(np.round(top10_city.values, 0))[4])]))\n",
    ")\n",
    "bar.render_notebook()"
   ]
  },
  {
   "cell_type": "code",
   "execution_count": 65,
   "metadata": {},
   "outputs": [
    {
     "data": {
      "text/plain": [
       "<AxesSubplot:xlabel='salary', ylabel='city'>"
      ]
     },
     "execution_count": 65,
     "metadata": {},
     "output_type": "execute_result"
    },
    {
     "name": "stderr",
     "output_type": "stream",
     "text": [
      "E:\\Program Files\\Anaconda\\lib\\site-packages\\matplotlib\\backends\\backend_agg.py:238: RuntimeWarning: Glyph 8722 missing from current font.\n",
      "  font.set_text(s, 0.0, flags=flags)\n",
      "E:\\Program Files\\Anaconda\\lib\\site-packages\\matplotlib\\backends\\backend_agg.py:201: RuntimeWarning: Glyph 8722 missing from current font.\n",
      "  font.set_text(s, 0, flags=flags)\n"
     ]
    },
    {
     "data": {
      "image/png": "[encoded data removed]",
      "text/plain": [
       "<Figure size 720x720 with 1 Axes>"
      ]
     },
     "metadata": {
      "needs_background": "light"
     },
     "output_type": "display_data"
    }
   ],
   "source": [
    "top10_city_box = data_clean.loc[data_clean['city'].isin(top10_city.index)]\n",
    "sns.violinplot(x='salary',y='city',data=top10_city_box)"
   ]
  },
  {
   "cell_type": "code",
   "execution_count": 66,
   "metadata": {},
   "outputs": [
    {
     "data": {
      "text/plain": [
       "本科    432\n",
       "硕士    265\n",
       "不限    159\n",
       "大专     12\n",
       "博士      4\n",
       "Name: job_academic, dtype: int64"
      ]
     },
     "execution_count": 66,
     "metadata": {},
     "output_type": "execute_result"
    }
   ],
   "source": [
    "job_academic = data_clean['job_academic'].value_counts()\n",
    "job_academic"
   ]
  },
  {
   "cell_type": "code",
   "execution_count": 67,
   "metadata": {},
   "outputs": [
    {
     "data": {
      "text/plain": [
       "[['本科', 432], ['硕士', 265], ['不限', 159], ['大专', 12], ['博士', 4]]"
      ]
     },
     "execution_count": 67,
     "metadata": {},
     "output_type": "execute_result"
    }
   ],
   "source": [
    "[list(z) for z in zip(list(job_academic.index),list(job_academic.values))]"
   ]
  },
  {
   "cell_type": "code",
   "execution_count": 68,
   "metadata": {},
   "outputs": [],
   "source": [
    "from pyecharts.charts import Pie"
   ]
  },
  {
   "cell_type": "code",
   "execution_count": 69,
   "metadata": {},
   "outputs": [],
   "source": [
    "# pie = (\n",
    "#     Pie()\n",
    "#     .add(\"\",[list(z) for z in zip(list(job_academic.index),list(job_academic.values))])\n",
    "#     .set_global_opts(title_opts=opts.TitleOpts(title='学历要求'))\n",
    "#     .set_series_opts(label_opts=opts.LabelOpts(formatter='{b}:{c}'))\n",
    "# )\n",
    "# pie.render_notebook()"
   ]
  },
  {
   "cell_type": "code",
   "execution_count": 70,
   "metadata": {},
   "outputs": [
    {
     "data": {
      "text/plain": [
       "([<matplotlib.patches.Wedge at 0x1dd598ef700>,\n",
       "  <matplotlib.patches.Wedge at 0x1dd598e38b0>,\n",
       "  <matplotlib.patches.Wedge at 0x1dd598f2310>,\n",
       "  <matplotlib.patches.Wedge at 0x1dd598f2700>,\n",
       "  <matplotlib.patches.Wedge at 0x1dd598f4040>],\n",
       " [Text(0.015851481831154847, 1.0998857806716826, '本科'),\n",
       "  Text(-0.6612225407949996, -0.8790817661313453, '硕士'),\n",
       "  Text(0.8496826561445616, -0.6985981562007751, '不限'),\n",
       "  Text(1.0971456896493563, -0.07919176525269761, '大专'),\n",
       "  Text(1.099885780532546, -0.015851491485412077, '博士')],\n",
       " [Text(0.008646262816993551, 0.5999376985481905, '49.5%'),\n",
       "  Text(-0.36066684043363617, -0.4794991451625519, '30.4%'),\n",
       "  Text(0.46346326698794266, -0.38105353974587736, '18.2%'),\n",
       "  Text(0.5984431034451034, -0.04319550831965324, '1.4%'),\n",
       "  Text(0.5999376984722977, -0.008646268082952041, '0.5%')])"
      ]
     },
     "execution_count": 70,
     "metadata": {},
     "output_type": "execute_result"
    },
    {
     "data": {
      "image/png": "[encoded data removed]",
      "text/plain": [
       "<Figure size 720x720 with 1 Axes>"
      ]
     },
     "metadata": {},
     "output_type": "display_data"
    }
   ],
   "source": [
    "plt.pie(job_academic,labels=['本科','硕士','不限','大专','博士'],autopct='%1.1f%%')"
   ]
  },
  {
   "cell_type": "code",
   "execution_count": 71,
   "metadata": {},
   "outputs": [
    {
     "data": {
      "text/plain": [
       "<AxesSubplot:xlabel='job_academic', ylabel='salary'>"
      ]
     },
     "execution_count": 71,
     "metadata": {},
     "output_type": "execute_result"
    },
    {
     "data": {
      "image/png": "[encoded data removed]",
      "text/plain": [
       "<Figure size 720x720 with 1 Axes>"
      ]
     },
     "metadata": {
      "needs_background": "light"
     },
     "output_type": "display_data"
    }
   ],
   "source": [
    "sns.boxplot(x='job_academic',y='salary',data=data_clean)"
   ]
  },
  {
   "cell_type": "code",
   "execution_count": 72,
   "metadata": {},
   "outputs": [
    {
     "data": {
      "text/plain": [
       "685    计算机/互联网\n",
       "85        企业服务\n",
       "301    计算机/互联网\n",
       "440    计算机/互联网\n",
       "391      移动互联网\n",
       "Name: industry, dtype: object"
      ]
     },
     "execution_count": 72,
     "metadata": {},
     "output_type": "execute_result"
    }
   ],
   "source": [
    "data_clean['industry'].sample(5)"
   ]
  },
  {
   "cell_type": "code",
   "execution_count": 73,
   "metadata": {},
   "outputs": [
    {
     "data": {
      "text/html": [
       "<div>\n",
       "<style scoped>\n",
       "    .dataframe tbody tr th:only-of-type {\n",
       "        vertical-align: middle;\n",
       "    }\n",
       "\n",
       "    .dataframe tbody tr th {\n",
       "        vertical-align: top;\n",
       "    }\n",
       "\n",
       "    .dataframe thead th {\n",
       "        text-align: right;\n",
       "    }\n",
       "</style>\n",
       "<table border=\"1\" class=\"dataframe\">\n",
       "  <thead>\n",
       "    <tr style=\"text-align: right;\">\n",
       "      <th></th>\n",
       "      <th>0</th>\n",
       "      <th>1</th>\n",
       "      <th>2</th>\n",
       "      <th>3</th>\n",
       "      <th>4</th>\n",
       "    </tr>\n",
       "  </thead>\n",
       "  <tbody>\n",
       "    <tr>\n",
       "      <th>0</th>\n",
       "      <td>计算机</td>\n",
       "      <td>互联网</td>\n",
       "      <td>None</td>\n",
       "      <td>None</td>\n",
       "      <td>None</td>\n",
       "    </tr>\n",
       "    <tr>\n",
       "      <th>1</th>\n",
       "      <td>计算机</td>\n",
       "      <td>互联网</td>\n",
       "      <td>None</td>\n",
       "      <td>None</td>\n",
       "      <td>None</td>\n",
       "    </tr>\n",
       "    <tr>\n",
       "      <th>2</th>\n",
       "      <td>互联网</td>\n",
       "      <td>None</td>\n",
       "      <td>None</td>\n",
       "      <td>None</td>\n",
       "      <td>None</td>\n",
       "    </tr>\n",
       "    <tr>\n",
       "      <th>3</th>\n",
       "      <td>互联网</td>\n",
       "      <td>None</td>\n",
       "      <td>None</td>\n",
       "      <td>None</td>\n",
       "      <td>None</td>\n",
       "    </tr>\n",
       "    <tr>\n",
       "      <th>4</th>\n",
       "      <td>互联网</td>\n",
       "      <td>None</td>\n",
       "      <td>None</td>\n",
       "      <td>None</td>\n",
       "      <td>None</td>\n",
       "    </tr>\n",
       "    <tr>\n",
       "      <th>...</th>\n",
       "      <td>...</td>\n",
       "      <td>...</td>\n",
       "      <td>...</td>\n",
       "      <td>...</td>\n",
       "      <td>...</td>\n",
       "    </tr>\n",
       "    <tr>\n",
       "      <th>972</th>\n",
       "      <td>无</td>\n",
       "      <td>None</td>\n",
       "      <td>None</td>\n",
       "      <td>None</td>\n",
       "      <td>None</td>\n",
       "    </tr>\n",
       "    <tr>\n",
       "      <th>973</th>\n",
       "      <td>计算机</td>\n",
       "      <td>互联网</td>\n",
       "      <td>None</td>\n",
       "      <td>None</td>\n",
       "      <td>None</td>\n",
       "    </tr>\n",
       "    <tr>\n",
       "      <th>974</th>\n",
       "      <td>互联网</td>\n",
       "      <td>None</td>\n",
       "      <td>None</td>\n",
       "      <td>None</td>\n",
       "      <td>None</td>\n",
       "    </tr>\n",
       "    <tr>\n",
       "      <th>976</th>\n",
       "      <td>无</td>\n",
       "      <td>None</td>\n",
       "      <td>None</td>\n",
       "      <td>None</td>\n",
       "      <td>None</td>\n",
       "    </tr>\n",
       "    <tr>\n",
       "      <th>977</th>\n",
       "      <td>计算机</td>\n",
       "      <td>互联网</td>\n",
       "      <td>None</td>\n",
       "      <td>None</td>\n",
       "      <td>None</td>\n",
       "    </tr>\n",
       "  </tbody>\n",
       "</table>\n",
       "<p>872 rows × 5 columns</p>\n",
       "</div>"
      ],
      "text/plain": [
       "       0     1     2     3     4\n",
       "0    计算机   互联网  None  None  None\n",
       "1    计算机   互联网  None  None  None\n",
       "2    互联网  None  None  None  None\n",
       "3    互联网  None  None  None  None\n",
       "4    互联网  None  None  None  None\n",
       "..   ...   ...   ...   ...   ...\n",
       "972    无  None  None  None  None\n",
       "973  计算机   互联网  None  None  None\n",
       "974  互联网  None  None  None  None\n",
       "976    无  None  None  None  None\n",
       "977  计算机   互联网  None  None  None\n",
       "\n",
       "[872 rows x 5 columns]"
      ]
     },
     "execution_count": 73,
     "metadata": {},
     "output_type": "execute_result"
    }
   ],
   "source": [
    "industry = data_clean.industry.str.split('/|,|,',expand=True)\n",
    "industry"
   ]
  },
  {
   "cell_type": "code",
   "execution_count": 74,
   "metadata": {},
   "outputs": [],
   "source": [
    "industry_top15 = industry.apply(pd.value_counts).sum(axis=1).nlargest(15)"
   ]
  },
  {
   "cell_type": "code",
   "execution_count": 75,
   "metadata": {},
   "outputs": [
    {
     "data": {
      "text/html": [
       "<script>\n",
       "    require.config({\n",
       "        paths: {\n",
       "            'echarts':'https://assets.pyecharts.org/assets/echarts.min'\n",
       "        }\n",
       "    });\n",
       "</script>\n",
       "\n",
       "    <div id=\"c7c148c2726446a4956046f2250460c2\" style=\"width:900px; height:500px;\"></div>\n",
       "\n",
       "\n",
       "<script>\n",
       "    require(['echarts'], function(echarts) {\n",
       "        var chart_c7c148c2726446a4956046f2250460c2 = echarts.init(\n",
       "            document.getElementById('c7c148c2726446a4956046f2250460c2'), 'white', {renderer: 'canvas'});\n",
       "        var option_c7c148c2726446a4956046f2250460c2 = {\n",
       "    \"animation\": true,\n",
       "    \"animationThreshold\": 2000,\n",
       "    \"animationDuration\": 1000,\n",
       "    \"animationEasing\": \"cubicOut\",\n",
       "    \"animationDelay\": 0,\n",
       "    \"animationDurationUpdate\": 300,\n",
       "    \"animationEasingUpdate\": \"cubicOut\",\n",
       "    \"animationDelayUpdate\": 0,\n",
       "    \"color\": [\n",
       "        \"#c23531\",\n",
       "        \"#2f4554\",\n",
       "        \"#61a0a8\",\n",
       "        \"#d48265\",\n",
       "        \"#749f83\",\n",
       "        \"#ca8622\",\n",
       "        \"#bda29a\",\n",
       "        \"#6e7074\",\n",
       "        \"#546570\",\n",
       "        \"#c4ccd3\",\n",
       "        \"#f05b72\",\n",
       "        \"#ef5b9c\",\n",
       "        \"#f47920\",\n",
       "        \"#905a3d\",\n",
       "        \"#fab27b\",\n",
       "        \"#2a5caa\",\n",
       "        \"#444693\",\n",
       "        \"#726930\",\n",
       "        \"#b2d235\",\n",
       "        \"#6d8346\",\n",
       "        \"#ac6767\",\n",
       "        \"#1d953f\",\n",
       "        \"#6950a1\",\n",
       "        \"#918597\"\n",
       "    ],\n",
       "    \"series\": [\n",
       "        {\n",
       "            \"type\": \"bar\",\n",
       "            \"name\": \"\\u884c\\u4e1a\\u4e0e\\u804c\\u4f4d\\u6570\\u91cf\",\n",
       "            \"data\": [\n",
       "                666.0,\n",
       "                500.0,\n",
       "                63.0,\n",
       "                43.0,\n",
       "                41.0,\n",
       "                22.0,\n",
       "                21.0,\n",
       "                19.0,\n",
       "                18.0,\n",
       "                16.0,\n",
       "                11.0,\n",
       "                11.0,\n",
       "                11.0,\n",
       "                10.0,\n",
       "                7.0\n",
       "            ],\n",
       "            \"barCategoryGap\": \"20%\",\n",
       "            \"label\": {\n",
       "                \"show\": false,\n",
       "                \"position\": \"top\",\n",
       "                \"margin\": 8\n",
       "            },\n",
       "            \"markPoint\": {\n",
       "                \"label\": {\n",
       "                    \"show\": true,\n",
       "                    \"position\": \"inside\",\n",
       "                    \"color\": \"#fff\",\n",
       "                    \"margin\": 8\n",
       "                },\n",
       "                \"data\": [\n",
       "                    {\n",
       "                        \"name\": \"\\u6700\\u5927\\u503c\",\n",
       "                        \"type\": \"max\"\n",
       "                    },\n",
       "                    {\n",
       "                        \"name\": \"\\u6700\\u5c0f\\u503c\",\n",
       "                        \"type\": \"min\"\n",
       "                    },\n",
       "                    {\n",
       "                        \"name\": \"\\u5e73\\u5747\\u503c\",\n",
       "                        \"type\": \"averge\"\n",
       "                    }\n",
       "                ]\n",
       "            },\n",
       "            \"rippleEffect\": {\n",
       "                \"show\": true,\n",
       "                \"brushType\": \"stroke\",\n",
       "                \"scale\": 2.5,\n",
       "                \"period\": 4\n",
       "            }\n",
       "        }\n",
       "    ],\n",
       "    \"legend\": [\n",
       "        {\n",
       "            \"data\": [\n",
       "                \"\\u884c\\u4e1a\\u4e0e\\u804c\\u4f4d\\u6570\\u91cf\"\n",
       "            ],\n",
       "            \"selected\": {\n",
       "                \"\\u884c\\u4e1a\\u4e0e\\u804c\\u4f4d\\u6570\\u91cf\": true\n",
       "            }\n",
       "        }\n",
       "    ],\n",
       "    \"tooltip\": {\n",
       "        \"show\": true,\n",
       "        \"trigger\": \"item\",\n",
       "        \"triggerOn\": \"mousemove|click\",\n",
       "        \"axisPointer\": {\n",
       "            \"type\": \"line\"\n",
       "        },\n",
       "        \"textStyle\": {\n",
       "            \"fontSize\": 14\n",
       "        },\n",
       "        \"borderWidth\": 0\n",
       "    },\n",
       "    \"xAxis\": [\n",
       "        {\n",
       "            \"show\": true,\n",
       "            \"scale\": false,\n",
       "            \"nameLocation\": \"end\",\n",
       "            \"nameGap\": 15,\n",
       "            \"gridIndex\": 0,\n",
       "            \"inverse\": false,\n",
       "            \"offset\": 0,\n",
       "            \"splitNumber\": 5,\n",
       "            \"minInterval\": 0,\n",
       "            \"splitLine\": {\n",
       "                \"show\": false,\n",
       "                \"lineStyle\": {\n",
       "                    \"width\": 1,\n",
       "                    \"opacity\": 1,\n",
       "                    \"curveness\": 0,\n",
       "                    \"type\": \"solid\"\n",
       "                }\n",
       "            },\n",
       "            \"data\": [\n",
       "                \"\\u4e92\\u8054\\u7f51\",\n",
       "                \"\\u8ba1\\u7b97\\u673a\",\n",
       "                \"\\u91d1\\u878d\",\n",
       "                \"\\u901a\\u4fe1\",\n",
       "                \"\\u7535\\u5b50\",\n",
       "                \"\\u5176\\u4ed6\",\n",
       "                \"\\u4f01\\u4e1a\\u670d\\u52a1\",\n",
       "                \"\\u4fdd\\u9669\",\n",
       "                \"\\u4eba\\u5de5\\u667a\\u80fd\",\n",
       "                \"\\u65e0\",\n",
       "                \"\\u673a\\u68b0\\u5236\\u9020\",\n",
       "                \"\\u79fb\\u52a8\\u4e92\\u8054\\u7f51\",\n",
       "                \"\\u8f6f\\u4ef6\",\n",
       "                \"\\u5236\\u9020\",\n",
       "                \"\\u533b\\u836f\"\n",
       "            ]\n",
       "        }\n",
       "    ],\n",
       "    \"yAxis\": [\n",
       "        {\n",
       "            \"show\": true,\n",
       "            \"scale\": false,\n",
       "            \"nameLocation\": \"end\",\n",
       "            \"nameGap\": 15,\n",
       "            \"gridIndex\": 0,\n",
       "            \"inverse\": false,\n",
       "            \"offset\": 0,\n",
       "            \"splitNumber\": 5,\n",
       "            \"minInterval\": 0,\n",
       "            \"splitLine\": {\n",
       "                \"show\": false,\n",
       "                \"lineStyle\": {\n",
       "                    \"width\": 1,\n",
       "                    \"opacity\": 1,\n",
       "                    \"curveness\": 0,\n",
       "                    \"type\": \"solid\"\n",
       "                }\n",
       "            }\n",
       "        }\n",
       "    ]\n",
       "};\n",
       "        chart_c7c148c2726446a4956046f2250460c2.setOption(option_c7c148c2726446a4956046f2250460c2);\n",
       "    });\n",
       "</script>\n"
      ],
      "text/plain": [
       "<pyecharts.render.display.HTML at 0x1dd598adb80>"
      ]
     },
     "execution_count": 75,
     "metadata": {},
     "output_type": "execute_result"
    }
   ],
   "source": [
    "bar = (\n",
    "    Bar()\n",
    "    .add_xaxis(list(industry_top15.index))\n",
    "    .add_yaxis('行业与职位数量',list(industry_top15.values))\n",
    "    .set_series_opts(\n",
    "        label_opts=opts.LabelOpts(is_show=False),\n",
    "        markpoint_opts=opts.MarkPointOpts(\n",
    "        data=[\n",
    "            opts.MarkPointItem(type_='max',name='最大值'),\n",
    "            opts.MarkPointItem(type_='min',name='最小值'),\n",
    "            opts.MarkPointItem(type_='averge',name='平均值'),\n",
    "        ]\n",
    "        ),\n",
    "    )\n",
    ")\n",
    "bar.render_notebook()"
   ]
  },
  {
   "cell_type": "code",
   "execution_count": 76,
   "metadata": {},
   "outputs": [
    {
     "data": {
      "text/html": [
       "<div>\n",
       "<style scoped>\n",
       "    .dataframe tbody tr th:only-of-type {\n",
       "        vertical-align: middle;\n",
       "    }\n",
       "\n",
       "    .dataframe tbody tr th {\n",
       "        vertical-align: top;\n",
       "    }\n",
       "\n",
       "    .dataframe thead th {\n",
       "        text-align: right;\n",
       "    }\n",
       "</style>\n",
       "<table border=\"1\" class=\"dataframe\">\n",
       "  <thead>\n",
       "    <tr style=\"text-align: right;\">\n",
       "      <th></th>\n",
       "      <th>count</th>\n",
       "      <th>mean</th>\n",
       "    </tr>\n",
       "    <tr>\n",
       "      <th>com_name</th>\n",
       "      <th></th>\n",
       "      <th></th>\n",
       "    </tr>\n",
       "  </thead>\n",
       "  <tbody>\n",
       "    <tr>\n",
       "      <th>百度</th>\n",
       "      <td>21</td>\n",
       "      <td>3256.190476</td>\n",
       "    </tr>\n",
       "    <tr>\n",
       "      <th>滴滴出行</th>\n",
       "      <td>19</td>\n",
       "      <td>3614.736842</td>\n",
       "    </tr>\n",
       "    <tr>\n",
       "      <th>中科龙智</th>\n",
       "      <td>13</td>\n",
       "      <td>3000.000000</td>\n",
       "    </tr>\n",
       "    <tr>\n",
       "      <th>今日头条</th>\n",
       "      <td>12</td>\n",
       "      <td>6400.500000</td>\n",
       "    </tr>\n",
       "    <tr>\n",
       "      <th>爱奇艺</th>\n",
       "      <td>12</td>\n",
       "      <td>3983.166667</td>\n",
       "    </tr>\n",
       "    <tr>\n",
       "      <th>京东金融</th>\n",
       "      <td>10</td>\n",
       "      <td>4845.000000</td>\n",
       "    </tr>\n",
       "    <tr>\n",
       "      <th>非白三维</th>\n",
       "      <td>10</td>\n",
       "      <td>5150.000000</td>\n",
       "    </tr>\n",
       "    <tr>\n",
       "      <th>作业帮</th>\n",
       "      <td>9</td>\n",
       "      <td>3444.444444</td>\n",
       "    </tr>\n",
       "    <tr>\n",
       "      <th>华院数据</th>\n",
       "      <td>9</td>\n",
       "      <td>3455.555556</td>\n",
       "    </tr>\n",
       "    <tr>\n",
       "      <th>恒润科技</th>\n",
       "      <td>9</td>\n",
       "      <td>1858.666667</td>\n",
       "    </tr>\n",
       "    <tr>\n",
       "      <th>三星电子中国研究院</th>\n",
       "      <td>8</td>\n",
       "      <td>2800.000000</td>\n",
       "    </tr>\n",
       "    <tr>\n",
       "      <th>新浪微博</th>\n",
       "      <td>7</td>\n",
       "      <td>2626.000000</td>\n",
       "    </tr>\n",
       "    <tr>\n",
       "      <th>驭势科技</th>\n",
       "      <td>7</td>\n",
       "      <td>3582.857143</td>\n",
       "    </tr>\n",
       "    <tr>\n",
       "      <th>光珀</th>\n",
       "      <td>6</td>\n",
       "      <td>4533.333333</td>\n",
       "    </tr>\n",
       "    <tr>\n",
       "      <th>美团点评</th>\n",
       "      <td>6</td>\n",
       "      <td>4114.666667</td>\n",
       "    </tr>\n",
       "  </tbody>\n",
       "</table>\n",
       "</div>"
      ],
      "text/plain": [
       "           count         mean\n",
       "com_name                     \n",
       "百度            21  3256.190476\n",
       "滴滴出行          19  3614.736842\n",
       "中科龙智          13  3000.000000\n",
       "今日头条          12  6400.500000\n",
       "爱奇艺           12  3983.166667\n",
       "京东金融          10  4845.000000\n",
       "非白三维          10  5150.000000\n",
       "作业帮            9  3444.444444\n",
       "华院数据           9  3455.555556\n",
       "恒润科技           9  1858.666667\n",
       "三星电子中国研究院      8  2800.000000\n",
       "新浪微博           7  2626.000000\n",
       "驭势科技           7  3582.857143\n",
       "光珀             6  4533.333333\n",
       "美团点评           6  4114.666667"
      ]
     },
     "execution_count": 76,
     "metadata": {},
     "output_type": "execute_result"
    }
   ],
   "source": [
    "data_clean.groupby('com_name').salary.agg(['count','mean']).sort_values(by='count',ascending=False)[:15]"
   ]
  },
  {
   "cell_type": "code",
   "execution_count": 77,
   "metadata": {},
   "outputs": [
    {
     "data": {
      "text/plain": [
       "小型企业    351\n",
       "中型企业    282\n",
       "大型企业    233\n",
       "无         6\n",
       "Name: num_employee, dtype: int64"
      ]
     },
     "execution_count": 77,
     "metadata": {},
     "output_type": "execute_result"
    }
   ],
   "source": [
    "data_clean['num_employee'].value_counts()"
   ]
  },
  {
   "cell_type": "code",
   "execution_count": 78,
   "metadata": {},
   "outputs": [
    {
     "data": {
      "text/plain": [
       "num_employee\n",
       "中型企业    3641.035461\n",
       "大型企业    3504.420601\n",
       "小型企业    3769.595442\n",
       "无       3818.000000\n",
       "Name: salary, dtype: float64"
      ]
     },
     "execution_count": 78,
     "metadata": {},
     "output_type": "execute_result"
    }
   ],
   "source": [
    "data_clean.groupby('num_employee')['salary'].mean()"
   ]
  },
  {
   "cell_type": "code",
   "execution_count": 79,
   "metadata": {},
   "outputs": [
    {
     "data": {
      "text/plain": [
       "3     288\n",
       "6     190\n",
       "4     112\n",
       "7      71\n",
       "5      66\n",
       "8      35\n",
       "10     34\n",
       "13     20\n",
       "12     16\n",
       "9      11\n",
       "11      8\n",
       "15      6\n",
       "16      4\n",
       "14      4\n",
       "2       3\n",
       "18      2\n",
       "17      1\n",
       "1       1\n",
       "Name: time_span, dtype: int64"
      ]
     },
     "execution_count": 79,
     "metadata": {},
     "output_type": "execute_result"
    }
   ],
   "source": [
    "data_clean['time_span'].value_counts()"
   ]
  },
  {
   "cell_type": "code",
   "execution_count": 80,
   "metadata": {},
   "outputs": [
    {
     "data": {
      "text/plain": [
       "5.513761467889908"
      ]
     },
     "execution_count": 80,
     "metadata": {},
     "output_type": "execute_result"
    }
   ],
   "source": [
    "data_clean['time_span'].mean()"
   ]
  },
  {
   "cell_type": "code",
   "execution_count": 85,
   "metadata": {},
   "outputs": [],
   "source": [
    "est_date = data_clean.drop_duplicates(subset='com_name')"
   ]
  },
  {
   "cell_type": "code",
   "execution_count": 87,
   "metadata": {},
   "outputs": [
    {
     "data": {
      "text/plain": [
       "0     2004-12-07\n",
       "1     1995-09-22\n",
       "2     2002-10-15\n",
       "3     2000-01-18\n",
       "5            NaT\n",
       "         ...    \n",
       "970   1992-12-24\n",
       "971   1994-01-19\n",
       "973   2005-08-03\n",
       "974   2008-08-07\n",
       "977   1998-01-24\n",
       "Name: est_date, Length: 459, dtype: datetime64[ns]"
      ]
     },
     "execution_count": 87,
     "metadata": {},
     "output_type": "execute_result"
    }
   ],
   "source": [
    "est_date['est_date']"
   ]
  },
  {
   "cell_type": "code",
   "execution_count": 88,
   "metadata": {},
   "outputs": [],
   "source": [
    "import warnings\n",
    "warnings.filterwarnings('ignore')\n",
    "est_date['est_year'] = pd.DatetimeIndex(est_date['est_date']).year\n",
    "num_com_by_year = est_date.groupby('est_year')['com_name'].count()"
   ]
  },
  {
   "cell_type": "code",
   "execution_count": 89,
   "metadata": {},
   "outputs": [],
   "source": [
    "from pyecharts.charts import Line"
   ]
  },
  {
   "cell_type": "code",
   "execution_count": 105,
   "metadata": {},
   "outputs": [],
   "source": [
    "# line = (\n",
    "#     Line()\n",
    "#     .add_xaxis(list(num_com_by_year.index))\n",
    "#     .add_yaxis(\n",
    "#         '',\n",
    "#         list(num_com_by_year.values),\n",
    "#         markpoint_opts=opts.MarkPointOpts(data=[\n",
    "#             opts.MarkPointItem(type_='max',name='最大值'),\n",
    "#             opts.MarkPointItem(type_='averge',name='平均值'),])\n",
    "#         )\n",
    "#     .set_global_opts(title_opts=opts.TitleOpts(title='每年新成立的公司数量变化')\n",
    "#         )\n",
    "# )\n",
    "# line.render_notebook()"
   ]
  },
  {
   "cell_type": "code",
   "execution_count": 106,
   "metadata": {},
   "outputs": [],
   "source": [
    "scale_VS_year = est_date.groupby(['num_employee', 'est_year'])['com_name'].count()\n",
    "scale_VS_year_s = scale_VS_year['小型企业'].reindex(num_com_by_year.index,fill_value=0)\n",
    "scale_VS_year_m = scale_VS_year['中型企业'].reindex(num_com_by_year.index,fill_value=0)\n",
    "scale_VS_year_l = scale_VS_year['大型企业'].reindex(num_com_by_year.index,fill_value=0)"
   ]
  },
  {
   "cell_type": "code",
   "execution_count": 108,
   "metadata": {},
   "outputs": [
    {
     "data": {
      "text/plain": [
       "array(['腾讯'], dtype=object)"
      ]
     },
     "execution_count": 108,
     "metadata": {},
     "output_type": "execute_result"
    }
   ],
   "source": [
    "E_data = data_clean.loc[(data_clean['city'] == '深圳') & \n",
    "               (data_clean['job_academic'] != '博士') & \n",
    "               (data_clean['time_span'].isin([1,2,3])) & \n",
    "               (data_clean['salary'] > 3784) & \n",
    "               (data_clean['released_time'] == 'newest'), :]\n",
    "E_data['com_name'].unique()"
   ]
  },
  {
   "cell_type": "code",
   "execution_count": 110,
   "metadata": {},
   "outputs": [
    {
     "data": {
      "text/plain": [
       "Int64Index([40, 41, 43], dtype='int64')"
      ]
     },
     "execution_count": 110,
     "metadata": {},
     "output_type": "execute_result"
    }
   ],
   "source": [
    "E_data.index"
   ]
  },
  {
   "cell_type": "code",
   "execution_count": 111,
   "metadata": {},
   "outputs": [
    {
     "data": {
      "text/html": [
       "<div>\n",
       "<style scoped>\n",
       "    .dataframe tbody tr th:only-of-type {\n",
       "        vertical-align: middle;\n",
       "    }\n",
       "\n",
       "    .dataframe tbody tr th {\n",
       "        vertical-align: top;\n",
       "    }\n",
       "\n",
       "    .dataframe thead th {\n",
       "        text-align: right;\n",
       "    }\n",
       "</style>\n",
       "<table border=\"1\" class=\"dataframe\">\n",
       "  <thead>\n",
       "    <tr style=\"text-align: right;\">\n",
       "      <th></th>\n",
       "      <th>job_title</th>\n",
       "      <th>job_links</th>\n",
       "    </tr>\n",
       "  </thead>\n",
       "  <tbody>\n",
       "    <tr>\n",
       "      <th>40</th>\n",
       "      <td>【2019届】数据挖掘机器学习算法工程师</td>\n",
       "      <td>https://www.shixiseng.com/intern/inn_btgg1xncafqz</td>\n",
       "    </tr>\n",
       "    <tr>\n",
       "      <th>41</th>\n",
       "      <td>【2019届】数据挖掘机器学习算法工程师</td>\n",
       "      <td>https://www.shixiseng.com/intern/inn_ybmp6yecb0ar</td>\n",
       "    </tr>\n",
       "    <tr>\n",
       "      <th>43</th>\n",
       "      <td>【2019届】大数据挖掘算法工程师</td>\n",
       "      <td>https://www.shixiseng.com/intern/inn_v29ipnaojqiw</td>\n",
       "    </tr>\n",
       "  </tbody>\n",
       "</table>\n",
       "</div>"
      ],
      "text/plain": [
       "               job_title                                          job_links\n",
       "40  【2019届】数据挖掘机器学习算法工程师  https://www.shixiseng.com/intern/inn_btgg1xncafqz\n",
       "41  【2019届】数据挖掘机器学习算法工程师  https://www.shixiseng.com/intern/inn_ybmp6yecb0ar\n",
       "43     【2019届】大数据挖掘算法工程师  https://www.shixiseng.com/intern/inn_v29ipnaojqiw"
      ]
     },
     "execution_count": 111,
     "metadata": {},
     "output_type": "execute_result"
    }
   ],
   "source": [
    "data.loc[E_data.index, ['job_title', 'job_links']]"
   ]
  },
  {
   "cell_type": "code",
   "execution_count": null,
   "metadata": {},
   "outputs": [],
   "source": []
  }
 ],
 "metadata": {
  "kernelspec": {
   "display_name": "Python 3",
   "language": "python",
   "name": "python3"
  },
  "language_info": {
   "codemirror_mode": {
    "name": "ipython",
    "version": 3
   },
   "file_extension": ".py",
   "mimetype": "text/x-python",
   "name": "python",
   "nbconvert_exporter": "python",
   "pygments_lexer": "ipython3",
   "version": "3.8.5"
  }
 },
 "nbformat": 4,
 "nbformat_minor": 4
}
