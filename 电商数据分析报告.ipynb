{
 "cells": [
  {
   "cell_type": "code",
   "execution_count": 2,
   "metadata": {},
   "outputs": [
    {
     "name": "stdout",
     "output_type": "stream",
     "text": [
      "Requirement already satisfied: matplotlib==3.3.2 in e:\\program files\\anaconda\\lib\\site-packages (3.3.2)\n",
      "Requirement already satisfied: pillow>=6.2.0 in e:\\program files\\anaconda\\lib\\site-packages (from matplotlib==3.3.2) (8.0.1)\n",
      "Requirement already satisfied: cycler>=0.10 in e:\\program files\\anaconda\\lib\\site-packages (from matplotlib==3.3.2) (0.10.0)\n",
      "Requirement already satisfied: python-dateutil>=2.1 in e:\\program files\\anaconda\\lib\\site-packages (from matplotlib==3.3.2) (2.8.1)\n",
      "Requirement already satisfied: numpy>=1.15 in e:\\program files\\anaconda\\lib\\site-packages (from matplotlib==3.3.2) (1.19.2)\n",
      "Requirement already satisfied: certifi>=2020.06.20 in e:\\program files\\anaconda\\lib\\site-packages (from matplotlib==3.3.2) (2020.6.20)\n",
      "Requirement already satisfied: pyparsing!=2.0.4,!=2.1.2,!=2.1.6,>=2.0.3 in e:\\program files\\anaconda\\lib\\site-packages (from matplotlib==3.3.2) (2.4.7)\n",
      "Requirement already satisfied: kiwisolver>=1.0.1 in e:\\program files\\anaconda\\lib\\site-packages (from matplotlib==3.3.2) (1.3.0)\n",
      "Requirement already satisfied: six in e:\\program files\\anaconda\\lib\\site-packages (from cycler>=0.10->matplotlib==3.3.2) (1.15.0)\n"
     ]
    }
   ],
   "source": [
    "!pip install matplotlib==3.3.2"
   ]
  },
  {
   "cell_type": "code",
   "execution_count": 4,
   "metadata": {},
   "outputs": [
    {
     "ename": "AttributeError",
     "evalue": "module 'matplotlib.pyplot' has no attribute 'rcParamsc'",
     "output_type": "error",
     "traceback": [
      "\u001b[1;31m---------------------------------------------------------------------------\u001b[0m",
      "\u001b[1;31mAttributeError\u001b[0m                            Traceback (most recent call last)",
      "\u001b[1;32m<ipython-input-4-b37cab1b645a>\u001b[0m in \u001b[0;36m<module>\u001b[1;34m\u001b[0m\n\u001b[0;32m      7\u001b[0m \u001b[0mget_ipython\u001b[0m\u001b[1;33m(\u001b[0m\u001b[1;33m)\u001b[0m\u001b[1;33m.\u001b[0m\u001b[0mrun_line_magic\u001b[0m\u001b[1;33m(\u001b[0m\u001b[1;34m'matplotlib'\u001b[0m\u001b[1;33m,\u001b[0m \u001b[1;34m'inline'\u001b[0m\u001b[1;33m)\u001b[0m\u001b[1;33m\u001b[0m\u001b[1;33m\u001b[0m\u001b[0m\n\u001b[0;32m      8\u001b[0m \u001b[1;31m#plt.rcParams['font.sans-serif']=['SimHei']\u001b[0m\u001b[1;33m\u001b[0m\u001b[1;33m\u001b[0m\u001b[1;33m\u001b[0m\u001b[0m\n\u001b[1;32m----> 9\u001b[1;33m \u001b[0mplt\u001b[0m\u001b[1;33m.\u001b[0m\u001b[0mrcParamsc\u001b[0m\u001b[1;33m[\u001b[0m\u001b[1;34m'axes.unicode_minus'\u001b[0m\u001b[1;33m]\u001b[0m\u001b[1;33m=\u001b[0m\u001b[1;32mFalse\u001b[0m\u001b[1;33m\u001b[0m\u001b[1;33m\u001b[0m\u001b[0m\n\u001b[0m",
      "\u001b[1;31mAttributeError\u001b[0m: module 'matplotlib.pyplot' has no attribute 'rcParamsc'"
     ]
    }
   ],
   "source": [
    "import os\n",
    "from datetime import datetime\n",
    "import numpy as np \n",
    "import pandas as pd\n",
    "import matplotlib.pyplot as plt\n",
    "import seaborn as sns\n",
    "%matplotlib inline\n",
    "#plt.rcParams['font.sans-serif']=['SimHei']\n",
    "plt.rcParamsc['axes.unicode_minus']=False"
   ]
  },
  {
   "cell_type": "code",
   "execution_count": 3,
   "metadata": {},
   "outputs": [],
   "source": [
    "df = pd.read_csv('C:/Users/Lenovo-PC/Desktop/python爬取数据/电子产品销售分析.csv')"
   ]
  },
  {
   "cell_type": "code",
   "execution_count": 5,
   "metadata": {},
   "outputs": [
    {
     "data": {
      "text/html": [
       "<div>\n",
       "<style scoped>\n",
       "    .dataframe tbody tr th:only-of-type {\n",
       "        vertical-align: middle;\n",
       "    }\n",
       "\n",
       "    .dataframe tbody tr th {\n",
       "        vertical-align: top;\n",
       "    }\n",
       "\n",
       "    .dataframe thead th {\n",
       "        text-align: right;\n",
       "    }\n",
       "</style>\n",
       "<table border=\"1\" class=\"dataframe\">\n",
       "  <thead>\n",
       "    <tr style=\"text-align: right;\">\n",
       "      <th></th>\n",
       "      <th>Unnamed: 0</th>\n",
       "      <th>event_time</th>\n",
       "      <th>order_id</th>\n",
       "      <th>product_id</th>\n",
       "      <th>category_id</th>\n",
       "      <th>category_code</th>\n",
       "      <th>brand</th>\n",
       "      <th>price</th>\n",
       "      <th>user_id</th>\n",
       "      <th>age</th>\n",
       "      <th>sex</th>\n",
       "      <th>local</th>\n",
       "    </tr>\n",
       "  </thead>\n",
       "  <tbody>\n",
       "    <tr>\n",
       "      <th>0</th>\n",
       "      <td>0</td>\n",
       "      <td>2020-04-24 11:50:39 UTC</td>\n",
       "      <td>2294359932054536986</td>\n",
       "      <td>1515966223509089906</td>\n",
       "      <td>2.268105e+18</td>\n",
       "      <td>electronics.tablet</td>\n",
       "      <td>samsung</td>\n",
       "      <td>162.01</td>\n",
       "      <td>1.515916e+18</td>\n",
       "      <td>24.0</td>\n",
       "      <td>女</td>\n",
       "      <td>海南</td>\n",
       "    </tr>\n",
       "    <tr>\n",
       "      <th>1</th>\n",
       "      <td>1</td>\n",
       "      <td>2020-04-24 11:50:39 UTC</td>\n",
       "      <td>2294359932054536986</td>\n",
       "      <td>1515966223509089906</td>\n",
       "      <td>2.268105e+18</td>\n",
       "      <td>electronics.tablet</td>\n",
       "      <td>samsung</td>\n",
       "      <td>162.01</td>\n",
       "      <td>1.515916e+18</td>\n",
       "      <td>24.0</td>\n",
       "      <td>女</td>\n",
       "      <td>海南</td>\n",
       "    </tr>\n",
       "    <tr>\n",
       "      <th>2</th>\n",
       "      <td>2</td>\n",
       "      <td>2020-04-24 14:37:43 UTC</td>\n",
       "      <td>2294444024058086220</td>\n",
       "      <td>2273948319057183658</td>\n",
       "      <td>2.268105e+18</td>\n",
       "      <td>electronics.audio.headphone</td>\n",
       "      <td>huawei</td>\n",
       "      <td>77.52</td>\n",
       "      <td>1.515916e+18</td>\n",
       "      <td>38.0</td>\n",
       "      <td>女</td>\n",
       "      <td>北京</td>\n",
       "    </tr>\n",
       "    <tr>\n",
       "      <th>3</th>\n",
       "      <td>3</td>\n",
       "      <td>2020-04-24 14:37:43 UTC</td>\n",
       "      <td>2294444024058086220</td>\n",
       "      <td>2273948319057183658</td>\n",
       "      <td>2.268105e+18</td>\n",
       "      <td>electronics.audio.headphone</td>\n",
       "      <td>huawei</td>\n",
       "      <td>77.52</td>\n",
       "      <td>1.515916e+18</td>\n",
       "      <td>38.0</td>\n",
       "      <td>女</td>\n",
       "      <td>北京</td>\n",
       "    </tr>\n",
       "    <tr>\n",
       "      <th>4</th>\n",
       "      <td>4</td>\n",
       "      <td>2020-04-24 19:16:21 UTC</td>\n",
       "      <td>2294584263154074236</td>\n",
       "      <td>2273948316817424439</td>\n",
       "      <td>2.268105e+18</td>\n",
       "      <td>NaN</td>\n",
       "      <td>karcher</td>\n",
       "      <td>217.57</td>\n",
       "      <td>1.515916e+18</td>\n",
       "      <td>32.0</td>\n",
       "      <td>女</td>\n",
       "      <td>广东</td>\n",
       "    </tr>\n",
       "  </tbody>\n",
       "</table>\n",
       "</div>"
      ],
      "text/plain": [
       "   Unnamed: 0               event_time             order_id  \\\n",
       "0           0  2020-04-24 11:50:39 UTC  2294359932054536986   \n",
       "1           1  2020-04-24 11:50:39 UTC  2294359932054536986   \n",
       "2           2  2020-04-24 14:37:43 UTC  2294444024058086220   \n",
       "3           3  2020-04-24 14:37:43 UTC  2294444024058086220   \n",
       "4           4  2020-04-24 19:16:21 UTC  2294584263154074236   \n",
       "\n",
       "            product_id   category_id                category_code    brand  \\\n",
       "0  1515966223509089906  2.268105e+18           electronics.tablet  samsung   \n",
       "1  1515966223509089906  2.268105e+18           electronics.tablet  samsung   \n",
       "2  2273948319057183658  2.268105e+18  electronics.audio.headphone   huawei   \n",
       "3  2273948319057183658  2.268105e+18  electronics.audio.headphone   huawei   \n",
       "4  2273948316817424439  2.268105e+18                          NaN  karcher   \n",
       "\n",
       "    price       user_id   age sex local  \n",
       "0  162.01  1.515916e+18  24.0   女    海南  \n",
       "1  162.01  1.515916e+18  24.0   女    海南  \n",
       "2   77.52  1.515916e+18  38.0   女    北京  \n",
       "3   77.52  1.515916e+18  38.0   女    北京  \n",
       "4  217.57  1.515916e+18  32.0   女    广东  "
      ]
     },
     "execution_count": 5,
     "metadata": {},
     "output_type": "execute_result"
    }
   ],
   "source": [
    "df.head()"
   ]
  },
  {
   "cell_type": "code",
   "execution_count": 6,
   "metadata": {},
   "outputs": [
    {
     "data": {
      "text/html": [
       "<div>\n",
       "<style scoped>\n",
       "    .dataframe tbody tr th:only-of-type {\n",
       "        vertical-align: middle;\n",
       "    }\n",
       "\n",
       "    .dataframe tbody tr th {\n",
       "        vertical-align: top;\n",
       "    }\n",
       "\n",
       "    .dataframe thead th {\n",
       "        text-align: right;\n",
       "    }\n",
       "</style>\n",
       "<table border=\"1\" class=\"dataframe\">\n",
       "  <thead>\n",
       "    <tr style=\"text-align: right;\">\n",
       "      <th></th>\n",
       "      <th>Unnamed: 0</th>\n",
       "      <th>order_id</th>\n",
       "      <th>product_id</th>\n",
       "      <th>category_id</th>\n",
       "      <th>price</th>\n",
       "      <th>user_id</th>\n",
       "      <th>age</th>\n",
       "    </tr>\n",
       "  </thead>\n",
       "  <tbody>\n",
       "    <tr>\n",
       "      <th>count</th>\n",
       "      <td>5.641690e+05</td>\n",
       "      <td>5.641690e+05</td>\n",
       "      <td>5.641690e+05</td>\n",
       "      <td>5.641690e+05</td>\n",
       "      <td>564169.000000</td>\n",
       "      <td>5.641690e+05</td>\n",
       "      <td>564169.000000</td>\n",
       "    </tr>\n",
       "    <tr>\n",
       "      <th>mean</th>\n",
       "      <td>1.792965e+06</td>\n",
       "      <td>2.370552e+18</td>\n",
       "      <td>1.695711e+18</td>\n",
       "      <td>2.272919e+18</td>\n",
       "      <td>208.269324</td>\n",
       "      <td>1.515916e+18</td>\n",
       "      <td>33.184388</td>\n",
       "    </tr>\n",
       "    <tr>\n",
       "      <th>std</th>\n",
       "      <td>7.745342e+05</td>\n",
       "      <td>2.025138e+16</td>\n",
       "      <td>3.290688e+17</td>\n",
       "      <td>2.158282e+16</td>\n",
       "      <td>304.559875</td>\n",
       "      <td>2.379056e+07</td>\n",
       "      <td>10.122088</td>\n",
       "    </tr>\n",
       "    <tr>\n",
       "      <th>min</th>\n",
       "      <td>0.000000e+00</td>\n",
       "      <td>2.294360e+18</td>\n",
       "      <td>1.515966e+18</td>\n",
       "      <td>2.268105e+18</td>\n",
       "      <td>0.000000</td>\n",
       "      <td>1.515916e+18</td>\n",
       "      <td>16.000000</td>\n",
       "    </tr>\n",
       "    <tr>\n",
       "      <th>25%</th>\n",
       "      <td>1.658965e+06</td>\n",
       "      <td>2.353294e+18</td>\n",
       "      <td>1.515966e+18</td>\n",
       "      <td>2.268105e+18</td>\n",
       "      <td>23.130000</td>\n",
       "      <td>1.515916e+18</td>\n",
       "      <td>24.000000</td>\n",
       "    </tr>\n",
       "    <tr>\n",
       "      <th>50%</th>\n",
       "      <td>1.861597e+06</td>\n",
       "      <td>2.376886e+18</td>\n",
       "      <td>1.515966e+18</td>\n",
       "      <td>2.268105e+18</td>\n",
       "      <td>87.940000</td>\n",
       "      <td>1.515916e+18</td>\n",
       "      <td>33.000000</td>\n",
       "    </tr>\n",
       "    <tr>\n",
       "      <th>75%</th>\n",
       "      <td>2.473370e+06</td>\n",
       "      <td>2.388441e+18</td>\n",
       "      <td>1.515966e+18</td>\n",
       "      <td>2.268105e+18</td>\n",
       "      <td>277.750000</td>\n",
       "      <td>1.515916e+18</td>\n",
       "      <td>42.000000</td>\n",
       "    </tr>\n",
       "    <tr>\n",
       "      <th>max</th>\n",
       "      <td>2.633520e+06</td>\n",
       "      <td>2.388441e+18</td>\n",
       "      <td>2.388434e+18</td>\n",
       "      <td>2.374499e+18</td>\n",
       "      <td>18328.680000</td>\n",
       "      <td>1.515916e+18</td>\n",
       "      <td>50.000000</td>\n",
       "    </tr>\n",
       "  </tbody>\n",
       "</table>\n",
       "</div>"
      ],
      "text/plain": [
       "         Unnamed: 0      order_id    product_id   category_id          price  \\\n",
       "count  5.641690e+05  5.641690e+05  5.641690e+05  5.641690e+05  564169.000000   \n",
       "mean   1.792965e+06  2.370552e+18  1.695711e+18  2.272919e+18     208.269324   \n",
       "std    7.745342e+05  2.025138e+16  3.290688e+17  2.158282e+16     304.559875   \n",
       "min    0.000000e+00  2.294360e+18  1.515966e+18  2.268105e+18       0.000000   \n",
       "25%    1.658965e+06  2.353294e+18  1.515966e+18  2.268105e+18      23.130000   \n",
       "50%    1.861597e+06  2.376886e+18  1.515966e+18  2.268105e+18      87.940000   \n",
       "75%    2.473370e+06  2.388441e+18  1.515966e+18  2.268105e+18     277.750000   \n",
       "max    2.633520e+06  2.388441e+18  2.388434e+18  2.374499e+18   18328.680000   \n",
       "\n",
       "            user_id            age  \n",
       "count  5.641690e+05  564169.000000  \n",
       "mean   1.515916e+18      33.184388  \n",
       "std    2.379056e+07      10.122088  \n",
       "min    1.515916e+18      16.000000  \n",
       "25%    1.515916e+18      24.000000  \n",
       "50%    1.515916e+18      33.000000  \n",
       "75%    1.515916e+18      42.000000  \n",
       "max    1.515916e+18      50.000000  "
      ]
     },
     "execution_count": 6,
     "metadata": {},
     "output_type": "execute_result"
    }
   ],
   "source": [
    "df.describe()"
   ]
  },
  {
   "cell_type": "code",
   "execution_count": 7,
   "metadata": {},
   "outputs": [],
   "source": [
    "df['event_time']=pd.to_datetime(df['event_time'].str[:19],format=\"%Y-%m-%d %H:%M:%S\")"
   ]
  },
  {
   "cell_type": "code",
   "execution_count": 8,
   "metadata": {},
   "outputs": [],
   "source": [
    "df['event_time']=pd.to_datetime(df['event_time'])"
   ]
  },
  {
   "cell_type": "code",
   "execution_count": 9,
   "metadata": {},
   "outputs": [],
   "source": [
    "df['Month']=df['event_time'].dt.month\n",
    "df['day']=df['event_time'].dt.day\n",
    "df['Dayofweek']=df['event_time'].dt.dayofweek\n",
    "df['hour']=df['event_time'].dt.hour"
   ]
  },
  {
   "cell_type": "code",
   "execution_count": 10,
   "metadata": {},
   "outputs": [
    {
     "data": {
      "text/html": [
       "<div>\n",
       "<style scoped>\n",
       "    .dataframe tbody tr th:only-of-type {\n",
       "        vertical-align: middle;\n",
       "    }\n",
       "\n",
       "    .dataframe tbody tr th {\n",
       "        vertical-align: top;\n",
       "    }\n",
       "\n",
       "    .dataframe thead th {\n",
       "        text-align: right;\n",
       "    }\n",
       "</style>\n",
       "<table border=\"1\" class=\"dataframe\">\n",
       "  <thead>\n",
       "    <tr style=\"text-align: right;\">\n",
       "      <th></th>\n",
       "      <th>Unnamed: 0</th>\n",
       "      <th>event_time</th>\n",
       "      <th>order_id</th>\n",
       "      <th>product_id</th>\n",
       "      <th>category_id</th>\n",
       "      <th>category_code</th>\n",
       "      <th>brand</th>\n",
       "      <th>price</th>\n",
       "      <th>user_id</th>\n",
       "      <th>age</th>\n",
       "      <th>sex</th>\n",
       "      <th>local</th>\n",
       "      <th>Month</th>\n",
       "      <th>day</th>\n",
       "      <th>Dayofweek</th>\n",
       "      <th>hour</th>\n",
       "    </tr>\n",
       "  </thead>\n",
       "  <tbody>\n",
       "    <tr>\n",
       "      <th>0</th>\n",
       "      <td>0</td>\n",
       "      <td>2020-04-24 11:50:39</td>\n",
       "      <td>2294359932054536986</td>\n",
       "      <td>1515966223509089906</td>\n",
       "      <td>2.268105e+18</td>\n",
       "      <td>electronics.tablet</td>\n",
       "      <td>samsung</td>\n",
       "      <td>162.01</td>\n",
       "      <td>1.515916e+18</td>\n",
       "      <td>24.0</td>\n",
       "      <td>女</td>\n",
       "      <td>海南</td>\n",
       "      <td>4</td>\n",
       "      <td>24</td>\n",
       "      <td>4</td>\n",
       "      <td>11</td>\n",
       "    </tr>\n",
       "    <tr>\n",
       "      <th>1</th>\n",
       "      <td>1</td>\n",
       "      <td>2020-04-24 11:50:39</td>\n",
       "      <td>2294359932054536986</td>\n",
       "      <td>1515966223509089906</td>\n",
       "      <td>2.268105e+18</td>\n",
       "      <td>electronics.tablet</td>\n",
       "      <td>samsung</td>\n",
       "      <td>162.01</td>\n",
       "      <td>1.515916e+18</td>\n",
       "      <td>24.0</td>\n",
       "      <td>女</td>\n",
       "      <td>海南</td>\n",
       "      <td>4</td>\n",
       "      <td>24</td>\n",
       "      <td>4</td>\n",
       "      <td>11</td>\n",
       "    </tr>\n",
       "    <tr>\n",
       "      <th>2</th>\n",
       "      <td>2</td>\n",
       "      <td>2020-04-24 14:37:43</td>\n",
       "      <td>2294444024058086220</td>\n",
       "      <td>2273948319057183658</td>\n",
       "      <td>2.268105e+18</td>\n",
       "      <td>electronics.audio.headphone</td>\n",
       "      <td>huawei</td>\n",
       "      <td>77.52</td>\n",
       "      <td>1.515916e+18</td>\n",
       "      <td>38.0</td>\n",
       "      <td>女</td>\n",
       "      <td>北京</td>\n",
       "      <td>4</td>\n",
       "      <td>24</td>\n",
       "      <td>4</td>\n",
       "      <td>14</td>\n",
       "    </tr>\n",
       "    <tr>\n",
       "      <th>3</th>\n",
       "      <td>3</td>\n",
       "      <td>2020-04-24 14:37:43</td>\n",
       "      <td>2294444024058086220</td>\n",
       "      <td>2273948319057183658</td>\n",
       "      <td>2.268105e+18</td>\n",
       "      <td>electronics.audio.headphone</td>\n",
       "      <td>huawei</td>\n",
       "      <td>77.52</td>\n",
       "      <td>1.515916e+18</td>\n",
       "      <td>38.0</td>\n",
       "      <td>女</td>\n",
       "      <td>北京</td>\n",
       "      <td>4</td>\n",
       "      <td>24</td>\n",
       "      <td>4</td>\n",
       "      <td>14</td>\n",
       "    </tr>\n",
       "    <tr>\n",
       "      <th>4</th>\n",
       "      <td>4</td>\n",
       "      <td>2020-04-24 19:16:21</td>\n",
       "      <td>2294584263154074236</td>\n",
       "      <td>2273948316817424439</td>\n",
       "      <td>2.268105e+18</td>\n",
       "      <td>NaN</td>\n",
       "      <td>karcher</td>\n",
       "      <td>217.57</td>\n",
       "      <td>1.515916e+18</td>\n",
       "      <td>32.0</td>\n",
       "      <td>女</td>\n",
       "      <td>广东</td>\n",
       "      <td>4</td>\n",
       "      <td>24</td>\n",
       "      <td>4</td>\n",
       "      <td>19</td>\n",
       "    </tr>\n",
       "  </tbody>\n",
       "</table>\n",
       "</div>"
      ],
      "text/plain": [
       "   Unnamed: 0          event_time             order_id           product_id  \\\n",
       "0           0 2020-04-24 11:50:39  2294359932054536986  1515966223509089906   \n",
       "1           1 2020-04-24 11:50:39  2294359932054536986  1515966223509089906   \n",
       "2           2 2020-04-24 14:37:43  2294444024058086220  2273948319057183658   \n",
       "3           3 2020-04-24 14:37:43  2294444024058086220  2273948319057183658   \n",
       "4           4 2020-04-24 19:16:21  2294584263154074236  2273948316817424439   \n",
       "\n",
       "    category_id                category_code    brand   price       user_id  \\\n",
       "0  2.268105e+18           electronics.tablet  samsung  162.01  1.515916e+18   \n",
       "1  2.268105e+18           electronics.tablet  samsung  162.01  1.515916e+18   \n",
       "2  2.268105e+18  electronics.audio.headphone   huawei   77.52  1.515916e+18   \n",
       "3  2.268105e+18  electronics.audio.headphone   huawei   77.52  1.515916e+18   \n",
       "4  2.268105e+18                          NaN  karcher  217.57  1.515916e+18   \n",
       "\n",
       "    age sex local  Month  day  Dayofweek  hour  \n",
       "0  24.0   女    海南      4   24          4    11  \n",
       "1  24.0   女    海南      4   24          4    11  \n",
       "2  38.0   女    北京      4   24          4    14  \n",
       "3  38.0   女    北京      4   24          4    14  \n",
       "4  32.0   女    广东      4   24          4    19  "
      ]
     },
     "execution_count": 10,
     "metadata": {},
     "output_type": "execute_result"
    }
   ],
   "source": [
    "df.head()"
   ]
  },
  {
   "cell_type": "code",
   "execution_count": 11,
   "metadata": {},
   "outputs": [
    {
     "data": {
      "text/plain": [
       "Unnamed: 0            0\n",
       "event_time            0\n",
       "order_id              0\n",
       "product_id            0\n",
       "category_id           0\n",
       "category_code    129370\n",
       "brand             27224\n",
       "price                 0\n",
       "user_id               0\n",
       "age                   0\n",
       "sex                   0\n",
       "local                 0\n",
       "Month                 0\n",
       "day                   0\n",
       "Dayofweek             0\n",
       "hour                  0\n",
       "dtype: int64"
      ]
     },
     "execution_count": 11,
     "metadata": {},
     "output_type": "execute_result"
    }
   ],
   "source": [
    "np.sum(df.isnull())"
   ]
  },
  {
   "cell_type": "code",
   "execution_count": 12,
   "metadata": {
    "scrolled": true
   },
   "outputs": [
    {
     "data": {
      "text/html": [
       "<div>\n",
       "<style scoped>\n",
       "    .dataframe tbody tr th:only-of-type {\n",
       "        vertical-align: middle;\n",
       "    }\n",
       "\n",
       "    .dataframe tbody tr th {\n",
       "        vertical-align: top;\n",
       "    }\n",
       "\n",
       "    .dataframe thead th {\n",
       "        text-align: right;\n",
       "    }\n",
       "</style>\n",
       "<table border=\"1\" class=\"dataframe\">\n",
       "  <thead>\n",
       "    <tr style=\"text-align: right;\">\n",
       "      <th></th>\n",
       "      <th>Unnamed: 0</th>\n",
       "      <th>event_time</th>\n",
       "      <th>order_id</th>\n",
       "      <th>product_id</th>\n",
       "      <th>category_id</th>\n",
       "      <th>category_code</th>\n",
       "      <th>brand</th>\n",
       "      <th>price</th>\n",
       "      <th>user_id</th>\n",
       "      <th>age</th>\n",
       "      <th>sex</th>\n",
       "      <th>local</th>\n",
       "      <th>Month</th>\n",
       "      <th>day</th>\n",
       "      <th>Dayofweek</th>\n",
       "      <th>hour</th>\n",
       "    </tr>\n",
       "  </thead>\n",
       "  <tbody>\n",
       "    <tr>\n",
       "      <th>0</th>\n",
       "      <td>0</td>\n",
       "      <td>2020-04-24 11:50:39</td>\n",
       "      <td>2294359932054536986</td>\n",
       "      <td>1515966223509089906</td>\n",
       "      <td>2.268105e+18</td>\n",
       "      <td>electronics.tablet</td>\n",
       "      <td>samsung</td>\n",
       "      <td>162.01</td>\n",
       "      <td>1.515916e+18</td>\n",
       "      <td>24.0</td>\n",
       "      <td>女</td>\n",
       "      <td>海南</td>\n",
       "      <td>4</td>\n",
       "      <td>24</td>\n",
       "      <td>4</td>\n",
       "      <td>11</td>\n",
       "    </tr>\n",
       "    <tr>\n",
       "      <th>1</th>\n",
       "      <td>1</td>\n",
       "      <td>2020-04-24 11:50:39</td>\n",
       "      <td>2294359932054536986</td>\n",
       "      <td>1515966223509089906</td>\n",
       "      <td>2.268105e+18</td>\n",
       "      <td>electronics.tablet</td>\n",
       "      <td>samsung</td>\n",
       "      <td>162.01</td>\n",
       "      <td>1.515916e+18</td>\n",
       "      <td>24.0</td>\n",
       "      <td>女</td>\n",
       "      <td>海南</td>\n",
       "      <td>4</td>\n",
       "      <td>24</td>\n",
       "      <td>4</td>\n",
       "      <td>11</td>\n",
       "    </tr>\n",
       "    <tr>\n",
       "      <th>2</th>\n",
       "      <td>2</td>\n",
       "      <td>2020-04-24 14:37:43</td>\n",
       "      <td>2294444024058086220</td>\n",
       "      <td>2273948319057183658</td>\n",
       "      <td>2.268105e+18</td>\n",
       "      <td>electronics.audio.headphone</td>\n",
       "      <td>huawei</td>\n",
       "      <td>77.52</td>\n",
       "      <td>1.515916e+18</td>\n",
       "      <td>38.0</td>\n",
       "      <td>女</td>\n",
       "      <td>北京</td>\n",
       "      <td>4</td>\n",
       "      <td>24</td>\n",
       "      <td>4</td>\n",
       "      <td>14</td>\n",
       "    </tr>\n",
       "    <tr>\n",
       "      <th>3</th>\n",
       "      <td>3</td>\n",
       "      <td>2020-04-24 14:37:43</td>\n",
       "      <td>2294444024058086220</td>\n",
       "      <td>2273948319057183658</td>\n",
       "      <td>2.268105e+18</td>\n",
       "      <td>electronics.audio.headphone</td>\n",
       "      <td>huawei</td>\n",
       "      <td>77.52</td>\n",
       "      <td>1.515916e+18</td>\n",
       "      <td>38.0</td>\n",
       "      <td>女</td>\n",
       "      <td>北京</td>\n",
       "      <td>4</td>\n",
       "      <td>24</td>\n",
       "      <td>4</td>\n",
       "      <td>14</td>\n",
       "    </tr>\n",
       "    <tr>\n",
       "      <th>4</th>\n",
       "      <td>4</td>\n",
       "      <td>2020-04-24 19:16:21</td>\n",
       "      <td>2294584263154074236</td>\n",
       "      <td>2273948316817424439</td>\n",
       "      <td>2.268105e+18</td>\n",
       "      <td>missing</td>\n",
       "      <td>karcher</td>\n",
       "      <td>217.57</td>\n",
       "      <td>1.515916e+18</td>\n",
       "      <td>32.0</td>\n",
       "      <td>女</td>\n",
       "      <td>广东</td>\n",
       "      <td>4</td>\n",
       "      <td>24</td>\n",
       "      <td>4</td>\n",
       "      <td>19</td>\n",
       "    </tr>\n",
       "  </tbody>\n",
       "</table>\n",
       "</div>"
      ],
      "text/plain": [
       "   Unnamed: 0          event_time             order_id           product_id  \\\n",
       "0           0 2020-04-24 11:50:39  2294359932054536986  1515966223509089906   \n",
       "1           1 2020-04-24 11:50:39  2294359932054536986  1515966223509089906   \n",
       "2           2 2020-04-24 14:37:43  2294444024058086220  2273948319057183658   \n",
       "3           3 2020-04-24 14:37:43  2294444024058086220  2273948319057183658   \n",
       "4           4 2020-04-24 19:16:21  2294584263154074236  2273948316817424439   \n",
       "\n",
       "    category_id                category_code    brand   price       user_id  \\\n",
       "0  2.268105e+18           electronics.tablet  samsung  162.01  1.515916e+18   \n",
       "1  2.268105e+18           electronics.tablet  samsung  162.01  1.515916e+18   \n",
       "2  2.268105e+18  electronics.audio.headphone   huawei   77.52  1.515916e+18   \n",
       "3  2.268105e+18  electronics.audio.headphone   huawei   77.52  1.515916e+18   \n",
       "4  2.268105e+18                      missing  karcher  217.57  1.515916e+18   \n",
       "\n",
       "    age sex local  Month  day  Dayofweek  hour  \n",
       "0  24.0   女    海南      4   24          4    11  \n",
       "1  24.0   女    海南      4   24          4    11  \n",
       "2  38.0   女    北京      4   24          4    14  \n",
       "3  38.0   女    北京      4   24          4    14  \n",
       "4  32.0   女    广东      4   24          4    19  "
      ]
     },
     "execution_count": 12,
     "metadata": {},
     "output_type": "execute_result"
    }
   ],
   "source": [
    "df.fillna('missing').head()"
   ]
  },
  {
   "cell_type": "code",
   "execution_count": 13,
   "metadata": {},
   "outputs": [
    {
     "data": {
      "text/plain": [
       "Unnamed: 0       0\n",
       "event_time       0\n",
       "order_id         0\n",
       "product_id       0\n",
       "category_id      0\n",
       "category_code    0\n",
       "brand            0\n",
       "price            0\n",
       "user_id          0\n",
       "age              0\n",
       "sex              0\n",
       "local            0\n",
       "Month            0\n",
       "day              0\n",
       "Dayofweek        0\n",
       "hour             0\n",
       "dtype: int64"
      ]
     },
     "execution_count": 13,
     "metadata": {},
     "output_type": "execute_result"
    }
   ],
   "source": [
    "df['category_code'].fillna('missing',inplace=True)\n",
    "df['brand'].fillna('missing',inplace=True)\n",
    "np.sum(df.isnull())"
   ]
  },
  {
   "cell_type": "code",
   "execution_count": 14,
   "metadata": {},
   "outputs": [
    {
     "data": {
      "text/html": [
       "<div>\n",
       "<style scoped>\n",
       "    .dataframe tbody tr th:only-of-type {\n",
       "        vertical-align: middle;\n",
       "    }\n",
       "\n",
       "    .dataframe tbody tr th {\n",
       "        vertical-align: top;\n",
       "    }\n",
       "\n",
       "    .dataframe thead th {\n",
       "        text-align: right;\n",
       "    }\n",
       "</style>\n",
       "<table border=\"1\" class=\"dataframe\">\n",
       "  <thead>\n",
       "    <tr style=\"text-align: right;\">\n",
       "      <th></th>\n",
       "      <th>Unnamed: 0</th>\n",
       "      <th>event_time</th>\n",
       "      <th>order_id</th>\n",
       "      <th>product_id</th>\n",
       "      <th>category_id</th>\n",
       "      <th>category_code</th>\n",
       "      <th>brand</th>\n",
       "      <th>price</th>\n",
       "      <th>user_id</th>\n",
       "      <th>age</th>\n",
       "      <th>sex</th>\n",
       "      <th>local</th>\n",
       "      <th>Month</th>\n",
       "      <th>day</th>\n",
       "      <th>Dayofweek</th>\n",
       "      <th>hour</th>\n",
       "    </tr>\n",
       "  </thead>\n",
       "  <tbody>\n",
       "    <tr>\n",
       "      <th>0</th>\n",
       "      <td>0</td>\n",
       "      <td>2020-04-24 11:50:39</td>\n",
       "      <td>2294359932054536986</td>\n",
       "      <td>1515966223509089906</td>\n",
       "      <td>2.268105e+18</td>\n",
       "      <td>electronics.tablet</td>\n",
       "      <td>samsung</td>\n",
       "      <td>162.01</td>\n",
       "      <td>1.515916e+18</td>\n",
       "      <td>24.0</td>\n",
       "      <td>女</td>\n",
       "      <td>海南</td>\n",
       "      <td>4</td>\n",
       "      <td>24</td>\n",
       "      <td>4</td>\n",
       "      <td>11</td>\n",
       "    </tr>\n",
       "    <tr>\n",
       "      <th>1</th>\n",
       "      <td>1</td>\n",
       "      <td>2020-04-24 11:50:39</td>\n",
       "      <td>2294359932054536986</td>\n",
       "      <td>1515966223509089906</td>\n",
       "      <td>2.268105e+18</td>\n",
       "      <td>electronics.tablet</td>\n",
       "      <td>samsung</td>\n",
       "      <td>162.01</td>\n",
       "      <td>1.515916e+18</td>\n",
       "      <td>24.0</td>\n",
       "      <td>女</td>\n",
       "      <td>海南</td>\n",
       "      <td>4</td>\n",
       "      <td>24</td>\n",
       "      <td>4</td>\n",
       "      <td>11</td>\n",
       "    </tr>\n",
       "    <tr>\n",
       "      <th>2</th>\n",
       "      <td>2</td>\n",
       "      <td>2020-04-24 14:37:43</td>\n",
       "      <td>2294444024058086220</td>\n",
       "      <td>2273948319057183658</td>\n",
       "      <td>2.268105e+18</td>\n",
       "      <td>electronics.audio.headphone</td>\n",
       "      <td>huawei</td>\n",
       "      <td>77.52</td>\n",
       "      <td>1.515916e+18</td>\n",
       "      <td>38.0</td>\n",
       "      <td>女</td>\n",
       "      <td>北京</td>\n",
       "      <td>4</td>\n",
       "      <td>24</td>\n",
       "      <td>4</td>\n",
       "      <td>14</td>\n",
       "    </tr>\n",
       "    <tr>\n",
       "      <th>3</th>\n",
       "      <td>3</td>\n",
       "      <td>2020-04-24 14:37:43</td>\n",
       "      <td>2294444024058086220</td>\n",
       "      <td>2273948319057183658</td>\n",
       "      <td>2.268105e+18</td>\n",
       "      <td>electronics.audio.headphone</td>\n",
       "      <td>huawei</td>\n",
       "      <td>77.52</td>\n",
       "      <td>1.515916e+18</td>\n",
       "      <td>38.0</td>\n",
       "      <td>女</td>\n",
       "      <td>北京</td>\n",
       "      <td>4</td>\n",
       "      <td>24</td>\n",
       "      <td>4</td>\n",
       "      <td>14</td>\n",
       "    </tr>\n",
       "    <tr>\n",
       "      <th>4</th>\n",
       "      <td>4</td>\n",
       "      <td>2020-04-24 19:16:21</td>\n",
       "      <td>2294584263154074236</td>\n",
       "      <td>2273948316817424439</td>\n",
       "      <td>2.268105e+18</td>\n",
       "      <td>missing</td>\n",
       "      <td>karcher</td>\n",
       "      <td>217.57</td>\n",
       "      <td>1.515916e+18</td>\n",
       "      <td>32.0</td>\n",
       "      <td>女</td>\n",
       "      <td>广东</td>\n",
       "      <td>4</td>\n",
       "      <td>24</td>\n",
       "      <td>4</td>\n",
       "      <td>19</td>\n",
       "    </tr>\n",
       "    <tr>\n",
       "      <th>...</th>\n",
       "      <td>...</td>\n",
       "      <td>...</td>\n",
       "      <td>...</td>\n",
       "      <td>...</td>\n",
       "      <td>...</td>\n",
       "      <td>...</td>\n",
       "      <td>...</td>\n",
       "      <td>...</td>\n",
       "      <td>...</td>\n",
       "      <td>...</td>\n",
       "      <td>...</td>\n",
       "      <td>...</td>\n",
       "      <td>...</td>\n",
       "      <td>...</td>\n",
       "      <td>...</td>\n",
       "      <td>...</td>\n",
       "    </tr>\n",
       "    <tr>\n",
       "      <th>564164</th>\n",
       "      <td>2633516</td>\n",
       "      <td>2020-11-21 10:10:01</td>\n",
       "      <td>2388440981134693942</td>\n",
       "      <td>1515966223526602848</td>\n",
       "      <td>2.268105e+18</td>\n",
       "      <td>electronics.smartphone</td>\n",
       "      <td>oppo</td>\n",
       "      <td>138.87</td>\n",
       "      <td>1.515916e+18</td>\n",
       "      <td>21.0</td>\n",
       "      <td>男</td>\n",
       "      <td>上海</td>\n",
       "      <td>11</td>\n",
       "      <td>21</td>\n",
       "      <td>5</td>\n",
       "      <td>10</td>\n",
       "    </tr>\n",
       "    <tr>\n",
       "      <th>564165</th>\n",
       "      <td>2633517</td>\n",
       "      <td>2020-11-21 10:10:13</td>\n",
       "      <td>2388440981134693943</td>\n",
       "      <td>1515966223509089282</td>\n",
       "      <td>2.268105e+18</td>\n",
       "      <td>electronics.smartphone</td>\n",
       "      <td>apple</td>\n",
       "      <td>418.96</td>\n",
       "      <td>1.515916e+18</td>\n",
       "      <td>21.0</td>\n",
       "      <td>女</td>\n",
       "      <td>北京</td>\n",
       "      <td>11</td>\n",
       "      <td>21</td>\n",
       "      <td>5</td>\n",
       "      <td>10</td>\n",
       "    </tr>\n",
       "    <tr>\n",
       "      <th>564166</th>\n",
       "      <td>2633518</td>\n",
       "      <td>2020-11-21 10:10:30</td>\n",
       "      <td>2388440981134693944</td>\n",
       "      <td>1515966223509089917</td>\n",
       "      <td>2.268105e+18</td>\n",
       "      <td>appliances.personal.scales</td>\n",
       "      <td>vitek</td>\n",
       "      <td>12.48</td>\n",
       "      <td>1.515916e+18</td>\n",
       "      <td>19.0</td>\n",
       "      <td>女</td>\n",
       "      <td>上海</td>\n",
       "      <td>11</td>\n",
       "      <td>21</td>\n",
       "      <td>5</td>\n",
       "      <td>10</td>\n",
       "    </tr>\n",
       "    <tr>\n",
       "      <th>564167</th>\n",
       "      <td>2633519</td>\n",
       "      <td>2020-11-21 10:10:30</td>\n",
       "      <td>2388440981134693944</td>\n",
       "      <td>2273948184839454837</td>\n",
       "      <td>2.268105e+18</td>\n",
       "      <td>missing</td>\n",
       "      <td>moulinex</td>\n",
       "      <td>41.64</td>\n",
       "      <td>1.515916e+18</td>\n",
       "      <td>19.0</td>\n",
       "      <td>女</td>\n",
       "      <td>上海</td>\n",
       "      <td>11</td>\n",
       "      <td>21</td>\n",
       "      <td>5</td>\n",
       "      <td>10</td>\n",
       "    </tr>\n",
       "    <tr>\n",
       "      <th>564168</th>\n",
       "      <td>2633520</td>\n",
       "      <td>2020-11-21 10:10:30</td>\n",
       "      <td>2388440981134693944</td>\n",
       "      <td>1515966223509127566</td>\n",
       "      <td>2.268105e+18</td>\n",
       "      <td>appliances.kitchen.blender</td>\n",
       "      <td>redmond</td>\n",
       "      <td>53.22</td>\n",
       "      <td>1.515916e+18</td>\n",
       "      <td>19.0</td>\n",
       "      <td>女</td>\n",
       "      <td>上海</td>\n",
       "      <td>11</td>\n",
       "      <td>21</td>\n",
       "      <td>5</td>\n",
       "      <td>10</td>\n",
       "    </tr>\n",
       "  </tbody>\n",
       "</table>\n",
       "<p>564169 rows × 16 columns</p>\n",
       "</div>"
      ],
      "text/plain": [
       "        Unnamed: 0          event_time             order_id  \\\n",
       "0                0 2020-04-24 11:50:39  2294359932054536986   \n",
       "1                1 2020-04-24 11:50:39  2294359932054536986   \n",
       "2                2 2020-04-24 14:37:43  2294444024058086220   \n",
       "3                3 2020-04-24 14:37:43  2294444024058086220   \n",
       "4                4 2020-04-24 19:16:21  2294584263154074236   \n",
       "...            ...                 ...                  ...   \n",
       "564164     2633516 2020-11-21 10:10:01  2388440981134693942   \n",
       "564165     2633517 2020-11-21 10:10:13  2388440981134693943   \n",
       "564166     2633518 2020-11-21 10:10:30  2388440981134693944   \n",
       "564167     2633519 2020-11-21 10:10:30  2388440981134693944   \n",
       "564168     2633520 2020-11-21 10:10:30  2388440981134693944   \n",
       "\n",
       "                 product_id   category_id                category_code  \\\n",
       "0       1515966223509089906  2.268105e+18           electronics.tablet   \n",
       "1       1515966223509089906  2.268105e+18           electronics.tablet   \n",
       "2       2273948319057183658  2.268105e+18  electronics.audio.headphone   \n",
       "3       2273948319057183658  2.268105e+18  electronics.audio.headphone   \n",
       "4       2273948316817424439  2.268105e+18                      missing   \n",
       "...                     ...           ...                          ...   \n",
       "564164  1515966223526602848  2.268105e+18       electronics.smartphone   \n",
       "564165  1515966223509089282  2.268105e+18       electronics.smartphone   \n",
       "564166  1515966223509089917  2.268105e+18   appliances.personal.scales   \n",
       "564167  2273948184839454837  2.268105e+18                      missing   \n",
       "564168  1515966223509127566  2.268105e+18   appliances.kitchen.blender   \n",
       "\n",
       "           brand   price       user_id   age sex local  Month  day  Dayofweek  \\\n",
       "0        samsung  162.01  1.515916e+18  24.0   女    海南      4   24          4   \n",
       "1        samsung  162.01  1.515916e+18  24.0   女    海南      4   24          4   \n",
       "2         huawei   77.52  1.515916e+18  38.0   女    北京      4   24          4   \n",
       "3         huawei   77.52  1.515916e+18  38.0   女    北京      4   24          4   \n",
       "4        karcher  217.57  1.515916e+18  32.0   女    广东      4   24          4   \n",
       "...          ...     ...           ...   ...  ..   ...    ...  ...        ...   \n",
       "564164      oppo  138.87  1.515916e+18  21.0   男    上海     11   21          5   \n",
       "564165     apple  418.96  1.515916e+18  21.0   女    北京     11   21          5   \n",
       "564166     vitek   12.48  1.515916e+18  19.0   女    上海     11   21          5   \n",
       "564167  moulinex   41.64  1.515916e+18  19.0   女    上海     11   21          5   \n",
       "564168   redmond   53.22  1.515916e+18  19.0   女    上海     11   21          5   \n",
       "\n",
       "        hour  \n",
       "0         11  \n",
       "1         11  \n",
       "2         14  \n",
       "3         14  \n",
       "4         19  \n",
       "...      ...  \n",
       "564164    10  \n",
       "564165    10  \n",
       "564166    10  \n",
       "564167    10  \n",
       "564168    10  \n",
       "\n",
       "[564169 rows x 16 columns]"
      ]
     },
     "execution_count": 14,
     "metadata": {},
     "output_type": "execute_result"
    }
   ],
   "source": [
    "df.duplicated()\n",
    "df.drop_duplicates()"
   ]
  },
  {
   "cell_type": "code",
   "execution_count": 18,
   "metadata": {},
   "outputs": [
    {
     "data": {
      "image/png": "[encoded data removed]",
      "text/plain": [
       "<Figure size 720x360 with 1 Axes>"
      ]
     },
     "metadata": {
      "needs_background": "light"
     },
     "output_type": "display_data"
    }
   ],
   "source": [
    "plt.rcParams['font.sans-serif']=['SimHei']\n",
    "plt.rcParams['axes.unicode_minus']=False\n",
    "def store_plot(data,xlab,ylab,title):\n",
    "    plt.figure(figsize=(10,5))\n",
    "    plt.plot(data)\n",
    "    plt.xlabel(xlab)\n",
    "    plt.ylabel(ylab)\n",
    "    plt.title(title)\n",
    "store_plot(data=df[df['price']>0].groupby('Month')['price'].sum(),\n",
    "          xlab='月份',ylab='成交金额',title='每月成交金额')"
   ]
  },
  {
   "cell_type": "code",
   "execution_count": 19,
   "metadata": {},
   "outputs": [
    {
     "data": {
      "image/png": "[encoded data removed]",
      "text/plain": [
       "<Figure size 720x360 with 1 Axes>"
      ]
     },
     "metadata": {
      "needs_background": "light"
     },
     "output_type": "display_data"
    }
   ],
   "source": [
    "store_plot(data=df[df['price']>0].groupby('Month')['user_id'].nunique(),xlab='月份',ylab='消费人数',title='每月消费人数')"
   ]
  },
  {
   "cell_type": "code",
   "execution_count": 20,
   "metadata": {},
   "outputs": [
    {
     "data": {
      "image/png": "[encoded data removed]",
      "text/plain": [
       "<Figure size 720x360 with 1 Axes>"
      ]
     },
     "metadata": {
      "needs_background": "light"
     },
     "output_type": "display_data"
    }
   ],
   "source": [
    "store_plot(data=df[df['price']>0].groupby('Month')['order_id'].nunique(),\n",
    "          xlab='月份',\n",
    "          ylab='订单数量',\n",
    "          title='每月订单数量')"
   ]
  },
  {
   "cell_type": "code",
   "execution_count": 21,
   "metadata": {},
   "outputs": [
    {
     "data": {
      "image/png": "[encoded data removed]",
      "text/plain": [
       "<Figure size 720x360 with 1 Axes>"
      ]
     },
     "metadata": {
      "needs_background": "light"
     },
     "output_type": "display_data"
    }
   ],
   "source": [
    "store_plot(data=df[df['price']>0].groupby('Month')['price'].sum()/df[df['price']>0].groupby('Month')['order_id'].nunique(),\n",
    "          xlab='月份',\n",
    "          ylab='客单价',\n",
    "          title='每月客单价')"
   ]
  },
  {
   "cell_type": "code",
   "execution_count": 22,
   "metadata": {},
   "outputs": [],
   "source": [
    "import matplotlib.pyplot as plt\n",
    "plt.rcParams['font.sans-serif']=['KaiTi']\n",
    "plt.rcParams['axes.unicode_minus']=False"
   ]
  },
  {
   "cell_type": "code",
   "execution_count": 24,
   "metadata": {},
   "outputs": [
    {
     "data": {
      "text/plain": [
       "Text(0.5, 1.0, '不同省份用户数量')"
      ]
     },
     "execution_count": 24,
     "metadata": {},
     "output_type": "execute_result"
    },
    {
     "data": {
      "image/png": "[encoded data removed]",
      "text/plain": [
       "<Figure size 864x576 with 1 Axes>"
      ]
     },
     "metadata": {
      "needs_background": "light"
     },
     "output_type": "display_data"
    }
   ],
   "source": [
    "plt.figure(figsize=(12,8))\n",
    "df[df['price']>0].groupby('local')['user_id'].nunique().sort_values(ascending=True).plot.barh()\n",
    "plt.xlabel('用户数量')\n",
    "plt.ylabel('省份')\n",
    "plt.title('不同省份用户数量')"
   ]
  },
  {
   "cell_type": "code",
   "execution_count": 25,
   "metadata": {},
   "outputs": [
    {
     "data": {
      "text/plain": [
       "Text(0.5, 1.0, '不同省份订单数量')"
      ]
     },
     "execution_count": 25,
     "metadata": {},
     "output_type": "execute_result"
    },
    {
     "data": {
      "image/png": "[encoded data removed]",
      "text/plain": [
       "<Figure size 864x576 with 1 Axes>"
      ]
     },
     "metadata": {
      "needs_background": "light"
     },
     "output_type": "display_data"
    }
   ],
   "source": [
    "plt.figure(figsize=(12,8))\n",
    "df[df['price']>0].groupby('local')['order_id'].nunique().sort_values(ascending=True).plot.barh()\n",
    "plt.xlabel('订单数量')\n",
    "plt.ylabel('省份')\n",
    "plt.title('不同省份订单数量')"
   ]
  },
  {
   "cell_type": "code",
   "execution_count": 26,
   "metadata": {},
   "outputs": [
    {
     "data": {
      "text/plain": [
       "Text(0.5, 1.0, '不同省份成交金额')"
      ]
     },
     "execution_count": 26,
     "metadata": {},
     "output_type": "execute_result"
    },
    {
     "data": {
      "image/png": "[encoded data removed]",
      "text/plain": [
       "<Figure size 864x576 with 1 Axes>"
      ]
     },
     "metadata": {
      "needs_background": "light"
     },
     "output_type": "display_data"
    }
   ],
   "source": [
    "plt.figure(figsize=(12,8))\n",
    "df[df['price']>0].groupby('local')['price'].sum().sort_values(ascending=True).plot.barh()\n",
    "plt.xlabel('成交金额')\n",
    "plt.ylabel('省份')\n",
    "plt.title('不同省份成交金额')"
   ]
  },
  {
   "cell_type": "code",
   "execution_count": 27,
   "metadata": {},
   "outputs": [
    {
     "data": {
      "text/plain": [
       "Text(0.5, 1.0, '订单数随星期变化')"
      ]
     },
     "execution_count": 27,
     "metadata": {},
     "output_type": "execute_result"
    },
    {
     "data": {
      "image/png": "[encoded data removed]",
      "text/plain": [
       "<Figure size 864x576 with 1 Axes>"
      ]
     },
     "metadata": {
      "needs_background": "light"
     },
     "output_type": "display_data"
    }
   ],
   "source": [
    "plt.figure(figsize=(12,8))\n",
    "df[df['price']>0].groupby('Dayofweek')['order_id'].nunique().plot.bar()\n",
    "plt.xticks(range(7),['周一','周二','周三','周四','周五','周六','周日'],rotation=0)\n",
    "plt.xlabel('星期')\n",
    "plt.ylabel('订单数')\n",
    "plt.title('订单数随星期变化')"
   ]
  },
  {
   "cell_type": "code",
   "execution_count": 28,
   "metadata": {},
   "outputs": [
    {
     "data": {
      "text/plain": [
       "Text(0.5, 1.0, '订单随小时数变化')"
      ]
     },
     "execution_count": 28,
     "metadata": {},
     "output_type": "execute_result"
    },
    {
     "data": {
      "image/png": "[encoded data removed]",
      "text/plain": [
       "<Figure size 864x576 with 1 Axes>"
      ]
     },
     "metadata": {
      "needs_background": "light"
     },
     "output_type": "display_data"
    }
   ],
   "source": [
    "plt.figure(figsize=(12,8))\n",
    "df[df['price']>0].groupby('hour')['order_id'].nunique().plot()\n",
    "plt.xlabel('小时')\n",
    "plt.ylabel('订单数')\n",
    "plt.title('订单随小时数变化')"
   ]
  },
  {
   "cell_type": "code",
   "execution_count": 29,
   "metadata": {},
   "outputs": [
    {
     "data": {
      "text/plain": [
       "Unnamed: 0       39\n",
       "event_time       39\n",
       "order_id         39\n",
       "product_id       39\n",
       "category_id      39\n",
       "category_code    39\n",
       "brand            39\n",
       "price            39\n",
       "user_id          39\n",
       "age              39\n",
       "sex              39\n",
       "local            39\n",
       "Month            39\n",
       "day              39\n",
       "Dayofweek        39\n",
       "hour             39\n",
       "dtype: int64"
      ]
     },
     "execution_count": 29,
     "metadata": {},
     "output_type": "execute_result"
    }
   ],
   "source": [
    "df[df['price']==0].count()"
   ]
  },
  {
   "cell_type": "code",
   "execution_count": 30,
   "metadata": {},
   "outputs": [
    {
     "data": {
      "text/html": [
       "<div>\n",
       "<style scoped>\n",
       "    .dataframe tbody tr th:only-of-type {\n",
       "        vertical-align: middle;\n",
       "    }\n",
       "\n",
       "    .dataframe tbody tr th {\n",
       "        vertical-align: top;\n",
       "    }\n",
       "\n",
       "    .dataframe thead th {\n",
       "        text-align: right;\n",
       "    }\n",
       "</style>\n",
       "<table border=\"1\" class=\"dataframe\">\n",
       "  <thead>\n",
       "    <tr style=\"text-align: right;\">\n",
       "      <th></th>\n",
       "      <th>order_id</th>\n",
       "      <th>price</th>\n",
       "    </tr>\n",
       "  </thead>\n",
       "  <tbody>\n",
       "    <tr>\n",
       "      <th>count</th>\n",
       "      <td>93818.000000</td>\n",
       "      <td>93818.000000</td>\n",
       "    </tr>\n",
       "    <tr>\n",
       "      <th>mean</th>\n",
       "      <td>4.269074</td>\n",
       "      <td>1252.415276</td>\n",
       "    </tr>\n",
       "    <tr>\n",
       "      <th>std</th>\n",
       "      <td>18.191671</td>\n",
       "      <td>4205.922011</td>\n",
       "    </tr>\n",
       "    <tr>\n",
       "      <th>min</th>\n",
       "      <td>1.000000</td>\n",
       "      <td>0.020000</td>\n",
       "    </tr>\n",
       "    <tr>\n",
       "      <th>25%</th>\n",
       "      <td>1.000000</td>\n",
       "      <td>145.680000</td>\n",
       "    </tr>\n",
       "    <tr>\n",
       "      <th>50%</th>\n",
       "      <td>2.000000</td>\n",
       "      <td>460.580000</td>\n",
       "    </tr>\n",
       "    <tr>\n",
       "      <th>75%</th>\n",
       "      <td>3.000000</td>\n",
       "      <td>1152.570000</td>\n",
       "    </tr>\n",
       "    <tr>\n",
       "      <th>max</th>\n",
       "      <td>666.000000</td>\n",
       "      <td>165439.030000</td>\n",
       "    </tr>\n",
       "  </tbody>\n",
       "</table>\n",
       "</div>"
      ],
      "text/plain": [
       "           order_id          price\n",
       "count  93818.000000   93818.000000\n",
       "mean       4.269074    1252.415276\n",
       "std       18.191671    4205.922011\n",
       "min        1.000000       0.020000\n",
       "25%        1.000000     145.680000\n",
       "50%        2.000000     460.580000\n",
       "75%        3.000000    1152.570000\n",
       "max      666.000000  165439.030000"
      ]
     },
     "execution_count": 30,
     "metadata": {},
     "output_type": "execute_result"
    }
   ],
   "source": [
    "df[df['price']>0].groupby('user_id').agg({'order_id':'nunique','price':'sum'}).describe()"
   ]
  },
  {
   "cell_type": "code",
   "execution_count": 31,
   "metadata": {},
   "outputs": [
    {
     "data": {
      "image/png": "[encoded data removed]",
      "text/plain": [
       "<Figure size 864x576 with 1 Axes>"
      ]
     },
     "metadata": {
      "needs_background": "light"
     },
     "output_type": "display_data"
    }
   ],
   "source": [
    "plt.figure(figsize=(12,8))\n",
    "plt.scatter(x=df[df['price']>0].groupby('user_id')['order_id'].nunique(),\n",
    "           y=df[df['price']>0].groupby('user_id')['price'].sum())\n",
    "plt.xlabel('消费次数')\n",
    "plt.ylabel('消费金额')\n",
    "plt.title('消费次数与消费金额关系')\n",
    "plt.savefig('消费次数与消费金额关系.jpeg')"
   ]
  },
  {
   "cell_type": "markdown",
   "metadata": {},
   "source": [
    "## 用户消费周期"
   ]
  },
  {
   "cell_type": "code",
   "execution_count": 32,
   "metadata": {},
   "outputs": [
    {
     "data": {
      "text/plain": [
       "count    470312.000000\n",
       "mean          9.665354\n",
       "std         377.617753\n",
       "min      -18452.000000\n",
       "25%           0.000000\n",
       "50%           0.000000\n",
       "75%           1.000000\n",
       "max       18557.000000\n",
       "Name: event_time, dtype: float64"
      ]
     },
     "execution_count": 32,
     "metadata": {},
     "output_type": "execute_result"
    }
   ],
   "source": [
    "purchase_time=df[df['price']>0].groupby('user_id').apply(lambda x: x['event_time']-x['event_time'].shift()).dt.days\n",
    "purchase_time.describe()"
   ]
  },
  {
   "cell_type": "code",
   "execution_count": 33,
   "metadata": {},
   "outputs": [
    {
     "data": {
      "text/plain": [
       "count    125636.000000\n",
       "mean         46.194204\n",
       "std         638.377648\n",
       "min           1.000000\n",
       "25%           3.000000\n",
       "50%           9.000000\n",
       "75%          30.000000\n",
       "max       18557.000000\n",
       "Name: event_time, dtype: float64"
      ]
     },
     "execution_count": 33,
     "metadata": {},
     "output_type": "execute_result"
    }
   ],
   "source": [
    "purchase_time[purchase_time>0].describe()"
   ]
  },
  {
   "cell_type": "markdown",
   "metadata": {},
   "source": [
    "新用户数量、活跃用户、不活跃用户、回流用户、回流率"
   ]
  },
  {
   "cell_type": "code",
   "execution_count": 36,
   "metadata": {},
   "outputs": [
    {
     "ename": "NameError",
     "evalue": "name 'plot' is not defined",
     "output_type": "error",
     "traceback": [
      "\u001b[1;31m---------------------------------------------------------------------------\u001b[0m",
      "\u001b[1;31mNameError\u001b[0m                                 Traceback (most recent call last)",
      "\u001b[1;32m<ipython-input-36-16c7ae6a0153>\u001b[0m in \u001b[0;36m<module>\u001b[1;34m\u001b[0m\n\u001b[0;32m     33\u001b[0m \u001b[0mpurchase_status_counts\u001b[0m\u001b[1;33m=\u001b[0m \u001b[0mpivoted_purchase_status\u001b[0m\u001b[1;33m.\u001b[0m\u001b[0mreplace\u001b[0m\u001b[1;33m(\u001b[0m\u001b[1;34m'unreg'\u001b[0m\u001b[1;33m,\u001b[0m\u001b[0mnp\u001b[0m\u001b[1;33m.\u001b[0m\u001b[0mNaN\u001b[0m\u001b[1;33m)\u001b[0m\u001b[1;33m.\u001b[0m\u001b[0mapply\u001b[0m\u001b[1;33m(\u001b[0m\u001b[1;32mlambda\u001b[0m \u001b[0mx\u001b[0m\u001b[1;33m:\u001b[0m\u001b[0mpd\u001b[0m\u001b[1;33m.\u001b[0m\u001b[0mvalue_counts\u001b[0m\u001b[1;33m(\u001b[0m\u001b[0mx\u001b[0m\u001b[1;33m)\u001b[0m\u001b[1;33m)\u001b[0m\u001b[1;33m\u001b[0m\u001b[1;33m\u001b[0m\u001b[0m\n\u001b[0;32m     34\u001b[0m \u001b[0mpurchase_status_counts\u001b[0m\u001b[1;33m.\u001b[0m\u001b[0mfillna\u001b[0m\u001b[1;33m(\u001b[0m\u001b[1;36m0\u001b[0m\u001b[1;33m)\u001b[0m\u001b[1;33m.\u001b[0m\u001b[0mT\u001b[0m\u001b[1;33m.\u001b[0m\u001b[0mplot\u001b[0m\u001b[1;33m.\u001b[0m\u001b[0marea\u001b[0m\u001b[1;33m(\u001b[0m\u001b[0mfigsize\u001b[0m\u001b[1;33m=\u001b[0m\u001b[1;33m(\u001b[0m\u001b[1;36m12\u001b[0m\u001b[1;33m,\u001b[0m\u001b[1;36m6\u001b[0m\u001b[1;33m)\u001b[0m\u001b[1;33m)\u001b[0m\u001b[1;33m\u001b[0m\u001b[1;33m\u001b[0m\u001b[0m\n\u001b[1;32m---> 35\u001b[1;33m \u001b[0mplot\u001b[0m\u001b[1;33m.\u001b[0m\u001b[0mxticks\u001b[0m\u001b[1;33m(\u001b[0m\u001b[0mrange\u001b[0m\u001b[1;33m(\u001b[0m\u001b[1;36m12\u001b[0m\u001b[1;33m)\u001b[0m\u001b[1;33m,\u001b[0m\u001b[0mcolumns_month\u001b[0m\u001b[1;33m)\u001b[0m\u001b[1;33m\u001b[0m\u001b[1;33m\u001b[0m\u001b[0m\n\u001b[0m\u001b[0;32m     36\u001b[0m \u001b[0mplt\u001b[0m\u001b[1;33m.\u001b[0m\u001b[0mtitle\u001b[0m\u001b[1;33m(\u001b[0m\u001b[1;34m'用户分层'\u001b[0m\u001b[1;33m)\u001b[0m\u001b[1;33m\u001b[0m\u001b[1;33m\u001b[0m\u001b[0m\n",
      "\u001b[1;31mNameError\u001b[0m: name 'plot' is not defined"
     ]
    },
    {
     "data": {
      "image/png": "[encoded data removed]",
      "text/plain": [
       "<Figure size 864x432 with 1 Axes>"
      ]
     },
     "metadata": {
      "needs_background": "light"
     },
     "output_type": "display_data"
    }
   ],
   "source": [
    "pivoted_amount = df[df['price']>0].pivot_table(index='user_id',\n",
    "                                              columns='Month',\n",
    "                                              values='price',\n",
    "                                              aggfunc='mean').fillna(0)\n",
    "columns_month = df['Month'].sort_values().astype('str').unique()\n",
    "pivoted_amount.columns = columns_month\n",
    "pivoted_purchase = pivoted_amount.applymap(lambda x:1 if x>0 else 0)\n",
    "def active_status(data):\n",
    "    status =[]\n",
    "    for i in range(11):\n",
    "        #若本月没有消费\n",
    "        if data[i] ==0:\n",
    "            if len(status)>0:\n",
    "                if status[i-1]=='unreg':\n",
    "                    status.append('unreg')\n",
    "                else:\n",
    "                    status.append('unactive')\n",
    "            else:\n",
    "                status.append('unreg')\n",
    "        #若本月消费\n",
    "        else:\n",
    "            if len(status)==0:\n",
    "                status.append('new')\n",
    "            else:\n",
    "                if status[i-1]=='unactive':\n",
    "                    status.append('return')\n",
    "                elif status[i-1]=='unreg':\n",
    "                    status.append('new')\n",
    "                else:\n",
    "                    status.append('active')\n",
    "    return pd.Series(status,index=columns_month)\n",
    "pivoted_purchase_status = pivoted_purchase.apply(lambda x:active_status(x),axis=1)\n",
    "purchase_status_counts= pivoted_purchase_status.replace('unreg',np.NaN).apply(lambda x:pd.value_counts(x))\n",
    "purchase_status_counts.fillna(0).T.plot.area(figsize=(12,6))\n",
    "plot.xticks(range(12),columns_month)\n",
    "plt.title('用户分层')"
   ]
  },
  {
   "cell_type": "code",
   "execution_count": null,
   "metadata": {},
   "outputs": [],
   "source": []
  }
 ],
 "metadata": {
  "kernelspec": {
   "display_name": "Python 3",
   "language": "python",
   "name": "python3"
  },
  "language_info": {
   "codemirror_mode": {
    "name": "ipython",
    "version": 3
   },
   "file_extension": ".py",
   "mimetype": "text/x-python",
   "name": "python",
   "nbconvert_exporter": "python",
   "pygments_lexer": "ipython3",
   "version": "3.8.5"
  }
 },
 "nbformat": 4,
 "nbformat_minor": 4
}
